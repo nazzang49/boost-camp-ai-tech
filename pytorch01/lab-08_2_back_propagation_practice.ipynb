{
 "cells": [
  {
   "cell_type": "code",
   "execution_count": 124,
   "metadata": {},
   "outputs": [
    {
     "data": {
      "text/plain": [
       "'\\n    Back Propagation Practice\\n'"
      ]
     },
     "execution_count": 124,
     "metadata": {},
     "output_type": "execute_result"
    }
   ],
   "source": [
    "'''\n",
    "    Back Propagation Practice\n",
    "'''"
   ]
  },
  {
   "cell_type": "code",
   "execution_count": 125,
   "metadata": {},
   "outputs": [],
   "source": [
    "import torch\n",
    "import torch.nn as nn\n",
    "import torch.nn.functional as F\n",
    "import torch.optim as optim"
   ]
  },
  {
   "cell_type": "code",
   "execution_count": 126,
   "metadata": {},
   "outputs": [],
   "source": [
    "device = 'cuda' if torch.cuda.is_available() else 'cpu'\n",
    "\n",
    "# for reproducibility\n",
    "torch.manual_seed(777)\n",
    "if device == 'cuda':\n",
    "    torch.cuda.manual_seed_all(777)"
   ]
  },
  {
   "cell_type": "code",
   "execution_count": 127,
   "metadata": {},
   "outputs": [],
   "source": [
    "X = torch.FloatTensor([[0, 0], [0, 1], [1, 0], [1, 1]]).to(device)\n",
    "Y = torch.FloatTensor([[0], [1], [1], [0]]).to(device)"
   ]
  },
  {
   "cell_type": "code",
   "execution_count": 128,
   "metadata": {},
   "outputs": [],
   "source": [
    "# w1 => input 2-dim / output 2-dim\n",
    "w1 = torch.Tensor(2, 2).to(device)\n",
    "b1 = torch.Tensor(2).to(device)\n",
    "\n",
    "# w1 => input 2-dim / output 1-dim\n",
    "w2 = torch.Tensor(2, 1).to(device)\n",
    "b2 = torch.Tensor(1).to(device)"
   ]
  },
  {
   "cell_type": "code",
   "execution_count": 129,
   "metadata": {},
   "outputs": [],
   "source": [
    "# x => linear hypothesis\n",
    "def sigmoid(x):\n",
    "    return 1.0 / (1.0 + torch.exp(-x))"
   ]
  },
  {
   "cell_type": "code",
   "execution_count": 130,
   "metadata": {},
   "outputs": [],
   "source": [
    "# dx of sigmoid\n",
    "def sigmoid_prime(x):\n",
    "    return sigmoid(x) * (1 - sigmoid(x))"
   ]
  },
  {
   "cell_type": "code",
   "execution_count": 131,
   "metadata": {
    "collapsed": true
   },
   "outputs": [
    {
     "name": "stdout",
     "output_type": "stream",
     "text": [
      "0 nan\n",
      "100 nan\n",
      "200 nan\n",
      "300 nan\n",
      "400 nan\n",
      "500 nan\n",
      "600 nan\n",
      "700 nan\n",
      "800 nan\n",
      "900 nan\n",
      "1000 nan\n",
      "1100 nan\n",
      "1200 nan\n",
      "1300 nan\n",
      "1400 nan\n",
      "1500 nan\n",
      "1600 nan\n",
      "1700 nan\n",
      "1800 nan\n",
      "1900 nan\n",
      "2000 nan\n",
      "2100 nan\n",
      "2200 nan\n",
      "2300 nan\n",
      "2400 nan\n",
      "2500 nan\n",
      "2600 nan\n",
      "2700 nan\n",
      "2800 nan\n",
      "2900 nan\n",
      "3000 nan\n",
      "3100 nan\n",
      "3200 nan\n",
      "3300 nan\n",
      "3400 nan\n",
      "3500 nan\n",
      "3600 nan\n",
      "3700 nan\n",
      "3800 nan\n",
      "3900 nan\n",
      "4000 nan\n",
      "4100 nan\n",
      "4200 nan\n",
      "4300 nan\n",
      "4400 nan\n",
      "4500 nan\n",
      "4600 nan\n",
      "4700 nan\n",
      "4800 nan\n",
      "4900 nan\n",
      "5000 nan\n",
      "5100 nan\n",
      "5200 nan\n",
      "5300 nan\n",
      "5400 nan\n",
      "5500 nan\n",
      "5600 nan\n",
      "5700 nan\n",
      "5800 nan\n",
      "5900 nan\n",
      "6000 nan\n",
      "6100 nan\n",
      "6200 nan\n",
      "6300 nan\n",
      "6400 nan\n",
      "6500 nan\n",
      "6600 nan\n",
      "6700 nan\n",
      "6800 nan\n",
      "6900 nan\n",
      "7000 nan\n",
      "7100 nan\n",
      "7200 nan\n",
      "7300 nan\n",
      "7400 nan\n",
      "7500 nan\n",
      "7600 nan\n",
      "7700 nan\n",
      "7800 nan\n",
      "7900 nan\n",
      "8000 nan\n",
      "8100 nan\n",
      "8200 nan\n",
      "8300 nan\n",
      "8400 nan\n",
      "8500 nan\n",
      "8600 nan\n",
      "8700 nan\n",
      "8800 nan\n",
      "8900 nan\n",
      "9000 nan\n",
      "9100 nan\n",
      "9200 nan\n",
      "9300 nan\n",
      "9400 nan\n",
      "9500 nan\n",
      "9600 nan\n",
      "9700 nan\n",
      "9800 nan\n",
      "9900 nan\n",
      "10000 nan\n"
     ]
    }
   ],
   "source": [
    "learning_rate = 0.01\n",
    "for step in range(10001):\n",
    "    '''\n",
    "        forward\n",
    "    '''\n",
    "    # X => original input\n",
    "    l1 = torch.add(torch.matmul(X, w1), b1)\n",
    "    a1 = sigmoid(l1)\n",
    "    \n",
    "    # a1 => new input\n",
    "    l2 = torch.add(torch.matmul(a1, w2), b2)\n",
    "    Y_pred = sigmoid(l2)\n",
    "    \n",
    "    # BCE => 0 or 1\n",
    "    cost = -torch.mean(Y * torch.log(Y_pred) + (1 - Y) * torch.log(1 - Y_pred))\n",
    "    \n",
    "    '''\n",
    "        backward\n",
    "    '''\n",
    "    # BCE loss derivative\n",
    "    d_Y_pred = (Y_pred - Y) / (Y_pred * (1.0 - Y_pred) + 1e-7)\n",
    "    \n",
    "    # L2 derivative\n",
    "    d_l2 = d_Y_pred * sigmoid_prime(l2)\n",
    "    d_b2 = d_l2\n",
    "    d_w2 = torch.matmul(torch.transpose(a1, 0, 1), d_b2)\n",
    "    \n",
    "    # L1 derivative\n",
    "    d_a1 = torch.matmul(d_b2, torch.transpose(w2, 0, 1))\n",
    "    d_l1 = d_a1 * sigmoid_prime(l1)\n",
    "    d_b1 = d_l1\n",
    "    d_w1 = torch.matmul(torch.transpose(X, 0, 1), d_b1)\n",
    "    \n",
    "    '''\n",
    "        update parameters\n",
    "    '''\n",
    "    w1 = w1 - learning_rate * d_w1\n",
    "    b1 = b1 - learning_rate * torch.mean(d_b1, 0)\n",
    "    \n",
    "    w2 = w2 - learning_rate * d_w2\n",
    "    b2 = b2 - learning_rate * torch.mean(d_b2, 0)\n",
    "    \n",
    "    if step % 100 == 0:\n",
    "        print(step, cost.item())"
   ]
  }
 ],
 "metadata": {
  "kernelspec": {
   "display_name": "Python 3",
   "language": "python",
   "name": "python3"
  },
  "language_info": {
   "codemirror_mode": {
    "name": "ipython",
    "version": 3
   },
   "file_extension": ".py",
   "mimetype": "text/x-python",
   "name": "python",
   "nbconvert_exporter": "python",
   "pygments_lexer": "ipython3",
   "version": "3.6.7"
  }
 },
 "nbformat": 4,
 "nbformat_minor": 2
}
