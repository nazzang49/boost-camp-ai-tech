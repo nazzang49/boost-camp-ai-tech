{
  "nbformat": 4,
  "nbformat_minor": 0,
  "metadata": {
    "kernelspec": {
      "display_name": "gpuenv",
      "language": "python",
      "name": "gpuenv"
    },
    "language_info": {
      "codemirror_mode": {
        "name": "ipython",
        "version": 3
      },
      "file_extension": ".py",
      "mimetype": "text/x-python",
      "name": "python",
      "nbconvert_exporter": "python",
      "pygments_lexer": "ipython3",
      "version": "3.6.13"
    },
    "toc": {
      "base_numbering": 1,
      "nav_menu": {},
      "number_sections": true,
      "sideBar": true,
      "skip_h1_title": false,
      "title_cell": "Table of Contents",
      "title_sidebar": "Contents",
      "toc_cell": false,
      "toc_position": {},
      "toc_section_display": true,
      "toc_window_display": false
    },
    "colab": {
      "name": "basic.ipynb",
      "provenance": [],
      "include_colab_link": true
    }
  },
  "cells": [
    {
      "cell_type": "markdown",
      "metadata": {
        "id": "view-in-github",
        "colab_type": "text"
      },
      "source": [
        "<a href=\"https://colab.research.google.com/github/nazzang49/boost-camp-ai-tech/blob/main/math/basic.ipynb\" target=\"_parent\"><img src=\"https://colab.research.google.com/assets/colab-badge.svg\" alt=\"Open In Colab\"/></a>"
      ]
    },
    {
      "cell_type": "code",
      "metadata": {
        "id": "wd0Mi85BpFsb"
      },
      "source": [
        "import numpy as np"
      ],
      "execution_count": null,
      "outputs": []
    },
    {
      "cell_type": "code",
      "metadata": {
        "id": "-DJ1vEHypFsd",
        "outputId": "da037bc3-ecb9-4237-9a0f-fda3c9d5f6df"
      },
      "source": [
        "# 문자열 => 자동으로 dtype 에 맞춰 변경\n",
        "arr = np.array([1, 2, 3, 4, \"5\", \"6\"], dtype=np.float32)\n",
        "print(arr)\n",
        "print(arr.shape)\n",
        "\n",
        "# 차원수\n",
        "print(arr.ndim)\n",
        "# 데이터 갯수\n",
        "print(arr.size)\n",
        "# 사이즈는 동일하나 형태 변경 => 2 x 3 행렬\n",
        "# reshape(-1, 4) => -1 = 컬럼 사이즈 유지하면서 알아서 row 사이즈 반영해 줌\n",
        "print(arr.reshape(2, 3))"
      ],
      "execution_count": null,
      "outputs": [
        {
          "output_type": "stream",
          "text": [
            "[1. 2. 3. 4. 5. 6.]\n",
            "(6,)\n",
            "1\n",
            "6\n",
            "[[1. 2. 3.]\n",
            " [4. 5. 6.]]\n"
          ],
          "name": "stdout"
        }
      ]
    },
    {
      "cell_type": "code",
      "metadata": {
        "id": "dLKGmkLapFse",
        "outputId": "282107a0-57f2-4933-9c94-fda232721551"
      },
      "source": [
        "np.arange(100)"
      ],
      "execution_count": null,
      "outputs": [
        {
          "output_type": "execute_result",
          "data": {
            "text/plain": [
              "array([ 0,  1,  2,  3,  4,  5,  6,  7,  8,  9, 10, 11, 12, 13, 14, 15, 16,\n",
              "       17, 18, 19, 20, 21, 22, 23, 24, 25, 26, 27, 28, 29, 30, 31, 32, 33,\n",
              "       34, 35, 36, 37, 38, 39, 40, 41, 42, 43, 44, 45, 46, 47, 48, 49, 50,\n",
              "       51, 52, 53, 54, 55, 56, 57, 58, 59, 60, 61, 62, 63, 64, 65, 66, 67,\n",
              "       68, 69, 70, 71, 72, 73, 74, 75, 76, 77, 78, 79, 80, 81, 82, 83, 84,\n",
              "       85, 86, 87, 88, 89, 90, 91, 92, 93, 94, 95, 96, 97, 98, 99])"
            ]
          },
          "metadata": {
            "tags": []
          },
          "execution_count": 24
        }
      ]
    },
    {
      "cell_type": "code",
      "metadata": {
        "id": "uEM3dgRBpFsf",
        "outputId": "40ddd8bf-6d96-4bf4-cb98-9b90ad5521bf"
      },
      "source": [
        "# 시작 / 끝 / 스텝\n",
        "# 메소드 체이닝 적용 가능\n",
        "np.arange(1, 100, 10).reshape(2, 5)"
      ],
      "execution_count": null,
      "outputs": [
        {
          "output_type": "execute_result",
          "data": {
            "text/plain": [
              "array([[ 1, 11, 21, 31, 41],\n",
              "       [51, 61, 71, 81, 91]])"
            ]
          },
          "metadata": {
            "tags": []
          },
          "execution_count": 26
        }
      ]
    },
    {
      "cell_type": "code",
      "metadata": {
        "id": "lguscFpUpFsg",
        "outputId": "e4223d84-61b9-4e9b-8b3d-ea962e514556"
      },
      "source": [
        "# 기본 실수형\n",
        "np.zeros((2, 10), dtype=np.int8)"
      ],
      "execution_count": null,
      "outputs": [
        {
          "output_type": "execute_result",
          "data": {
            "text/plain": [
              "array([[0, 0, 0, 0, 0, 0, 0, 0, 0, 0],\n",
              "       [0, 0, 0, 0, 0, 0, 0, 0, 0, 0]], dtype=int8)"
            ]
          },
          "metadata": {
            "tags": []
          },
          "execution_count": 28
        }
      ]
    },
    {
      "cell_type": "code",
      "metadata": {
        "id": "RYYe_tjXpFsg",
        "outputId": "ad024df1-8f60-453e-8a85-e80a8f84b40c"
      },
      "source": [
        "# 대각 성분 추출\n",
        "matrix = np.arange(9).reshape(3, 3)\n",
        "# k => 시작 인덱스\n",
        "np.diag(matrix, k=2)"
      ],
      "execution_count": null,
      "outputs": [
        {
          "output_type": "execute_result",
          "data": {
            "text/plain": [
              "array([2])"
            ]
          },
          "metadata": {
            "tags": []
          },
          "execution_count": 30
        }
      ]
    },
    {
      "cell_type": "code",
      "metadata": {
        "id": "pvDUUC7gpFsh",
        "outputId": "a1eccf26-5a02-4187-9e03-f3526fe1c84e"
      },
      "source": [
        "# 모든 row 합\n",
        "print(matrix.sum(axis=0))\n",
        "# 모든 col 합\n",
        "print(matrix.sum(axis=1))"
      ],
      "execution_count": null,
      "outputs": [
        {
          "output_type": "stream",
          "text": [
            "[ 9 12 15]\n",
            "[ 3 12 21]\n"
          ],
          "name": "stdout"
        }
      ]
    },
    {
      "cell_type": "code",
      "metadata": {
        "id": "ZhBEf-gTpFsh",
        "outputId": "d1a1dc12-821e-459c-d2d1-9b9f37817317"
      },
      "source": [
        "# concat => vstack / hstack\n",
        "matrix_a = np.arange(10).reshape(2, 5)\n",
        "matrix_b = np.arange(10).reshape(2, 5)\n",
        "\n",
        "# 수직 기준 합치기\n",
        "np.vstack((matrix_a, matrix_b))\n",
        "# 수평 기준 합치기\n",
        "np.hstack((matrix_a, matrix_b))"
      ],
      "execution_count": null,
      "outputs": [
        {
          "output_type": "execute_result",
          "data": {
            "text/plain": [
              "array([[0, 1, 2, 3, 4, 0, 1, 2, 3, 4],\n",
              "       [5, 6, 7, 8, 9, 5, 6, 7, 8, 9]])"
            ]
          },
          "metadata": {
            "tags": []
          },
          "execution_count": 40
        }
      ]
    },
    {
      "cell_type": "code",
      "metadata": {
        "id": "H-yh2C-9pFsi",
        "outputId": "c7edc02a-ca65-418c-a09d-e0f0c878d53f"
      },
      "source": [
        "# 내적 곱 (중요)\n",
        "matrix_a = np.arange(10).reshape(2, 5)\n",
        "matrix_b = np.arange(10).reshape(5, 2)\n",
        "\n",
        "# shape => 2 x 2\n",
        "np.dot(matrix_a, matrix_b)"
      ],
      "execution_count": null,
      "outputs": [
        {
          "output_type": "execute_result",
          "data": {
            "text/plain": [
              "array([[ 60,  70],\n",
              "       [160, 195]])"
            ]
          },
          "metadata": {
            "tags": []
          },
          "execution_count": 41
        }
      ]
    },
    {
      "cell_type": "code",
      "metadata": {
        "scrolled": true,
        "id": "Mm1jGjYPpFsj",
        "outputId": "ce8bca61-d2da-4536-95db-6de86299b7a2"
      },
      "source": [
        "# 브로드캐스팅 => 주로 matrix or vector + scala 연산 시 사용\n",
        "matrix_a + 100\n",
        "matrix_a + [1, 2, 3, 4, 5]"
      ],
      "execution_count": null,
      "outputs": [
        {
          "output_type": "execute_result",
          "data": {
            "text/plain": [
              "array([[ 1,  3,  5,  7,  9],\n",
              "       [ 6,  8, 10, 12, 14]])"
            ]
          },
          "metadata": {
            "tags": []
          },
          "execution_count": 43
        }
      ]
    },
    {
      "cell_type": "code",
      "metadata": {
        "id": "uOI7RhdQpFsj",
        "outputId": "6e73609f-6a78-491f-a882-d0ea120165c5"
      },
      "source": [
        "# any / all\n",
        "np.all(matrix_a < 100)\n",
        "np.any(matrix_a < 100)"
      ],
      "execution_count": null,
      "outputs": [
        {
          "output_type": "execute_result",
          "data": {
            "text/plain": [
              "True"
            ]
          },
          "metadata": {
            "tags": []
          },
          "execution_count": 45
        }
      ]
    },
    {
      "cell_type": "code",
      "metadata": {
        "id": "3QhK_qZWpFsk",
        "outputId": "ada3e655-e39d-4a8e-e56d-2ec2b515e56b"
      },
      "source": [
        "# where => 조건에 해당하는 인덱스 리턴\n",
        "np.where(matrix_a < 5)"
      ],
      "execution_count": null,
      "outputs": [
        {
          "output_type": "execute_result",
          "data": {
            "text/plain": [
              "(array([0, 0, 0, 0, 0], dtype=int64), array([0, 1, 2, 3, 4], dtype=int64))"
            ]
          },
          "metadata": {
            "tags": []
          },
          "execution_count": 53
        }
      ]
    },
    {
      "cell_type": "code",
      "metadata": {
        "id": "f7WXCSY8pFsk",
        "outputId": "53cae695-af09-4575-c2b9-9ad41943c015"
      },
      "source": [
        "# argmax / argmin (중요) => 최대값 및 최소값에 해당하는 인덱스 리턴\n",
        "\n",
        "# 각 row 들의 같은 인덱스의 값 비교\n",
        "print(np.argmax(matrix_a, axis=0))\n",
        "# 각 col 들의 같은 인덱스의 값 비교\n",
        "print(np.argmin(matrix_a, axis=1))"
      ],
      "execution_count": null,
      "outputs": [
        {
          "output_type": "stream",
          "text": [
            "[1 1 1 1 1]\n",
            "[0 0]\n"
          ],
          "name": "stdout"
        }
      ]
    }
  ]
}