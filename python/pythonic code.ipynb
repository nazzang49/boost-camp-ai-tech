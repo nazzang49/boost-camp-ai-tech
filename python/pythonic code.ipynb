{
 "cells": [
  {
   "cell_type": "markdown",
   "metadata": {},
   "source": [
    "# Pythonic Code\n",
    "- 가독성 향상\n",
    "- 코드 간결성 향상\n",
    "- 다른 개발자들의 코드에 대한 이해도 향상"
   ]
  },
  {
   "cell_type": "code",
   "execution_count": 1,
   "metadata": {},
   "outputs": [
    {
     "data": {
      "text/plain": [
       "'testtest1test2test3'"
      ]
     },
     "execution_count": 1,
     "metadata": {},
     "output_type": "execute_result"
    }
   ],
   "source": [
    "str_list = ['test', 'test1', 'test2', 'test3']\n",
    "# for 문 쓰지 않아도 됨\n",
    "str_join = ''.join(str_list)\n",
    "str_join"
   ]
  },
  {
   "cell_type": "code",
   "execution_count": 2,
   "metadata": {},
   "outputs": [
    {
     "data": {
      "text/plain": [
       "['test', 'test1', 'test2', 'test3']"
      ]
     },
     "execution_count": 2,
     "metadata": {},
     "output_type": "execute_result"
    }
   ],
   "source": [
    "str = 'test,test1,test2,test3'\n",
    "b_list = str.split(',')\n",
    "b_list"
   ]
  },
  {
   "cell_type": "code",
   "execution_count": 5,
   "metadata": {},
   "outputs": [
    {
     "data": {
      "text/plain": [
       "[0, 1, 2, 3, 4, 5, 6, 7, 8, 9]"
      ]
     },
     "execution_count": 5,
     "metadata": {},
     "output_type": "execute_result"
    }
   ],
   "source": [
    "# for 문을 길게 늘여쓰는 것보다 한줄로 줄일 수 있으면 좋음\n",
    "result = [i for i in range(0, 10)]\n",
    "result"
   ]
  },
  {
   "cell_type": "code",
   "execution_count": 7,
   "metadata": {},
   "outputs": [
    {
     "data": {
      "text/plain": [
       "[0, 2, 4, 6, 8]"
      ]
     },
     "execution_count": 7,
     "metadata": {},
     "output_type": "execute_result"
    }
   ],
   "source": [
    "# 짝수만 저장\n",
    "result = [i for i in range(0, 10) if i % 2 == 0]\n",
    "result"
   ]
  },
  {
   "cell_type": "code",
   "execution_count": 8,
   "metadata": {
    "scrolled": true
   },
   "outputs": [
    {
     "data": {
      "text/plain": [
       "['hw',\n",
       " 'ho',\n",
       " 'hr',\n",
       " 'hl',\n",
       " 'hd',\n",
       " 'ew',\n",
       " 'eo',\n",
       " 'er',\n",
       " 'el',\n",
       " 'ed',\n",
       " 'lw',\n",
       " 'lo',\n",
       " 'lr',\n",
       " 'll',\n",
       " 'ld',\n",
       " 'lw',\n",
       " 'lo',\n",
       " 'lr',\n",
       " 'll',\n",
       " 'ld',\n",
       " 'ow',\n",
       " 'oo',\n",
       " 'or',\n",
       " 'ol',\n",
       " 'od']"
      ]
     },
     "execution_count": 8,
     "metadata": {},
     "output_type": "execute_result"
    }
   ],
   "source": [
    "word1 = 'hello'\n",
    "word2 = 'world'\n",
    "# 중첩 for 문\n",
    "result = [i + j for i in word1 for j in word2]\n",
    "result"
   ]
  },
  {
   "cell_type": "code",
   "execution_count": 14,
   "metadata": {
    "scrolled": true
   },
   "outputs": [
    {
     "name": "stdout",
     "output_type": "stream",
     "text": [
      "['hw',\n",
      " 'ho',\n",
      " 'hr',\n",
      " 'hl',\n",
      " 'hd',\n",
      " 'ew',\n",
      " 'eo',\n",
      " 'er',\n",
      " 'el',\n",
      " 'ed',\n",
      " 'lw',\n",
      " 'lo',\n",
      " 'lr',\n",
      " 'test',\n",
      " 'ld',\n",
      " 'lw',\n",
      " 'lo',\n",
      " 'lr',\n",
      " 'test',\n",
      " 'ld',\n",
      " 'ow',\n",
      " 'test',\n",
      " 'or',\n",
      " 'ol',\n",
      " 'od']\n"
     ]
    }
   ],
   "source": [
    "import pprint\n",
    "result = [i + j if not(i == j) else 'test' for i in word1 for j in word2]\n",
    "pprint.pprint(result)"
   ]
  },
  {
   "cell_type": "code",
   "execution_count": 15,
   "metadata": {},
   "outputs": [],
   "source": [
    "words = 'Aa Bb Cc'\n",
    "words_split = words.split()"
   ]
  },
  {
   "cell_type": "code",
   "execution_count": 20,
   "metadata": {},
   "outputs": [
    {
     "name": "stdout",
     "output_type": "stream",
     "text": [
      "[['AA', 'aa', 'Aa'], ['BB', 'bb', 'Bb'], ['CC', 'cc', 'Cc']]\n"
     ]
    }
   ],
   "source": [
    "# for 문 활용한 새로운 리스트 간편 생성\n",
    "result = [\n",
    "    [w.upper(), w.lower(), w] for w in words_split\n",
    "]\n",
    "# 출력 정갈하게 하고 싶을 때\n",
    "pprint.pprint(result)"
   ]
  },
  {
   "cell_type": "code",
   "execution_count": 23,
   "metadata": {},
   "outputs": [
    {
     "data": {
      "text/plain": [
       "[['hw', 'ew', 'lw', 'lw', 'ow'],\n",
       " ['ho', 'eo', 'lo', 'lo', 'oo'],\n",
       " ['hr', 'er', 'lr', 'lr', 'or'],\n",
       " ['hl', 'el', 'll', 'll', 'ol'],\n",
       " ['hd', 'ed', 'ld', 'ld', 'od']]"
      ]
     },
     "execution_count": 23,
     "metadata": {},
     "output_type": "execute_result"
    }
   ],
   "source": [
    "# for 문간의 우선순위 => 다음과 같은 경우 word2 for 문이 우선순위가 높음 / 2차원 배열\n",
    "result = [[i + j for i in word1] for j in word2]\n",
    "result"
   ]
  },
  {
   "cell_type": "code",
   "execution_count": 29,
   "metadata": {},
   "outputs": [
    {
     "data": {
      "text/plain": [
       "{0: 'test1', 1: 'test2', 2: 'test3'}"
      ]
     },
     "execution_count": 29,
     "metadata": {},
     "output_type": "execute_result"
    }
   ],
   "source": [
    "# Enumerate => 반복\n",
    "d = ['test1', 'test2', 'test3']\n",
    "\n",
    "# i => index\n",
    "# v => value\n",
    "result = {i : v for i, v in enumerate(d)}\n",
    "result"
   ]
  },
  {
   "cell_type": "code",
   "execution_count": 32,
   "metadata": {},
   "outputs": [
    {
     "data": {
      "text/plain": [
       "[[1, 4], [2, 5], [3, 6]]"
      ]
     },
     "execution_count": 32,
     "metadata": {},
     "output_type": "execute_result"
    }
   ],
   "source": [
    "# Zip => 두개의 리스트 or 튜플값 병렬 추출\n",
    "alist = [1, 2, 3]\n",
    "blist = [4, 5, 6]\n",
    "[[a, b] for a, b in zip(alist, blist)]"
   ]
  },
  {
   "cell_type": "code",
   "execution_count": 44,
   "metadata": {},
   "outputs": [],
   "source": [
    "# Lambda => 함수 이름 없이 사용 가능한 일종의 익명함수\n",
    "result = [lambda x : 2 * x for x in alist]"
   ]
  },
  {
   "cell_type": "code",
   "execution_count": 46,
   "metadata": {},
   "outputs": [
    {
     "data": {
      "text/plain": [
       "[1, 4, 9, 16, 25]"
      ]
     },
     "execution_count": 46,
     "metadata": {},
     "output_type": "execute_result"
    }
   ],
   "source": [
    "# Map => 최근에는 많이 쓰지 않음\n",
    "ex = [1, 2, 3, 4, 5]\n",
    "f = lambda x : x ** 2\n",
    "result = list(map(f, ex))\n",
    "result"
   ]
  },
  {
   "cell_type": "code",
   "execution_count": 49,
   "metadata": {},
   "outputs": [
    {
     "data": {
      "text/plain": [
       "[0.5, 4, 1.5]"
      ]
     },
     "execution_count": 49,
     "metadata": {},
     "output_type": "execute_result"
    }
   ],
   "source": [
    "# 리스트 생성 시 최대한 간결하게 쓰는 것이 가독성 좋음\n",
    "[value ** 2 if value % 2 == 0 else value / 2 for value in alist]"
   ]
  },
  {
   "cell_type": "code",
   "execution_count": 52,
   "metadata": {},
   "outputs": [
    {
     "name": "stdout",
     "output_type": "stream",
     "text": [
      "[0, 1, 2, 3, 4, 5, 6, 7, 8, 9]\n",
      "<generator object b at 0x00000299935781A8>\n"
     ]
    }
   ],
   "source": [
    "# Generator => :yield 를 통해 iterable 객체를 한번에 하나의 원소만 리턴\n",
    "# 메모리 주소를 저장하고 있는 상태 => 메모리 긴축 효과 있음 (실제 호출 시점에 메모리 할당 됨)\n",
    "# 데이터 양이 많다면 Generator 쓰면 좋음\n",
    "\n",
    "# 일반적인 함수\n",
    "def a(value):\n",
    "    result = []\n",
    "    for i in range(value):\n",
    "        result.append(i)\n",
    "    return result\n",
    "print(a(10))\n",
    "\n",
    "# 함수 with :yield\n",
    "def b(value):\n",
    "    for i in range(value):\n",
    "        yield i\n",
    "print(b(10))"
   ]
  },
  {
   "cell_type": "code",
   "execution_count": 54,
   "metadata": {
    "scrolled": true
   },
   "outputs": [
    {
     "name": "stdout",
     "output_type": "stream",
     "text": [
      "[0,\n",
      " 1,\n",
      " 2,\n",
      " 3,\n",
      " 4,\n",
      " 5,\n",
      " 6,\n",
      " 7,\n",
      " 8,\n",
      " 9,\n",
      " 10,\n",
      " 11,\n",
      " 12,\n",
      " 13,\n",
      " 14,\n",
      " 15,\n",
      " 16,\n",
      " 17,\n",
      " 18,\n",
      " 19,\n",
      " 20,\n",
      " 21,\n",
      " 22,\n",
      " 23,\n",
      " 24,\n",
      " 25,\n",
      " 26,\n",
      " 27,\n",
      " 28,\n",
      " 29,\n",
      " 30,\n",
      " 31,\n",
      " 32,\n",
      " 33,\n",
      " 34,\n",
      " 35,\n",
      " 36,\n",
      " 37,\n",
      " 38,\n",
      " 39,\n",
      " 40,\n",
      " 41,\n",
      " 42,\n",
      " 43,\n",
      " 44,\n",
      " 45,\n",
      " 46,\n",
      " 47,\n",
      " 48,\n",
      " 49,\n",
      " 50,\n",
      " 51,\n",
      " 52,\n",
      " 53,\n",
      " 54,\n",
      " 55,\n",
      " 56,\n",
      " 57,\n",
      " 58,\n",
      " 59,\n",
      " 60,\n",
      " 61,\n",
      " 62,\n",
      " 63,\n",
      " 64,\n",
      " 65,\n",
      " 66,\n",
      " 67,\n",
      " 68,\n",
      " 69,\n",
      " 70,\n",
      " 71,\n",
      " 72,\n",
      " 73,\n",
      " 74,\n",
      " 75,\n",
      " 76,\n",
      " 77,\n",
      " 78,\n",
      " 79,\n",
      " 80,\n",
      " 81,\n",
      " 82,\n",
      " 83,\n",
      " 84,\n",
      " 85,\n",
      " 86,\n",
      " 87,\n",
      " 88,\n",
      " 89,\n",
      " 90,\n",
      " 91,\n",
      " 92,\n",
      " 93,\n",
      " 94,\n",
      " 95,\n",
      " 96,\n",
      " 97,\n",
      " 98,\n",
      " 99]\n"
     ]
    }
   ],
   "source": [
    "pprint.pprint([value for value in b(100)])"
   ]
  },
  {
   "cell_type": "code",
   "execution_count": 57,
   "metadata": {},
   "outputs": [
    {
     "name": "stdout",
     "output_type": "stream",
     "text": [
      "192\n",
      "88\n"
     ]
    }
   ],
   "source": [
    "# 할당된 메모리 용량 확인\n",
    "from sys import getsizeof\n",
    "print(getsizeof(a(10)))\n",
    "print(getsizeof(b(10)))\n",
    "# 원소 구성은 동일하지만, 실제 각 원소를 호출하기 전에는 메모리 할당량 차이가 크다"
   ]
  },
  {
   "cell_type": "code",
   "execution_count": 61,
   "metadata": {},
   "outputs": [
    {
     "name": "stdout",
     "output_type": "stream",
     "text": [
      "jyp: 30, seoul\n",
      "jgp: 20, busan\n"
     ]
    }
   ],
   "source": [
    "# Keyword Args\n",
    "def print_something(name, age, addr):\n",
    "    print(f'{name}: {age}, {addr}')\n",
    "print_something('jyp', 30, 'seoul')\n",
    "\n",
    "# 키워드에 맞춰서 인자 입력 가능\n",
    "print_something(age = 20, name = 'jgp', addr = 'busan')"
   ]
  },
  {
   "cell_type": "code",
   "execution_count": 67,
   "metadata": {},
   "outputs": [
    {
     "name": "stdout",
     "output_type": "stream",
     "text": [
      "6\n",
      "{'name': 'jyp', 'age': 30}\n",
      "=======================\n",
      "100\n",
      "test_jyp\n",
      "(1, 2, 3, 4, 5)\n",
      "{}\n"
     ]
    }
   ],
   "source": [
    "# 가변인자 => 인자 갯수 미리 정해놓지 않고 함수 생성\n",
    "def test(*args):\n",
    "    x, y, z = args\n",
    "    return x + y + z\n",
    "print(test(1, 2, 3))\n",
    "\n",
    "# 키워드 args => 키워드를 사용한 인자 입력 시 Dict 형태로 받아 줌 / 그 외 값만 입력된 경우 기본 가변인자로 인식\n",
    "def test_a(**kwargs):\n",
    "    print(kwargs)\n",
    "test_a(name = 'jyp', age = 30)\n",
    "\n",
    "print('=======================')\n",
    "\n",
    "# 혼용\n",
    "def test_final(a, b = 'test', *args, **kwargs):\n",
    "    print(a)\n",
    "    print(b)\n",
    "    print(args)\n",
    "    print(kwargs)\n",
    "test_final(100, 'test_jyp', 1, 2, 3, 4, 5, name=\"jgp\")"
   ]
  },
  {
   "cell_type": "code",
   "execution_count": 68,
   "metadata": {},
   "outputs": [
    {
     "name": "stdout",
     "output_type": "stream",
     "text": [
      "1 2 3 4\n"
     ]
    }
   ],
   "source": [
    "# asterisk (*) 기호 => 인자에 사용 시 언패킹 역할\n",
    "a = [1, 2, 3, 4]\n",
    "print(*a) # 4개의 인자로 인식"
   ]
  },
  {
   "cell_type": "code",
   "execution_count": 72,
   "metadata": {},
   "outputs": [
    {
     "name": "stdout",
     "output_type": "stream",
     "text": [
      "([1, 2],)\n",
      "([2, 3],)\n",
      "([3, 4],)\n"
     ]
    }
   ],
   "source": [
    "a = ([1, 2], [2, 3], [3, 4])\n",
    "# for value in zip(*a):\n",
    "for value in zip(a):\n",
    "    print(value)\n",
    "# 언패킹 안해주면 tuple 로서 1개의 값으로 인식"
   ]
  }
 ],
 "metadata": {
  "kernelspec": {
   "display_name": "gpuenv",
   "language": "python",
   "name": "gpuenv"
  },
  "language_info": {
   "codemirror_mode": {
    "name": "ipython",
    "version": 3
   },
   "file_extension": ".py",
   "mimetype": "text/x-python",
   "name": "python",
   "nbconvert_exporter": "python",
   "pygments_lexer": "ipython3",
   "version": "3.6.13"
  },
  "toc": {
   "base_numbering": 1,
   "nav_menu": {},
   "number_sections": true,
   "sideBar": true,
   "skip_h1_title": false,
   "title_cell": "Table of Contents",
   "title_sidebar": "Contents",
   "toc_cell": false,
   "toc_position": {},
   "toc_section_display": true,
   "toc_window_display": false
  }
 },
 "nbformat": 4,
 "nbformat_minor": 2
}
