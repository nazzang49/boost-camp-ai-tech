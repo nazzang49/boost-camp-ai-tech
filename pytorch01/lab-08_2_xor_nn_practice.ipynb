{
 "cells": [
  {
   "cell_type": "code",
   "execution_count": 28,
   "metadata": {},
   "outputs": [
    {
     "data": {
      "text/plain": [
       "'\\n    XOR Logic Implementation by PyTorch\\n'"
      ]
     },
     "execution_count": 28,
     "metadata": {},
     "output_type": "execute_result"
    }
   ],
   "source": [
    "'''\n",
    "    XOR Logic Implementation by PyTorch\n",
    "'''"
   ]
  },
  {
   "cell_type": "code",
   "execution_count": 29,
   "metadata": {},
   "outputs": [],
   "source": [
    "import torch"
   ]
  },
  {
   "cell_type": "code",
   "execution_count": 30,
   "metadata": {},
   "outputs": [
    {
     "name": "stdout",
     "output_type": "stream",
     "text": [
      "cpu\n"
     ]
    }
   ],
   "source": [
    "device = 'cuda' if torch.cuda.is_available() else 'cpu'\n",
    "\n",
    "# for reproducibility\n",
    "torch.manual_seed(777)\n",
    "if device == 'cuda':\n",
    "    torch.cuda.manual_seed_all(777)\n",
    "print(device)"
   ]
  },
  {
   "cell_type": "code",
   "execution_count": 31,
   "metadata": {},
   "outputs": [],
   "source": [
    "# set input and output (label)\n",
    "X = torch.FloatTensor([[0, 0], [1, 0], [0, 1], [1, 1]]).to(device)\n",
    "Y = torch.FloatTensor([[0], [1], [1], [0]]).to(device)"
   ]
  },
  {
   "cell_type": "code",
   "execution_count": 32,
   "metadata": {},
   "outputs": [],
   "source": [
    "# set layer\n",
    "linear1 = torch.nn.Linear(2, 2, bias=True)\n",
    "linear2 = torch.nn.Linear(2, 1, bias=True)\n",
    "sigmoid = torch.nn.Sigmoid()"
   ]
  },
  {
   "cell_type": "code",
   "execution_count": 33,
   "metadata": {},
   "outputs": [],
   "source": [
    "# set sequential model => neural network\n",
    "model = torch.nn.Sequential(linear1, sigmoid, linear2, sigmoid).to(device)"
   ]
  },
  {
   "cell_type": "code",
   "execution_count": 37,
   "metadata": {},
   "outputs": [],
   "source": [
    "# set cost and optimizer => if early stopping => \"check learning rate\"\n",
    "criterion = torch.nn.BCELoss().to(device)\n",
    "optimizer = torch.optim.SGD(model.parameters(), lr=1)"
   ]
  },
  {
   "cell_type": "code",
   "execution_count": 38,
   "metadata": {
    "scrolled": true
   },
   "outputs": [
    {
     "name": "stdout",
     "output_type": "stream",
     "text": [
      "step:  0 cost:  0.6930981874465942\n",
      "step:  100 cost:  0.6930797696113586\n",
      "step:  200 cost:  0.6930532455444336\n",
      "step:  300 cost:  0.6930134892463684\n",
      "step:  400 cost:  0.6929518580436707\n",
      "step:  500 cost:  0.6928515434265137\n",
      "step:  600 cost:  0.6926772594451904\n",
      "step:  700 cost:  0.6923439502716064\n",
      "step:  800 cost:  0.6916069388389587\n",
      "step:  900 cost:  0.6895983219146729\n",
      "step:  1000 cost:  0.6823763847351074\n",
      "step:  1100 cost:  0.6489874720573425\n",
      "step:  1200 cost:  0.3772910237312317\n",
      "step:  1300 cost:  0.12176622450351715\n",
      "step:  1400 cost:  0.06235843896865845\n",
      "step:  1500 cost:  0.040418967604637146\n",
      "step:  1600 cost:  0.029495060443878174\n",
      "step:  1700 cost:  0.023068547248840332\n",
      "step:  1800 cost:  0.018872743472456932\n",
      "step:  1900 cost:  0.015932641923427582\n",
      "step:  2000 cost:  0.013764689676463604\n",
      "step:  2100 cost:  0.0121034886687994\n",
      "step:  2200 cost:  0.010791955515742302\n",
      "step:  2300 cost:  0.009731300175189972\n",
      "step:  2400 cost:  0.008856582455337048\n",
      "step:  2500 cost:  0.008123325183987617\n",
      "step:  2600 cost:  0.0075000859797000885\n",
      "step:  2700 cost:  0.006964077707380056\n",
      "step:  2800 cost:  0.006498351693153381\n",
      "step:  2900 cost:  0.006089969538152218\n",
      "step:  3000 cost:  0.005729129537940025\n",
      "step:  3100 cost:  0.00540803000330925\n",
      "step:  3200 cost:  0.005120474845170975\n",
      "step:  3300 cost:  0.004861535970121622\n",
      "step:  3400 cost:  0.00462717842310667\n",
      "step:  3500 cost:  0.0044140443205833435\n",
      "step:  3600 cost:  0.004219456110149622\n",
      "step:  3700 cost:  0.00404105382040143\n",
      "step:  3800 cost:  0.0038769280072301626\n",
      "step:  3900 cost:  0.003725470043718815\n",
      "step:  4000 cost:  0.0035852091386914253\n",
      "step:  4100 cost:  0.003455033525824547\n",
      "step:  4200 cost:  0.0033338768407702446\n",
      "step:  4300 cost:  0.0032208687625825405\n",
      "step:  4400 cost:  0.0031151394359767437\n",
      "step:  4500 cost:  0.003016043920069933\n",
      "step:  4600 cost:  0.002922997111454606\n",
      "step:  4700 cost:  0.0028354439418762922\n",
      "step:  4800 cost:  0.0027529499493539333\n",
      "step:  4900 cost:  0.0026750655379146338\n",
      "step:  5000 cost:  0.0026014307513833046\n",
      "step:  5100 cost:  0.002531670965254307\n",
      "step:  5200 cost:  0.002465576399117708\n",
      "step:  5300 cost:  0.0024027731269598007\n",
      "step:  5400 cost:  0.0023430660367012024\n",
      "step:  5500 cost:  0.002286200411617756\n",
      "step:  5600 cost:  0.002232011640444398\n",
      "step:  5700 cost:  0.002180335344746709\n",
      "step:  5800 cost:  0.0021309612784534693\n",
      "step:  5900 cost:  0.002083710627630353\n",
      "step:  6000 cost:  0.0020385675597935915\n",
      "step:  6100 cost:  0.001995278289541602\n",
      "step:  6200 cost:  0.0019537380430847406\n",
      "step:  6300 cost:  0.0019139463547617197\n",
      "step:  6400 cost:  0.0018756644567474723\n",
      "step:  6500 cost:  0.0018389069009572268\n",
      "step:  6600 cost:  0.0018035838147625327\n",
      "step:  6700 cost:  0.001769545953720808\n",
      "step:  6800 cost:  0.0017367482651025057\n",
      "step:  6900 cost:  0.0017051460454240441\n",
      "step:  7000 cost:  0.001674664206802845\n",
      "step:  7100 cost:  0.0016452283598482609\n",
      "step:  7200 cost:  0.0016168083529919386\n",
      "step:  7300 cost:  0.0015893742674961686\n",
      "step:  7400 cost:  0.0015628067776560783\n",
      "step:  7500 cost:  0.0015371055342257023\n",
      "step:  7600 cost:  0.0015122706536203623\n",
      "step:  7700 cost:  0.0014881676761433482\n",
      "step:  7800 cost:  0.0014648414216935635\n",
      "step:  7900 cost:  0.0014422915410250425\n",
      "step:  8000 cost:  0.0014203244354575872\n",
      "step:  8100 cost:  0.0013990590814501047\n",
      "step:  8200 cost:  0.001378391170874238\n",
      "step:  8300 cost:  0.0013583354884758592\n",
      "step:  8400 cost:  0.001338832313194871\n",
      "step:  8500 cost:  0.001319911447353661\n",
      "step:  8600 cost:  0.0013014833675697446\n",
      "step:  8700 cost:  0.001283592893742025\n",
      "step:  8800 cost:  0.0012661502696573734\n",
      "step:  8900 cost:  0.0012492004316300154\n",
      "step:  9000 cost:  0.0012326686410233378\n",
      "step:  9100 cost:  0.0012165697989985347\n",
      "step:  9200 cost:  0.0012009188067167997\n",
      "step:  9300 cost:  0.0011856112396344543\n",
      "step:  9400 cost:  0.0011707216035574675\n",
      "step:  9500 cost:  0.0011561603751033545\n",
      "step:  9600 cost:  0.0011420022929087281\n",
      "step:  9700 cost:  0.0011281428160145879\n",
      "step:  9800 cost:  0.0011146116303279996\n",
      "step:  9900 cost:  0.0011014686897397041\n",
      "step:  10000 cost:  0.0010885794181376696\n"
     ]
    }
   ],
   "source": [
    "# loop\n",
    "for step in range(10001):\n",
    "    # init grad\n",
    "    optimizer.zero_grad()\n",
    "    # set hypothesis by model\n",
    "    hypothesis = model(X)\n",
    "\n",
    "    cost = criterion(hypothesis, Y)\n",
    "    \n",
    "    # backward and update\n",
    "    cost.backward()\n",
    "    optimizer.step()\n",
    "    \n",
    "    if step % 100 == 0:\n",
    "        print('step: ', step, 'cost: ', cost.item())"
   ]
  },
  {
   "cell_type": "code",
   "execution_count": 36,
   "metadata": {},
   "outputs": [
    {
     "name": "stdout",
     "output_type": "stream",
     "text": [
      "\n",
      "Hypothesis:  [[0.50314754]\n",
      " [0.4982264 ]\n",
      " [0.5019863 ]\n",
      " [0.49694085]] \n",
      "Correct:  [[1.]\n",
      " [0.]\n",
      " [1.]\n",
      " [0.]] \n",
      "Accuracy:  0.5\n"
     ]
    }
   ],
   "source": [
    "with torch.no_grad():\n",
    "    hypothesis = model(X)\n",
    "    predicted = (hypothesis > 0.5).float()\n",
    "    accuracy = (predicted == Y).float().mean()\n",
    "    print('\\nHypothesis: ', hypothesis.detach().cpu().numpy(), '\\nCorrect: ', predicted.detach().cpu().numpy(), '\\nAccuracy: ', accuracy.item())"
   ]
  }
 ],
 "metadata": {
  "kernelspec": {
   "display_name": "Python 3",
   "language": "python",
   "name": "python3"
  },
  "language_info": {
   "codemirror_mode": {
    "name": "ipython",
    "version": 3
   },
   "file_extension": ".py",
   "mimetype": "text/x-python",
   "name": "python",
   "nbconvert_exporter": "python",
   "pygments_lexer": "ipython3",
   "version": "3.6.7"
  }
 },
 "nbformat": 4,
 "nbformat_minor": 2
}
