{
 "cells": [
  {
   "cell_type": "code",
   "execution_count": 45,
   "metadata": {},
   "outputs": [
    {
     "data": {
      "text/plain": [
       "'\\n    Logistic Regression by PyTorch\\n'"
      ]
     },
     "execution_count": 45,
     "metadata": {},
     "output_type": "execute_result"
    }
   ],
   "source": [
    "'''\n",
    "    Logistic Regression by PyTorch\n",
    "'''"
   ]
  },
  {
   "cell_type": "code",
   "execution_count": 46,
   "metadata": {},
   "outputs": [],
   "source": [
    "import torch\n",
    "\n",
    "'''\n",
    "    Binary Classification\n",
    "'''\n",
    "\n",
    "# create raw data\n",
    "x_train = [[1, 2], [2, 3], [3, 1], [4, 3], [5, 3], [6, 2]]\n",
    "y_train = [[0], [0], [0], [1], [1], [1]]"
   ]
  },
  {
   "cell_type": "code",
   "execution_count": 47,
   "metadata": {},
   "outputs": [],
   "source": [
    "# create tensor\n",
    "x_train = torch.FloatTensor(x_train)\n",
    "y_train = torch.FloatTensor(y_train)"
   ]
  },
  {
   "cell_type": "code",
   "execution_count": 48,
   "metadata": {},
   "outputs": [
    {
     "name": "stdout",
     "output_type": "stream",
     "text": [
      "tensor([[1., 2.],\n",
      "        [2., 3.],\n",
      "        [3., 1.],\n",
      "        [4., 3.],\n",
      "        [5., 3.],\n",
      "        [6., 2.]])\n",
      "tensor([[0.],\n",
      "        [0.],\n",
      "        [0.],\n",
      "        [1.],\n",
      "        [1.],\n",
      "        [1.]])\n"
     ]
    }
   ],
   "source": [
    "# check input and output (label)\n",
    "print(x_train)\n",
    "print(y_train)"
   ]
  },
  {
   "cell_type": "code",
   "execution_count": 49,
   "metadata": {},
   "outputs": [],
   "source": [
    "# set weights and bias\n",
    "W = torch.zeros((2, 1), requires_grad=True)\n",
    "b = torch.zeros(1, requires_grad=True)"
   ]
  },
  {
   "cell_type": "code",
   "execution_count": 50,
   "metadata": {},
   "outputs": [
    {
     "name": "stdout",
     "output_type": "stream",
     "text": [
      "tensor([[0.5000],\n",
      "        [0.5000],\n",
      "        [0.5000],\n",
      "        [0.5000],\n",
      "        [0.5000],\n",
      "        [0.5000]], grad_fn=<MulBackward0>)\n",
      "torch.Size([6, 1])\n",
      "torch.Size([6, 1])\n"
     ]
    }
   ],
   "source": [
    "# set hypothesis => sigmoid function\n",
    "hypothesis = 1 / (1 + torch.exp(-(x_train.matmul(W) + b)))\n",
    "print(hypothesis)\n",
    "print(hypothesis.size())\n",
    "print(hypothesis.shape)\n",
    "\n",
    "# sigmoid by torch\n",
    "# torch.sigmoid(x_train.matmul(W) + b)"
   ]
  },
  {
   "cell_type": "code",
   "execution_count": 51,
   "metadata": {},
   "outputs": [
    {
     "data": {
      "text/plain": [
       "tensor([[0.6931],\n",
       "        [0.6931],\n",
       "        [0.6931],\n",
       "        [0.0000],\n",
       "        [0.0000],\n",
       "        [0.0000]], grad_fn=<NegBackward>)"
      ]
     },
     "execution_count": 51,
     "metadata": {},
     "output_type": "execute_result"
    }
   ],
   "source": [
    "# calc cost => 1st cost result example\n",
    "cost = -(y_train[0] * torch.log(hypothesis[0]) + (1 - y_train) * torch.log(1 - hypothesis[0]))\n",
    "cost"
   ]
  },
  {
   "cell_type": "code",
   "execution_count": 52,
   "metadata": {},
   "outputs": [
    {
     "name": "stdout",
     "output_type": "stream",
     "text": [
      "tensor(0.3466, grad_fn=<MeanBackward1>)\n"
     ]
    }
   ],
   "source": [
    "# mean of whole cost\n",
    "print(cost.mean())"
   ]
  },
  {
   "cell_type": "code",
   "execution_count": 53,
   "metadata": {},
   "outputs": [
    {
     "data": {
      "text/plain": [
       "tensor(0.6931, grad_fn=<BinaryCrossEntropyBackward>)"
      ]
     },
     "execution_count": 53,
     "metadata": {},
     "output_type": "execute_result"
    }
   ],
   "source": [
    "# briefly\n",
    "import torch.nn as nn\n",
    "import torch.nn.functional as F\n",
    "import torch.optim as optim\n",
    "\n",
    "torch.manual_seed(1)\n",
    "\n",
    "F.binary_cross_entropy(hypothesis, y_train)"
   ]
  },
  {
   "cell_type": "code",
   "execution_count": 54,
   "metadata": {},
   "outputs": [
    {
     "name": "stdout",
     "output_type": "stream",
     "text": [
      "Epoch:    0/1000, cost: 0.69315\n",
      "Epoch:  100/1000, cost: 0.13472\n",
      "Epoch:  200/1000, cost: 0.08064\n",
      "Epoch:  300/1000, cost: 0.05790\n",
      "Epoch:  400/1000, cost: 0.04530\n",
      "Epoch:  500/1000, cost: 0.03726\n",
      "Epoch:  600/1000, cost: 0.03167\n",
      "Epoch:  700/1000, cost: 0.02756\n",
      "Epoch:  800/1000, cost: 0.02439\n",
      "Epoch:  900/1000, cost: 0.02189\n",
      "Epoch: 1000/1000, cost: 0.01985\n"
     ]
    }
   ],
   "source": [
    "# training procedure\n",
    "torch.manual_seed(1)\n",
    "\n",
    "# GD\n",
    "optimizer = optim.SGD([W, b], lr=1)\n",
    "\n",
    "epoch_nb = 1000\n",
    "for epoch in range(1 + epoch_nb):\n",
    "    hypothesis = torch.sigmoid(x_train.matmul(W) + b)\n",
    "    cost = F.binary_cross_entropy(hypothesis, y_train)\n",
    "    \n",
    "    optimizer.zero_grad() # to avoid accumulate gradient value\n",
    "    cost.backward()       # back propagation with new gradient value\n",
    "    optimizer.step()      # update weights and bias\n",
    "     \n",
    "    if epoch % 100 == 0:\n",
    "        print(f'Epoch: {epoch:4d}/{epoch_nb}, cost: {cost.item():.5f}')"
   ]
  },
  {
   "cell_type": "code",
   "execution_count": 57,
   "metadata": {},
   "outputs": [
    {
     "name": "stdout",
     "output_type": "stream",
     "text": [
      "tensor([[3.2530],\n",
      "        [1.5179]], requires_grad=True)\n",
      "tensor([-14.4819], requires_grad=True)\n",
      "tensor([[0.4046],\n",
      "        [1.0000]], grad_fn=<SliceBackward>)\n"
     ]
    }
   ],
   "source": [
    "# evaluation by test dataset\n",
    "\n",
    "print(W)\n",
    "print(b)\n",
    "\n",
    "x_test = torch.FloatTensor([[2, 5], [7, 10]])\n",
    "final_hyptothesis = torch.sigmoid(x_test.matmul(W) + b)\n",
    "\n",
    "# check probability each input values\n",
    "print(final_hyptothesis[:])"
   ]
  },
  {
   "cell_type": "code",
   "execution_count": 64,
   "metadata": {},
   "outputs": [],
   "source": [
    "# inheritance\n",
    "class BinaryClassifier(nn.Module):\n",
    "    def __init__(self):\n",
    "        super().__init__()\n",
    "        self.linear = nn.Linear(2, 1) # linear => wx + b / (2, 1) => size of weights / bias = 1\n",
    "        self.sigmoid = nn.Sigmoid()\n",
    "        \n",
    "    # model(x_train) => automatically call this function for forward propagation\n",
    "    def forward(self, x):\n",
    "        return self.sigmoid(self.linear(x))\n",
    "    \n",
    "    \n",
    "model = BinaryClassifier()"
   ]
  },
  {
   "cell_type": "code",
   "execution_count": 65,
   "metadata": {},
   "outputs": [
    {
     "name": "stdout",
     "output_type": "stream",
     "text": [
      "Epoch:    0/1000, cost: 0.53971\n",
      "Epoch:  100/1000, cost: 0.13427\n",
      "Epoch:  200/1000, cost: 0.08049\n",
      "Epoch:  300/1000, cost: 0.05782\n",
      "Epoch:  400/1000, cost: 0.04525\n",
      "Epoch:  500/1000, cost: 0.03723\n",
      "Epoch:  600/1000, cost: 0.03165\n",
      "Epoch:  700/1000, cost: 0.02754\n",
      "Epoch:  800/1000, cost: 0.02438\n",
      "Epoch:  900/1000, cost: 0.02188\n",
      "Epoch: 1000/1000, cost: 0.01984\n"
     ]
    }
   ],
   "source": [
    "# renew training procedure\n",
    "torch.manual_seed(1)\n",
    "\n",
    "# model.parameters() => [W, b]\n",
    "optimizer = optim.SGD(model.parameters(), lr=1)\n",
    "\n",
    "epoch_nb = 1000\n",
    "for epoch in range(1 + epoch_nb):\n",
    "    \n",
    "    # model => BinaryClassifier\n",
    "    hypothesis = model(x_train)\n",
    "    cost = F.binary_cross_entropy(hypothesis, y_train)\n",
    "    \n",
    "    optimizer.zero_grad() # to avoid accumulate gradient value\n",
    "    cost.backward()       # back propagation with new gradient value\n",
    "    optimizer.step()      # update weights and bias\n",
    "     \n",
    "    if epoch % 100 == 0:\n",
    "        print(f'Epoch: {epoch:4d}/{epoch_nb}, cost: {cost.item():.5f}')"
   ]
  }
 ],
 "metadata": {
  "kernelspec": {
   "display_name": "Python 3",
   "language": "python",
   "name": "python3"
  },
  "language_info": {
   "codemirror_mode": {
    "name": "ipython",
    "version": 3
   },
   "file_extension": ".py",
   "mimetype": "text/x-python",
   "name": "python",
   "nbconvert_exporter": "python",
   "pygments_lexer": "ipython3",
   "version": "3.6.7"
  }
 },
 "nbformat": 4,
 "nbformat_minor": 2
}
