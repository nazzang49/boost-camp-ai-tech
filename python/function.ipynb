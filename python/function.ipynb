{
  "nbformat": 4,
  "nbformat_minor": 0,
  "metadata": {
    "kernelspec": {
      "display_name": "gpuenv",
      "language": "python",
      "name": "gpuenv"
    },
    "language_info": {
      "codemirror_mode": {
        "name": "ipython",
        "version": 3
      },
      "file_extension": ".py",
      "mimetype": "text/x-python",
      "name": "python",
      "nbconvert_exporter": "python",
      "pygments_lexer": "ipython3",
      "version": "3.6.13"
    },
    "toc": {
      "base_numbering": 1,
      "nav_menu": {},
      "number_sections": true,
      "sideBar": true,
      "skip_h1_title": false,
      "title_cell": "Table of Contents",
      "title_sidebar": "Contents",
      "toc_cell": false,
      "toc_position": {},
      "toc_section_display": true,
      "toc_window_display": false
    },
    "colab": {
      "name": "function.ipynb",
      "provenance": [],
      "include_colab_link": true
    }
  },
  "cells": [
    {
      "cell_type": "markdown",
      "metadata": {
        "id": "view-in-github",
        "colab_type": "text"
      },
      "source": [
        "<a href=\"https://colab.research.google.com/github/nazzang49/boost-camp-ai-tech/blob/main/python/function.ipynb\" target=\"_parent\"><img src=\"https://colab.research.google.com/assets/colab-badge.svg\" alt=\"Open In Colab\"/></a>"
      ]
    },
    {
      "cell_type": "code",
      "metadata": {
        "id": "Nw3BCzYrvRiR"
      },
      "source": [
        "def calculate_rectangle_area(x, y):\n",
        "    return x, y, x * y\n",
        "\n",
        "a, b, c = calculate_rectangle_area(10, 10)"
      ],
      "execution_count": null,
      "outputs": []
    },
    {
      "cell_type": "code",
      "metadata": {
        "id": "cMnTwzx5vRiS"
      },
      "source": [
        "# Q1\n",
        "def f(x):\n",
        "    return 2 * x + 7\n",
        "\n",
        "def g(x):\n",
        "    return x ** 2"
      ],
      "execution_count": null,
      "outputs": []
    },
    {
      "cell_type": "code",
      "metadata": {
        "id": "YGrsmfcavRiS",
        "outputId": "d797e51d-661f-4d73-a082-e19d7d4631ad"
      },
      "source": [
        "f(2) + g(2) + f(g(2)) + g(f(2))"
      ],
      "execution_count": null,
      "outputs": [
        {
          "output_type": "execute_result",
          "data": {
            "text/plain": [
              "151"
            ]
          },
          "metadata": {
            "tags": []
          },
          "execution_count": 7
        }
      ]
    },
    {
      "cell_type": "code",
      "metadata": {
        "id": "nIpcKV2xvRiT"
      },
      "source": [
        "ex = 100"
      ],
      "execution_count": null,
      "outputs": []
    },
    {
      "cell_type": "code",
      "metadata": {
        "id": "Zt5lA3k9vRiT"
      },
      "source": [
        "# 전역변수 사용\n",
        "def test():\n",
        "    global ex\n",
        "    ex = 200"
      ],
      "execution_count": null,
      "outputs": []
    },
    {
      "cell_type": "code",
      "metadata": {
        "id": "HQ8dIZqPvRiU"
      },
      "source": [
        "test()"
      ],
      "execution_count": null,
      "outputs": []
    },
    {
      "cell_type": "code",
      "metadata": {
        "id": "0kc7MYb2vRiU",
        "outputId": "2a582818-d77a-4de6-b714-1d88eed90239"
      },
      "source": [
        "ex"
      ],
      "execution_count": null,
      "outputs": [
        {
          "output_type": "execute_result",
          "data": {
            "text/plain": [
              "200"
            ]
          },
          "metadata": {
            "tags": []
          },
          "execution_count": 14
        }
      ]
    },
    {
      "cell_type": "code",
      "metadata": {
        "id": "UCl3bJv4vRiU",
        "outputId": "f83c5494-611e-4b07-c180-a322e8fcc63b"
      },
      "source": [
        "# 실제 정렬 X => copy and sort\n",
        "list_ex = [100, 2, 333, 4, 5]\n",
        "sorted(list_ex)"
      ],
      "execution_count": null,
      "outputs": [
        {
          "output_type": "execute_result",
          "data": {
            "text/plain": [
              "[100, 2, 333, 4, 5]"
            ]
          },
          "metadata": {
            "tags": []
          },
          "execution_count": 19
        }
      ]
    },
    {
      "cell_type": "code",
      "metadata": {
        "id": "8pR2D4r-vRiU",
        "outputId": "e89f6d7c-fb26-4df7-946e-8fd091645b67"
      },
      "source": [
        "# 실제 정렬 O => sort itself\n",
        "list_ex.sort()\n",
        "list_ex"
      ],
      "execution_count": null,
      "outputs": [
        {
          "output_type": "execute_result",
          "data": {
            "text/plain": [
              "[2, 4, 5, 100, 333]"
            ]
          },
          "metadata": {
            "tags": []
          },
          "execution_count": 21
        }
      ]
    },
    {
      "cell_type": "code",
      "metadata": {
        "id": "C73v7pCRvRiV",
        "outputId": "70d217b3-0099-417b-e23f-70513b9f4adf"
      },
      "source": [
        "# format => 0, 1 순서 / .1f 출력 자료형\n",
        "name = 'jyp'\n",
        "age = 30.5\n",
        "print(\"My name is {0} and age is {1:.1f}\".format(name, age))"
      ],
      "execution_count": null,
      "outputs": [
        {
          "output_type": "stream",
          "text": [
            "My name is jyp and age is 30.5\n"
          ],
          "name": "stdout"
        }
      ]
    },
    {
      "cell_type": "code",
      "metadata": {
        "id": "f8jwfDeyvRiV"
      },
      "source": [
        "def fahrenheit_convert(temp):\n",
        "    return ((9 / 5) * temp) + 32"
      ],
      "execution_count": null,
      "outputs": []
    },
    {
      "cell_type": "code",
      "metadata": {
        "id": "6WyfleSqvRiV",
        "outputId": "decf1303-e3b5-4de8-be97-cdce5e1197c4"
      },
      "source": [
        "print(\"{0:.2f}\".format(fahrenheit_convert(32.2)))"
      ],
      "execution_count": null,
      "outputs": [
        {
          "output_type": "stream",
          "text": [
            "89.96\n"
          ],
          "name": "stdout"
        }
      ]
    }
  ]
}