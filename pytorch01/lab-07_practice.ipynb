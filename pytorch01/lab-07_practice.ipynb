{
 "cells": [
  {
   "cell_type": "code",
   "execution_count": 1,
   "metadata": {},
   "outputs": [],
   "source": [
    "'''\n",
    "    DNN practice by PyTorch\n",
    "'''\n",
    "import torch\n",
    "import torch.nn as nn\n",
    "import torch.nn.functional as F\n",
    "import torch.optim as optim"
   ]
  },
  {
   "cell_type": "code",
   "execution_count": 2,
   "metadata": {},
   "outputs": [
    {
     "data": {
      "text/plain": [
       "<torch._C.Generator at 0x7f23680fb8b0>"
      ]
     },
     "execution_count": 2,
     "metadata": {},
     "output_type": "execute_result"
    }
   ],
   "source": [
    "torch.manual_seed(1)"
   ]
  },
  {
   "cell_type": "code",
   "execution_count": 7,
   "metadata": {},
   "outputs": [],
   "source": [
    "# train data => 8rows\n",
    "x_train = torch.FloatTensor([\n",
    "    [1, 2, 1],\n",
    "    [1, 3, 2],\n",
    "    [1, 3, 4],\n",
    "    [1, 5, 5],\n",
    "    [1, 7, 5],\n",
    "    [1, 2, 5],\n",
    "    [1, 6, 6],\n",
    "    [1, 7, 7]\n",
    "])\n",
    "y_train = torch.LongTensor([2, 2, 2, 1, 1, 1, 0, 0])"
   ]
  },
  {
   "cell_type": "code",
   "execution_count": 9,
   "metadata": {},
   "outputs": [],
   "source": [
    "# test data => 3rows\n",
    "x_test = torch.FloatTensor([\n",
    "    [2, 1, 1],\n",
    "    [3, 1, 2],\n",
    "    [3, 3, 4]\n",
    "])\n",
    "y_test = torch.LongTensor([2, 2, 2])"
   ]
  },
  {
   "cell_type": "code",
   "execution_count": 12,
   "metadata": {},
   "outputs": [],
   "source": [
    "class SoftmaxClassifierModel(nn.Module):\n",
    "    def __init__(self):\n",
    "        super().__init__()\n",
    "        self.linear = nn.Linear(3, 3)\n",
    "        \n",
    "    def forward(self, x):\n",
    "        return self.linear(x)"
   ]
  },
  {
   "cell_type": "code",
   "execution_count": 13,
   "metadata": {},
   "outputs": [],
   "source": [
    "model = SoftmaxClassifierModel()"
   ]
  },
  {
   "cell_type": "code",
   "execution_count": 20,
   "metadata": {},
   "outputs": [],
   "source": [
    "optimizer = optim.SGD(model.parameters(), lr=0.1)"
   ]
  },
  {
   "cell_type": "code",
   "execution_count": 21,
   "metadata": {},
   "outputs": [],
   "source": [
    "def train(model, optimizer, x_train, y_train):\n",
    "    nb_epochs = 20\n",
    "    \n",
    "    for epoch in range(1 + nb_epochs):\n",
    "        # forward propagation (=z)\n",
    "        prediction = model(x_train)\n",
    "        # calc cost\n",
    "        cost = F.cross_entropy(prediction, y_train)\n",
    "        \n",
    "        optimizer.zero_grad()\n",
    "        cost.backward()\n",
    "        optimizer.step()\n",
    "        \n",
    "        print('Epoch: {:4d}/{}, Cost: {:.6f}'.format(\n",
    "            epoch, nb_epochs, cost.item()\n",
    "        ))"
   ]
  },
  {
   "cell_type": "code",
   "execution_count": 22,
   "metadata": {
    "scrolled": false
   },
   "outputs": [
    {
     "name": "stdout",
     "output_type": "stream",
     "text": [
      "Epoch:    0/20, Cost: 1.110527\n",
      "Epoch:    1/20, Cost: 1.099917\n",
      "Epoch:    2/20, Cost: 1.091660\n",
      "Epoch:    3/20, Cost: 1.083715\n",
      "Epoch:    4/20, Cost: 1.075954\n",
      "Epoch:    5/20, Cost: 1.068358\n",
      "Epoch:    6/20, Cost: 1.060917\n",
      "Epoch:    7/20, Cost: 1.053623\n",
      "Epoch:    8/20, Cost: 1.046473\n",
      "Epoch:    9/20, Cost: 1.039460\n",
      "Epoch:   10/20, Cost: 1.032582\n",
      "Epoch:   11/20, Cost: 1.025834\n",
      "Epoch:   12/20, Cost: 1.019214\n",
      "Epoch:   13/20, Cost: 1.012718\n",
      "Epoch:   14/20, Cost: 1.006344\n",
      "Epoch:   15/20, Cost: 1.000089\n",
      "Epoch:   16/20, Cost: 0.993949\n",
      "Epoch:   17/20, Cost: 0.987922\n",
      "Epoch:   18/20, Cost: 0.982005\n",
      "Epoch:   19/20, Cost: 0.976197\n",
      "Epoch:   20/20, Cost: 0.970493\n"
     ]
    }
   ],
   "source": [
    "train(model, optimizer, x_train, y_train)"
   ]
  },
  {
   "cell_type": "code",
   "execution_count": 23,
   "metadata": {},
   "outputs": [],
   "source": [
    "# preprocessing\n",
    "x_train = torch.FloatTensor([[73, 80, 75],\n",
    "                             [93, 88, 93],\n",
    "                             [89, 91, 90],\n",
    "                             [96, 98, 100],\n",
    "                             [73, 66, 70]])\n",
    "y_train = torch.FloatTensor([[152], [185], [180], [196], [142]])"
   ]
  },
  {
   "cell_type": "code",
   "execution_count": 24,
   "metadata": {},
   "outputs": [
    {
     "data": {
      "text/plain": [
       "tensor([[-1.0674, -0.3758, -0.8398],\n",
       "        [ 0.7418,  0.2778,  0.5863],\n",
       "        [ 0.3799,  0.5229,  0.3486],\n",
       "        [ 1.0132,  1.0948,  1.1409],\n",
       "        [-1.0674, -1.5197, -1.2360]])"
      ]
     },
     "execution_count": 24,
     "metadata": {},
     "output_type": "execute_result"
    }
   ],
   "source": [
    "# standardization => norm distribution\n",
    "mu = x_train.mean(dim=0)\n",
    "sigma = x_train.std(dim=0)\n",
    "norm_x_train = (x_train - mu) / sigma\n",
    "norm_x_train"
   ]
  }
 ],
 "metadata": {
  "kernelspec": {
   "display_name": "Python 3",
   "language": "python",
   "name": "python3"
  },
  "language_info": {
   "codemirror_mode": {
    "name": "ipython",
    "version": 3
   },
   "file_extension": ".py",
   "mimetype": "text/x-python",
   "name": "python",
   "nbconvert_exporter": "python",
   "pygments_lexer": "ipython3",
   "version": "3.6.7"
  }
 },
 "nbformat": 4,
 "nbformat_minor": 2
}
