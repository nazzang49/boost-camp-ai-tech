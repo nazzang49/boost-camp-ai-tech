{
 "cells": [
  {
   "cell_type": "code",
   "execution_count": 8,
   "metadata": {},
   "outputs": [
    {
     "name": "stdout",
     "output_type": "stream",
     "text": [
      "15\n",
      "7.416198487095663\n"
     ]
    }
   ],
   "source": [
    "import numpy as np\n",
    "\n",
    "# L1 norm\n",
    "def l1_norm(x):\n",
    "    a = np.abs(x)\n",
    "    a = np.sum(a)\n",
    "    return a\n",
    "\n",
    "# L2 norm\n",
    "def l2_norm(x):\n",
    "    a = x * x\n",
    "    a = np.sum(a)\n",
    "    a = np.sqrt(a)\n",
    "    return a\n",
    "\n",
    "# 벡터 생성 및 norm 확인\n",
    "b = np.array([1, 2, 3, 4, 5])\n",
    "print(l1_norm(b))\n",
    "print(l2_norm(b))"
   ]
  },
  {
   "cell_type": "code",
   "execution_count": 11,
   "metadata": {},
   "outputs": [
    {
     "name": "stdout",
     "output_type": "stream",
     "text": [
      "nan\n"
     ]
    },
    {
     "name": "stderr",
     "output_type": "stream",
     "text": [
      "C:\\anaconda3\\envs\\gpuenv\\lib\\site-packages\\ipykernel_launcher.py:4: RuntimeWarning: invalid value encountered in arccos\n",
      "  after removing the cwd from sys.path.\n"
     ]
    }
   ],
   "source": [
    "# 벡터의 내적\n",
    "def get_angle(x, y):\n",
    "    angle = np.inner(x, y) / l2_norm(x) * l2_norm(y)\n",
    "    # cos => 각도 구하기\n",
    "    angle = np.arccos(angle)\n",
    "    return angle\n",
    "\n",
    "x = np.array([1, 2, 3, 4, 5])\n",
    "y = np.array([10, 22, 32, 44, 52])\n",
    "print(get_angle(x, y))"
   ]
  },
  {
   "cell_type": "code",
   "execution_count": 12,
   "metadata": {},
   "outputs": [
    {
     "name": "stdout",
     "output_type": "stream",
     "text": [
      "[[ 15  18  21]\n",
      " [ 42  54  66]\n",
      " [ 69  90 111]]\n",
      "[[  5  14  23]\n",
      " [ 14  50  86]\n",
      " [ 23  86 149]]\n"
     ]
    }
   ],
   "source": [
    "# 행렬 => numpy 에서는 기본적으로 행벡터가 기준\n",
    "a = np.arange(9).reshape(3, 3)\n",
    "\n",
    "# 행벡터 x 열벡터 => 내적\n",
    "print(np.dot(a, a))\n",
    "\n",
    "# 행벡터 x 행벡터\n",
    "print(np.inner(a, a))"
   ]
  },
  {
   "cell_type": "code",
   "execution_count": 19,
   "metadata": {
    "scrolled": true
   },
   "outputs": [],
   "source": [
    "# 역행렬\n",
    "# np.linalg.inv(a)"
   ]
  },
  {
   "cell_type": "code",
   "execution_count": null,
   "metadata": {},
   "outputs": [],
   "source": []
  },
  {
   "cell_type": "code",
   "execution_count": null,
   "metadata": {},
   "outputs": [],
   "source": []
  },
  {
   "cell_type": "code",
   "execution_count": null,
   "metadata": {},
   "outputs": [],
   "source": []
  },
  {
   "cell_type": "code",
   "execution_count": null,
   "metadata": {},
   "outputs": [],
   "source": []
  },
  {
   "cell_type": "code",
   "execution_count": null,
   "metadata": {},
   "outputs": [],
   "source": []
  }
 ],
 "metadata": {
  "kernelspec": {
   "display_name": "gpuenv",
   "language": "python",
   "name": "gpuenv"
  },
  "language_info": {
   "codemirror_mode": {
    "name": "ipython",
    "version": 3
   },
   "file_extension": ".py",
   "mimetype": "text/x-python",
   "name": "python",
   "nbconvert_exporter": "python",
   "pygments_lexer": "ipython3",
   "version": "3.6.13"
  },
  "toc": {
   "base_numbering": 1,
   "nav_menu": {},
   "number_sections": true,
   "sideBar": true,
   "skip_h1_title": false,
   "title_cell": "Table of Contents",
   "title_sidebar": "Contents",
   "toc_cell": false,
   "toc_position": {},
   "toc_section_display": true,
   "toc_window_display": false
  }
 },
 "nbformat": 4,
 "nbformat_minor": 2
}
