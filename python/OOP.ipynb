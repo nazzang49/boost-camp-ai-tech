{
  "nbformat": 4,
  "nbformat_minor": 0,
  "metadata": {
    "kernelspec": {
      "display_name": "gpuenv",
      "language": "python",
      "name": "gpuenv"
    },
    "language_info": {
      "codemirror_mode": {
        "name": "ipython",
        "version": 3
      },
      "file_extension": ".py",
      "mimetype": "text/x-python",
      "name": "python",
      "nbconvert_exporter": "python",
      "pygments_lexer": "ipython3",
      "version": "3.6.13"
    },
    "toc": {
      "base_numbering": 1,
      "nav_menu": {},
      "number_sections": true,
      "sideBar": true,
      "skip_h1_title": false,
      "title_cell": "Table of Contents",
      "title_sidebar": "Contents",
      "toc_cell": false,
      "toc_position": {},
      "toc_section_display": true,
      "toc_window_display": false
    },
    "colab": {
      "name": "OOP.ipynb",
      "provenance": [],
      "include_colab_link": true
    }
  },
  "cells": [
    {
      "cell_type": "markdown",
      "metadata": {
        "id": "view-in-github",
        "colab_type": "text"
      },
      "source": [
        "<a href=\"https://colab.research.google.com/github/nazzang49/boost-camp-ai-tech/blob/main/python/OOP.ipynb\" target=\"_parent\"><img src=\"https://colab.research.google.com/assets/colab-badge.svg\" alt=\"Open In Colab\"/></a>"
      ]
    },
    {
      "cell_type": "code",
      "metadata": {
        "id": "qzopK5X-VVjP"
      },
      "source": [
        "# 객체 지향 프로그래밍\n",
        "    # 클래스명 => 카멜 케이스\n",
        "    # 변수 및 메소드명 => 스네이크 케이스\n",
        "    # 모든 함수에 기본적으로 self (this = 자기자신 = 인스턴스) 기본 인자로 선언해야 함\n",
        "\n",
        "class Test(object):\n",
        "    \n",
        "    # 1) 인스턴스 변수 초기화 = 생성자\n",
        "    def __init__(self, name, pos, back_number):\n",
        "        self.name = name\n",
        "        self.pos = pos\n",
        "        self.back_number = back_number\n",
        "    \n",
        "    # 2) 디폴트 함수\n",
        "    def __add__(self, other):\n",
        "        return 'I am ' + self.name + ', and You are ' + other.name\n",
        "    \n",
        "    # 3) 사용자 정의 함수\n",
        "    def get_full_name(self, new_name):\n",
        "        self.name = new_name\n",
        "        return 'My name is ' + self.name"
      ],
      "execution_count": null,
      "outputs": []
    },
    {
      "cell_type": "code",
      "metadata": {
        "id": "2yNwVHPjVVjR"
      },
      "source": [
        "# 인스턴스 생성\n",
        "a = Test('jyp', 'seoul', 30)\n",
        "b = Test('jgp', 'busan', 32)\n",
        "c = Test('jsp', 'daegu', 34)"
      ],
      "execution_count": null,
      "outputs": []
    },
    {
      "cell_type": "code",
      "metadata": {
        "id": "n-PxrT_JVVjS",
        "outputId": "5bdb0fd4-7bce-49c2-9b3d-93fb7c77048a"
      },
      "source": [
        "print(a.name)\n",
        "print(b.name)\n",
        "print(c.name)"
      ],
      "execution_count": null,
      "outputs": [
        {
          "output_type": "stream",
          "text": [
            "jyp\n",
            "jgp\n",
            "jsp\n"
          ],
          "name": "stdout"
        }
      ]
    },
    {
      "cell_type": "code",
      "metadata": {
        "id": "t8nqusjsVVjT",
        "outputId": "a5e0f162-1b1d-424f-f2d2-314ff6f45d84"
      },
      "source": [
        "a is b"
      ],
      "execution_count": null,
      "outputs": [
        {
          "output_type": "execute_result",
          "data": {
            "text/plain": [
              "False"
            ]
          },
          "metadata": {
            "tags": []
          },
          "execution_count": 32
        }
      ]
    },
    {
      "cell_type": "code",
      "metadata": {
        "id": "XAEVppulVVjT",
        "outputId": "25cad37b-3419-495d-fc4d-3bfdc2e56149"
      },
      "source": [
        "b is c"
      ],
      "execution_count": null,
      "outputs": [
        {
          "output_type": "execute_result",
          "data": {
            "text/plain": [
              "False"
            ]
          },
          "metadata": {
            "tags": []
          },
          "execution_count": 33
        }
      ]
    },
    {
      "cell_type": "code",
      "metadata": {
        "id": "y4Vz4GyPVVjU",
        "outputId": "ed389d71-3b40-49e3-8413-fe018b5f17f3"
      },
      "source": [
        "# 사용자 정의 함수 호출 => 인스턴스 변수 값 변경\n",
        "print(a.get_full_name('PARK'))\n",
        "print(b.get_full_name('WOO'))\n",
        "print(c.get_full_name('SUNG'))"
      ],
      "execution_count": null,
      "outputs": [
        {
          "output_type": "stream",
          "text": [
            "My name is PARK\n",
            "My name is WOO\n",
            "My name is SUNG\n"
          ],
          "name": "stdout"
        }
      ]
    },
    {
      "cell_type": "code",
      "metadata": {
        "id": "zul1fFz-VVjU",
        "outputId": "50e07f42-d59c-41a7-c88e-ee68efe2ce06"
      },
      "source": [
        "# __add__ 함수 호출\n",
        "print(a + b)"
      ],
      "execution_count": null,
      "outputs": [
        {
          "output_type": "stream",
          "text": [
            "I am PARK, and You are WOO\n"
          ],
          "name": "stdout"
        }
      ]
    },
    {
      "cell_type": "markdown",
      "metadata": {
        "id": "gGLR92lYVVjV"
      },
      "source": [
        "# OOP 특징\n",
        "- 다형성\n",
        "- 상속성\n",
        "- 가시성"
      ]
    },
    {
      "cell_type": "code",
      "metadata": {
        "id": "EZCoxxtIVVjV"
      },
      "source": [
        "# 부모\n",
        "class Person(object):\n",
        "    def __init__(self, name):\n",
        "        self.name = name\n",
        "\n",
        "# 자식\n",
        "class Student(Person):\n",
        "    def __init__(self, name, age, iq):\n",
        "        super().__init__(name)\n",
        "        self.age = age\n",
        "        self.iq = iq\n",
        "        \n",
        "a = Student('jyp', 30, 100)"
      ],
      "execution_count": null,
      "outputs": []
    },
    {
      "cell_type": "code",
      "metadata": {
        "id": "-jDuUSxzVVjW",
        "outputId": "aac860b3-00df-4840-a0b2-bccb0a2ca35f"
      },
      "source": [
        "# 속성 상속 가능\n",
        "print(a.name) # => from 부모\n",
        "print(a.age)  # => from 자식\n",
        "print(a.iq)   # => from 자식"
      ],
      "execution_count": null,
      "outputs": [
        {
          "output_type": "stream",
          "text": [
            "jyp\n",
            "30\n",
            "100\n"
          ],
          "name": "stdout"
        }
      ]
    },
    {
      "cell_type": "code",
      "metadata": {
        "id": "3vwO44UkVVjW",
        "outputId": "fdbafa9e-819e-479d-d4db-0bbfcb359203"
      },
      "source": [
        "# 함수를 변수로 사용 가능\n",
        "def a(x):\n",
        "    return x ** 2\n",
        "f = a\n",
        "print(f(50))\n",
        "print(f(100))"
      ],
      "execution_count": null,
      "outputs": [
        {
          "output_type": "stream",
          "text": [
            "2500\n",
            "10000\n"
          ],
          "name": "stdout"
        }
      ]
    },
    {
      "cell_type": "code",
      "metadata": {
        "id": "Mh29oT4UVVjW",
        "outputId": "b8c69fc8-a7f5-4b1c-d222-a4da96e16e6b"
      },
      "source": [
        "# 함수를 파라미터로 사용 가능\n",
        "def b(x):\n",
        "    return x * 2\n",
        "\n",
        "def c(x):\n",
        "    return x / 2\n",
        "\n",
        "# f => b, c 2개의 함수 모두 입력 가능 / 재사용성 향상\n",
        "def d(f, k):\n",
        "    return [f(x) for x in range(k)]\n",
        "\n",
        "print(d(b, 100))"
      ],
      "execution_count": null,
      "outputs": [
        {
          "output_type": "stream",
          "text": [
            "[0, 2, 4, 6, 8, 10, 12, 14, 16, 18, 20, 22, 24, 26, 28, 30, 32, 34, 36, 38, 40, 42, 44, 46, 48, 50, 52, 54, 56, 58, 60, 62, 64, 66, 68, 70, 72, 74, 76, 78, 80, 82, 84, 86, 88, 90, 92, 94, 96, 98, 100, 102, 104, 106, 108, 110, 112, 114, 116, 118, 120, 122, 124, 126, 128, 130, 132, 134, 136, 138, 140, 142, 144, 146, 148, 150, 152, 154, 156, 158, 160, 162, 164, 166, 168, 170, 172, 174, 176, 178, 180, 182, 184, 186, 188, 190, 192, 194, 196, 198]\n"
          ],
          "name": "stdout"
        }
      ]
    }
  ]
}