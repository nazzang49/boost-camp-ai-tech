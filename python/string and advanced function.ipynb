{
  "nbformat": 4,
  "nbformat_minor": 0,
  "metadata": {
    "kernelspec": {
      "display_name": "gpuenv",
      "language": "python",
      "name": "gpuenv"
    },
    "language_info": {
      "codemirror_mode": {
        "name": "ipython",
        "version": 3
      },
      "file_extension": ".py",
      "mimetype": "text/x-python",
      "name": "python",
      "nbconvert_exporter": "python",
      "pygments_lexer": "ipython3",
      "version": "3.6.13"
    },
    "toc": {
      "base_numbering": 1,
      "nav_menu": {},
      "number_sections": true,
      "sideBar": true,
      "skip_h1_title": false,
      "title_cell": "Table of Contents",
      "title_sidebar": "Contents",
      "toc_cell": false,
      "toc_position": {},
      "toc_section_display": true,
      "toc_window_display": false
    },
    "colab": {
      "name": "string and advanced function.ipynb",
      "provenance": [],
      "include_colab_link": true
    }
  },
  "cells": [
    {
      "cell_type": "markdown",
      "metadata": {
        "id": "view-in-github",
        "colab_type": "text"
      },
      "source": [
        "<a href=\"https://colab.research.google.com/github/nazzang49/boost-camp-ai-tech/blob/main/python/string%20and%20advanced%20function.ipynb\" target=\"_parent\"><img src=\"https://colab.research.google.com/assets/colab-badge.svg\" alt=\"Open In Colab\"/></a>"
      ]
    },
    {
      "cell_type": "code",
      "metadata": {
        "id": "Jq3VNjvY_In9",
        "outputId": "11dde6a7-412b-4a85-e5b3-e6c6ab491b5f"
      },
      "source": [
        "# string\n",
        "a = 'abcde'\n",
        "a[:3]"
      ],
      "execution_count": null,
      "outputs": [
        {
          "output_type": "execute_result",
          "data": {
            "text/plain": [
              "'abc'"
            ]
          },
          "metadata": {
            "tags": []
          },
          "execution_count": 5
        }
      ]
    },
    {
      "cell_type": "code",
      "metadata": {
        "id": "0q1oArbX_IoB",
        "outputId": "0c51ea49-980c-4ef5-96b7-b193e15f1e31"
      },
      "source": [
        "a.isdigit()"
      ],
      "execution_count": null,
      "outputs": [
        {
          "output_type": "execute_result",
          "data": {
            "text/plain": [
              "False"
            ]
          },
          "metadata": {
            "tags": []
          },
          "execution_count": 6
        }
      ]
    },
    {
      "cell_type": "code",
      "metadata": {
        "id": "mtwyPY_G_IoB",
        "outputId": "8ca5893e-1ecb-4e09-d1c7-b7273b8a3ccc"
      },
      "source": [
        "a.upper()"
      ],
      "execution_count": null,
      "outputs": [
        {
          "output_type": "execute_result",
          "data": {
            "text/plain": [
              "'ABCDE'"
            ]
          },
          "metadata": {
            "tags": []
          },
          "execution_count": 7
        }
      ]
    },
    {
      "cell_type": "code",
      "metadata": {
        "id": "0NjuD4pD_IoC",
        "outputId": "b778e559-4cf3-4357-ab73-e75f5a397255"
      },
      "source": [
        "a.lower()"
      ],
      "execution_count": null,
      "outputs": [
        {
          "output_type": "execute_result",
          "data": {
            "text/plain": [
              "'abcde'"
            ]
          },
          "metadata": {
            "tags": []
          },
          "execution_count": 8
        }
      ]
    },
    {
      "cell_type": "code",
      "metadata": {
        "id": "4Mz-l3hO_IoC",
        "outputId": "c61338c3-874c-4834-b37c-70be608397cc"
      },
      "source": [
        "a.split('c')"
      ],
      "execution_count": null,
      "outputs": [
        {
          "output_type": "execute_result",
          "data": {
            "text/plain": [
              "['ab', 'de']"
            ]
          },
          "metadata": {
            "tags": []
          },
          "execution_count": 9
        }
      ]
    },
    {
      "cell_type": "code",
      "metadata": {
        "id": "pVACV3sn_IoD",
        "outputId": "9796a64d-8ad0-4c89-ed79-6590643b007c"
      },
      "source": [
        "a.startswith('a')"
      ],
      "execution_count": null,
      "outputs": [
        {
          "output_type": "execute_result",
          "data": {
            "text/plain": [
              "True"
            ]
          },
          "metadata": {
            "tags": []
          },
          "execution_count": 10
        }
      ]
    },
    {
      "cell_type": "code",
      "metadata": {
        "id": "CRN-lz26_IoD",
        "outputId": "38ad0210-b385-4f0f-d295-d71c45d1cd31"
      },
      "source": [
        "a.count('e')"
      ],
      "execution_count": null,
      "outputs": [
        {
          "output_type": "execute_result",
          "data": {
            "text/plain": [
              "1"
            ]
          },
          "metadata": {
            "tags": []
          },
          "execution_count": 47
        }
      ]
    },
    {
      "cell_type": "code",
      "metadata": {
        "id": "C7o2xgER_IoE",
        "outputId": "6b55682f-96d7-4d17-b052-f18e64db97cb"
      },
      "source": [
        "# 해당 문자열이 시작되는 인덱스\n",
        "a.find('e')"
      ],
      "execution_count": null,
      "outputs": [
        {
          "output_type": "execute_result",
          "data": {
            "text/plain": [
              "4"
            ]
          },
          "metadata": {
            "tags": []
          },
          "execution_count": 16
        }
      ]
    },
    {
      "cell_type": "code",
      "metadata": {
        "id": "njtVQtRm_IoE"
      },
      "source": [
        "# 개행처리\n",
        "str = 'My name is \\n JYP'"
      ],
      "execution_count": null,
      "outputs": []
    },
    {
      "cell_type": "code",
      "metadata": {
        "id": "aFWcq76h_IoF",
        "outputId": "9fa3e99c-a393-43a8-a0c3-1fded9479dca"
      },
      "source": [
        "print(str)"
      ],
      "execution_count": null,
      "outputs": [
        {
          "output_type": "stream",
          "text": [
            "My name is \n",
            " JYP\n"
          ],
          "name": "stdout"
        }
      ]
    },
    {
      "cell_type": "code",
      "metadata": {
        "id": "pJCLCkSx_IoG"
      },
      "source": [
        "# r => raw string (개행처리 무시)\n",
        "str = r'My name is \\n JYP'"
      ],
      "execution_count": null,
      "outputs": []
    },
    {
      "cell_type": "code",
      "metadata": {
        "id": "0CYswC-f_IoG",
        "outputId": "4dbc7c15-64f5-49fb-9d71-3de4eab99147"
      },
      "source": [
        "print(str)"
      ],
      "execution_count": null,
      "outputs": [
        {
          "output_type": "stream",
          "text": [
            "My name is \\n JYP\n"
          ],
          "name": "stdout"
        }
      ]
    },
    {
      "cell_type": "code",
      "metadata": {
        "id": "BhHUVmmo_IoH"
      },
      "source": [
        "# 싱글 or 더블 쿼트 3개 => 명시적으로 개행처리 하지 않아도 표현 가능\n",
        "str = '''My\n",
        "name\n",
        "is\n",
        "JYP'''"
      ],
      "execution_count": null,
      "outputs": []
    },
    {
      "cell_type": "code",
      "metadata": {
        "id": "rTpBt8Bb_IoH",
        "outputId": "d6f617cd-d5a8-412e-83f0-6096b55209fe"
      },
      "source": [
        "print(str)"
      ],
      "execution_count": null,
      "outputs": [
        {
          "output_type": "stream",
          "text": [
            "My\n",
            "name\n",
            "is\n",
            "JYP\n"
          ],
          "name": "stdout"
        }
      ]
    },
    {
      "cell_type": "code",
      "metadata": {
        "id": "UWTeGKxR_IoH"
      },
      "source": [
        "import wget"
      ],
      "execution_count": null,
      "outputs": []
    },
    {
      "cell_type": "code",
      "metadata": {
        "id": "K7kBjxkG_IoI",
        "outputId": "f4ededc2-e39b-4262-a19e-f59f2f0a9118"
      },
      "source": [
        "url = \"https://raw.githubusercontent.com/TeamLab/introduction_to_python_TEAMLAB_MOOC/master/code/6/yesterday.txt\"\n",
        "wget.download(url)"
      ],
      "execution_count": null,
      "outputs": [
        {
          "output_type": "stream",
          "text": [
            "\r  0% [                                                                                  ]   0 / 638\r100% [..................................................................................] 638 / 638"
          ],
          "name": "stdout"
        }
      ]
    },
    {
      "cell_type": "code",
      "metadata": {
        "id": "0ZrgViQx_IoI"
      },
      "source": [
        "file = open('yesterday.txt', 'r')"
      ],
      "execution_count": null,
      "outputs": []
    },
    {
      "cell_type": "code",
      "metadata": {
        "id": "z2VVlZ1S_IoI"
      },
      "source": [
        "lyricks = file.readlines()\n",
        "file.close()"
      ],
      "execution_count": null,
      "outputs": []
    },
    {
      "cell_type": "code",
      "metadata": {
        "scrolled": false,
        "id": "FBpDkoRa_IoI",
        "outputId": "b5465037-c813-452b-8efa-04f4e93cadea"
      },
      "source": [
        "lyricks"
      ],
      "execution_count": null,
      "outputs": [
        {
          "output_type": "execute_result",
          "data": {
            "text/plain": [
              "['Yesterday, all my troubles seemed so far away\\n',\n",
              " \"Now it looks as though they're here to stay\\n\",\n",
              " 'oh, I believe in yesterday\\n',\n",
              " '\\n',\n",
              " \"Suddenly, I'm not half the man I used to be\\n\",\n",
              " \"There's a shadow hanging over me\\n\",\n",
              " 'Oh, yesterday came suddenly.\\n',\n",
              " '\\n',\n",
              " 'Why she had to go?\\n',\n",
              " \"I don't know, she wouldn't say\\n\",\n",
              " 'I said something wrong\\n',\n",
              " 'Now I long for yesterday.\\n',\n",
              " '\\n',\n",
              " 'Yesterday love was such an easy game to play\\n',\n",
              " 'Now I need a place to hide away\\n',\n",
              " 'Oh, I believe in yesterday.\\n',\n",
              " '\\n',\n",
              " 'Why she had to go?\\n',\n",
              " \"I don't know, she wouldn't say\\n\",\n",
              " 'I said something wrong\\n',\n",
              " 'Now I long for yesterday.\\n',\n",
              " '\\n',\n",
              " 'Yesterday love was such an easy game to play\\n',\n",
              " 'Now I need a place to hide away\\n',\n",
              " 'Oh, I believe in yesterday...\\n']"
            ]
          },
          "metadata": {
            "tags": []
          },
          "execution_count": 45
        }
      ]
    },
    {
      "cell_type": "code",
      "metadata": {
        "id": "yHyEorqt_IoI",
        "outputId": "87a9d2f7-599a-442e-cda2-ad31fe915fd5"
      },
      "source": [
        "# yesterday 등장 횟수\n",
        "final_lyricks = ''\n",
        "for line in lyricks:\n",
        "    # 마지막 줄 => 반복 종료\n",
        "    print(line.strip())\n",
        "    if not line:\n",
        "        break\n",
        "    final_lyricks = final_lyricks + line.strip()\n",
        "\n",
        "cnt = final_lyricks.lower().count('yesterday')\n",
        "cnt"
      ],
      "execution_count": null,
      "outputs": [
        {
          "output_type": "stream",
          "text": [
            "Yesterday, all my troubles seemed so far away\n",
            "Now it looks as though they're here to stay\n",
            "oh, I believe in yesterday\n",
            "\n",
            "Suddenly, I'm not half the man I used to be\n",
            "There's a shadow hanging over me\n",
            "Oh, yesterday came suddenly.\n",
            "\n",
            "Why she had to go?\n",
            "I don't know, she wouldn't say\n",
            "I said something wrong\n",
            "Now I long for yesterday.\n",
            "\n",
            "Yesterday love was such an easy game to play\n",
            "Now I need a place to hide away\n",
            "Oh, I believe in yesterday.\n",
            "\n",
            "Why she had to go?\n",
            "I don't know, she wouldn't say\n",
            "I said something wrong\n",
            "Now I long for yesterday.\n",
            "\n",
            "Yesterday love was such an easy game to play\n",
            "Now I need a place to hide away\n",
            "Oh, I believe in yesterday...\n"
          ],
          "name": "stdout"
        },
        {
          "output_type": "execute_result",
          "data": {
            "text/plain": [
              "9"
            ]
          },
          "metadata": {
            "tags": []
          },
          "execution_count": 57
        }
      ]
    },
    {
      "cell_type": "code",
      "metadata": {
        "id": "-5rKEUuz_IoJ",
        "outputId": "52391e98-a720-4e37-fa52-ca63f518f8c9"
      },
      "source": [
        "# 객체 참조에 의한 호출\n",
        "def test(b):\n",
        "    # a 배열에도 추가\n",
        "    b.append(2)\n",
        "    b.append(3)\n",
        "    \n",
        "    # b 배열 참조 주소 변경\n",
        "    b = [1]\n",
        "    print(b)\n",
        "\n",
        "a = [4, 5]\n",
        "test(a)\n",
        "a"
      ],
      "execution_count": null,
      "outputs": [
        {
          "output_type": "stream",
          "text": [
            "[1]\n"
          ],
          "name": "stdout"
        },
        {
          "output_type": "execute_result",
          "data": {
            "text/plain": [
              "[4, 5, 2, 3]"
            ]
          },
          "metadata": {
            "tags": []
          },
          "execution_count": 66
        }
      ]
    },
    {
      "cell_type": "code",
      "metadata": {
        "id": "gxG7hJbP_IoJ",
        "outputId": "a9231077-4dc3-4db2-ee73-e6349562bd74"
      },
      "source": [
        "# 전역변수\n",
        "b = 'abcde'\n",
        "def global_check(a):\n",
        "    global b\n",
        "    # 전역변수 변경\n",
        "    b = 'cdefg'\n",
        "    print(a)\n",
        "    print(b)\n",
        "\n",
        "global_check('abcde')\n",
        "b"
      ],
      "execution_count": null,
      "outputs": [
        {
          "output_type": "stream",
          "text": [
            "abcde\n",
            "cdefg\n"
          ],
          "name": "stdout"
        },
        {
          "output_type": "execute_result",
          "data": {
            "text/plain": [
              "'cdefg'"
            ]
          },
          "metadata": {
            "tags": []
          },
          "execution_count": 69
        }
      ]
    },
    {
      "cell_type": "code",
      "metadata": {
        "id": "o_N-51d-_IoJ",
        "outputId": "e670596b-15a6-46db-c16f-5391f7ff90b3"
      },
      "source": [
        "# 함수 타입 명시 힌트 => 파라미터 타입 / 리턴 타입 지정 가능\n",
        "def test_a(a: str) -> str:\n",
        "    return f'{a}'\n",
        "print(test_a('test'))"
      ],
      "execution_count": null,
      "outputs": [
        {
          "output_type": "stream",
          "text": [
            "test\n"
          ],
          "name": "stdout"
        }
      ]
    },
    {
      "cell_type": "code",
      "metadata": {
        "id": "4_inLjbM_IoK"
      },
      "source": [
        "# docstring\n",
        "def test_b(a, b):\n",
        "    \"\"\"\n",
        "    1) 전반적인 함수 설명\n",
        "    Calculating sum of two parameters.\n",
        "    \n",
        "        2) 파라미터 설명\n",
        "        :param a (int): one of two numbers\n",
        "        :param b (int): one of two numbers\n",
        "        :return (int): sum of two numbers\n",
        "    \"\"\"\n",
        "    return a + b"
      ],
      "execution_count": null,
      "outputs": []
    },
    {
      "cell_type": "code",
      "metadata": {
        "scrolled": true,
        "id": "WbSq88vI_IoK",
        "outputId": "6cbc5835-e03e-48dc-9209-0268fda22e44"
      },
      "source": [
        "!pip install flake8"
      ],
      "execution_count": null,
      "outputs": [
        {
          "output_type": "stream",
          "text": [
            "Collecting flake8\n",
            "  Downloading flake8-3.9.2-py2.py3-none-any.whl (73 kB)\n",
            "Requirement already satisfied: importlib-metadata in c:\\anaconda3\\lib\\site-packages (from flake8) (0.23)\n",
            "Collecting pycodestyle<2.8.0,>=2.7.0\n",
            "  Downloading pycodestyle-2.7.0-py2.py3-none-any.whl (41 kB)\n",
            "Collecting pyflakes<2.4.0,>=2.3.0\n"
          ],
          "name": "stdout"
        },
        {
          "output_type": "stream",
          "text": [
            "WARNING: Ignoring invalid distribution -umpy (c:\\anaconda3\\lib\\site-packages)\n",
            "WARNING: Ignoring invalid distribution -atplotlib (c:\\anaconda3\\lib\\site-packages)\n",
            "WARNING: Ignoring invalid distribution -umpy (c:\\anaconda3\\lib\\site-packages)\n",
            "WARNING: Ignoring invalid distribution -atplotlib (c:\\anaconda3\\lib\\site-packages)\n",
            "WARNING: Ignoring invalid distribution -umpy (c:\\anaconda3\\lib\\site-packages)\n",
            "WARNING: Ignoring invalid distribution -atplotlib (c:\\anaconda3\\lib\\site-packages)\n",
            "    WARNING: Ignoring invalid distribution -umpy (c:\\anaconda3\\lib\\site-packages)\n",
            "    WARNING: Ignoring invalid distribution -atplotlib (c:\\anaconda3\\lib\\site-packages)\n",
            "    WARNING: Ignoring invalid distribution -umpy (c:\\anaconda3\\lib\\site-packages)\n",
            "    WARNING: Ignoring invalid distribution -atplotlib (c:\\anaconda3\\lib\\site-packages)\n",
            "WARNING: Ignoring invalid distribution -umpy (c:\\anaconda3\\lib\\site-packages)\n",
            "WARNING: Ignoring invalid distribution -atplotlib (c:\\anaconda3\\lib\\site-packages)\n",
            "WARNING: Ignoring invalid distribution -umpy (c:\\anaconda3\\lib\\site-packages)\n",
            "WARNING: Ignoring invalid distribution -atplotlib (c:\\anaconda3\\lib\\site-packages)\n",
            "WARNING: Ignoring invalid distribution -umpy (c:\\anaconda3\\lib\\site-packages)\n",
            "WARNING: Ignoring invalid distribution -atplotlib (c:\\anaconda3\\lib\\site-packages)\n",
            "ERROR: pip's dependency resolver does not currently take into account all the packages that are installed. This behaviour is the source of the following dependency conflicts.\n",
            "spyder 3.3.6 requires pyqt5<5.13; python_version >= \"3\", which is not installed.\n",
            "spyder 3.3.6 requires pyqtwebengine<5.13; python_version >= \"3\", which is not installed.\n",
            "WARNING: Ignoring invalid distribution -umpy (c:\\anaconda3\\lib\\site-packages)\n",
            "WARNING: Ignoring invalid distribution -atplotlib (c:\\anaconda3\\lib\\site-packages)\n",
            "WARNING: Ignoring invalid distribution -umpy (c:\\anaconda3\\lib\\site-packages)\n",
            "WARNING: Ignoring invalid distribution -atplotlib (c:\\anaconda3\\lib\\site-packages)\n"
          ],
          "name": "stderr"
        },
        {
          "output_type": "stream",
          "text": [
            "  Downloading pyflakes-2.3.1-py2.py3-none-any.whl (68 kB)\n",
            "Requirement already satisfied: mccabe<0.7.0,>=0.6.0 in c:\\anaconda3\\lib\\site-packages (from flake8) (0.6.1)\n",
            "Requirement already satisfied: zipp>=0.5 in c:\\anaconda3\\lib\\site-packages (from importlib-metadata->flake8) (0.6.0)\n",
            "Requirement already satisfied: more-itertools in c:\\anaconda3\\lib\\site-packages (from zipp>=0.5->importlib-metadata->flake8) (7.2.0)\n",
            "Installing collected packages: pyflakes, pycodestyle, flake8\n",
            "  Attempting uninstall: pyflakes\n",
            "    Found existing installation: pyflakes 2.1.1\n",
            "    Uninstalling pyflakes-2.1.1:\n",
            "      Successfully uninstalled pyflakes-2.1.1\n",
            "  Attempting uninstall: pycodestyle\n",
            "    Found existing installation: pycodestyle 2.5.0\n",
            "    Uninstalling pycodestyle-2.5.0:\n",
            "      Successfully uninstalled pycodestyle-2.5.0\n",
            "Successfully installed flake8-3.9.2 pycodestyle-2.7.0 pyflakes-2.3.1\n"
          ],
          "name": "stdout"
        }
      ]
    },
    {
      "cell_type": "code",
      "metadata": {
        "scrolled": true,
        "id": "N7OaHPNC_IoK",
        "outputId": "9117a27e-8a7b-41ff-f6ac-f29db6638c30"
      },
      "source": [
        "!pip install black"
      ],
      "execution_count": null,
      "outputs": [
        {
          "output_type": "stream",
          "text": [
            "Collecting black\n",
            "  Downloading black-21.6b0-py3-none-any.whl (140 kB)\n",
            "Collecting toml>=0.10.1\n",
            "  Downloading toml-0.10.2-py2.py3-none-any.whl (16 kB)\n",
            "Collecting typed-ast>=1.4.2\n",
            "  Downloading typed_ast-1.4.3-cp37-cp37m-win_amd64.whl (155 kB)\n",
            "Requirement already satisfied: typing-extensions>=3.7.4 in c:\\anaconda3\\lib\\site-packages (from black) (3.7.4.3)\n",
            "Collecting pathspec<1,>=0.8.1\n",
            "  Downloading pathspec-0.8.1-py2.py3-none-any.whl (28 kB)\n",
            "Collecting mypy-extensions>=0.4.3\n",
            "  Downloading mypy_extensions-0.4.3-py2.py3-none-any.whl (4.5 kB)\n",
            "Requirement already satisfied: appdirs in c:\\anaconda3\\lib\\site-packages (from black) (1.4.4)\n",
            "Collecting regex>=2020.1.8\n",
            "  Downloading regex-2021.7.6-cp37-cp37m-win_amd64.whl (270 kB)\n",
            "Collecting click>=7.1.2\n",
            "  Downloading click-8.0.1-py3-none-any.whl (97 kB)\n",
            "Requirement already satisfied: colorama in c:\\anaconda3\\lib\\site-packages (from click>=7.1.2->black) (0.4.1)\n",
            "Requirement already satisfied: importlib-metadata in c:\\anaconda3\\lib\\site-packages (from click>=7.1.2->black) (0.23)\n",
            "Requirement already satisfied: zipp>=0.5 in c:\\anaconda3\\lib\\site-packages (from importlib-metadata->click>=7.1.2->black) (0.6.0)\n",
            "Requirement already satisfied: more-itertools in c:\\anaconda3\\lib\\site-packages (from zipp>=0.5->importlib-metadata->click>=7.1.2->black) (7.2.0)\n",
            "Installing collected packages: typed-ast, toml, regex, pathspec, mypy-extensions, click, black\n",
            "  Attempting uninstall: click\n",
            "    Found existing installation: Click 7.0\n",
            "    Uninstalling Click-7.0:\n",
            "      Successfully uninstalled Click-7.0\n",
            "Successfully installed black-21.6b0 click-8.0.1 mypy-extensions-0.4.3 pathspec-0.8.1 regex-2021.7.6 toml-0.10.2 typed-ast-1.4.3\n"
          ],
          "name": "stdout"
        },
        {
          "output_type": "stream",
          "text": [
            "WARNING: Ignoring invalid distribution -umpy (c:\\anaconda3\\lib\\site-packages)\n",
            "WARNING: Ignoring invalid distribution -atplotlib (c:\\anaconda3\\lib\\site-packages)\n",
            "WARNING: Ignoring invalid distribution -umpy (c:\\anaconda3\\lib\\site-packages)\n",
            "WARNING: Ignoring invalid distribution -atplotlib (c:\\anaconda3\\lib\\site-packages)\n",
            "WARNING: Ignoring invalid distribution -umpy (c:\\anaconda3\\lib\\site-packages)\n",
            "WARNING: Ignoring invalid distribution -atplotlib (c:\\anaconda3\\lib\\site-packages)\n",
            "    WARNING: Ignoring invalid distribution -umpy (c:\\anaconda3\\lib\\site-packages)\n",
            "    WARNING: Ignoring invalid distribution -atplotlib (c:\\anaconda3\\lib\\site-packages)\n",
            "WARNING: Ignoring invalid distribution -umpy (c:\\anaconda3\\lib\\site-packages)\n",
            "WARNING: Ignoring invalid distribution -atplotlib (c:\\anaconda3\\lib\\site-packages)\n",
            "WARNING: Ignoring invalid distribution -umpy (c:\\anaconda3\\lib\\site-packages)\n",
            "WARNING: Ignoring invalid distribution -atplotlib (c:\\anaconda3\\lib\\site-packages)\n",
            "WARNING: Ignoring invalid distribution -umpy (c:\\anaconda3\\lib\\site-packages)\n",
            "WARNING: Ignoring invalid distribution -atplotlib (c:\\anaconda3\\lib\\site-packages)\n",
            "WARNING: Ignoring invalid distribution -umpy (c:\\anaconda3\\lib\\site-packages)\n",
            "WARNING: Ignoring invalid distribution -atplotlib (c:\\anaconda3\\lib\\site-packages)\n",
            "WARNING: Ignoring invalid distribution -umpy (c:\\anaconda3\\lib\\site-packages)\n",
            "WARNING: Ignoring invalid distribution -atplotlib (c:\\anaconda3\\lib\\site-packages)\n",
            "WARNING: Ignoring invalid distribution -umpy (c:\\anaconda3\\lib\\site-packages)\n",
            "WARNING: Ignoring invalid distribution -atplotlib (c:\\anaconda3\\lib\\site-packages)\n",
            "WARNING: Ignoring invalid distribution -umpy (c:\\anaconda3\\lib\\site-packages)\n",
            "WARNING: Ignoring invalid distribution -atplotlib (c:\\anaconda3\\lib\\site-packages)\n",
            "ERROR: pip's dependency resolver does not currently take into account all the packages that are installed. This behaviour is the source of the following dependency conflicts.\n",
            "astroid 2.3.1 requires six==1.12, but you have six 1.15.0 which is incompatible.\n",
            "astroid 2.3.1 requires wrapt==1.11.*, but you have wrapt 1.12.1 which is incompatible.\n",
            "WARNING: Ignoring invalid distribution -umpy (c:\\anaconda3\\lib\\site-packages)\n",
            "WARNING: Ignoring invalid distribution -atplotlib (c:\\anaconda3\\lib\\site-packages)\n",
            "WARNING: Ignoring invalid distribution -umpy (c:\\anaconda3\\lib\\site-packages)\n",
            "WARNING: Ignoring invalid distribution -atplotlib (c:\\anaconda3\\lib\\site-packages)\n"
          ],
          "name": "stderr"
        }
      ]
    }
  ]
}