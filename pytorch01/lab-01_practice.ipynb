{
 "cells": [
  {
   "cell_type": "code",
   "execution_count": 4,
   "metadata": {},
   "outputs": [
    {
     "data": {
      "text/plain": [
       "tensor([1., 2., 3., 4., 5.])"
      ]
     },
     "execution_count": 4,
     "metadata": {},
     "output_type": "execute_result"
    }
   ],
   "source": [
    "'''\n",
    "    PyTorch: seems like Numpy\n",
    "'''\n",
    "import torch\n",
    "t = torch.FloatTensor([1, 2, 3, 4, 5])\n",
    "t"
   ]
  },
  {
   "cell_type": "code",
   "execution_count": 11,
   "metadata": {},
   "outputs": [
    {
     "name": "stdout",
     "output_type": "stream",
     "text": [
      "torch.Size([5])\n",
      "1\n",
      "tensor([1., 2., 3., 4., 5.])\n"
     ]
    }
   ],
   "source": [
    "print(t.size())\n",
    "print(t.dim())\n",
    "print(t[:])"
   ]
  },
  {
   "cell_type": "code",
   "execution_count": 17,
   "metadata": {},
   "outputs": [],
   "source": [
    "t1 = torch.FloatTensor([1, 2, 3, 4, 5])\n",
    "t2 = torch.FloatTensor([2, 3, 4, 5, 6])\n",
    "t3 = torch.FloatTensor([3])"
   ]
  },
  {
   "cell_type": "code",
   "execution_count": 18,
   "metadata": {},
   "outputs": [
    {
     "name": "stdout",
     "output_type": "stream",
     "text": [
      "tensor([ 3.,  5.,  7.,  9., 11.])\n",
      "tensor([ 2.,  6., 12., 20., 30.])\n",
      "tensor([ 6.,  8., 10., 12., 14.])\n"
     ]
    }
   ],
   "source": [
    "print(t1 + t2)\n",
    "print(t1 * t2)\n",
    "\n",
    "# automatically add t3 as Scala\n",
    "print(t1 + t2 + t3)"
   ]
  },
  {
   "cell_type": "code",
   "execution_count": 19,
   "metadata": {},
   "outputs": [
    {
     "name": "stdout",
     "output_type": "stream",
     "text": [
      "tensor(70.)\n"
     ]
    }
   ],
   "source": [
    "# automatically dot t2 as v-col => (1, 5) x (5, 1) = (1, 1)\n",
    "print(t1.matmul(t2))"
   ]
  },
  {
   "cell_type": "code",
   "execution_count": 21,
   "metadata": {},
   "outputs": [
    {
     "name": "stdout",
     "output_type": "stream",
     "text": [
      "tensor([ 2.,  6., 12., 20., 30.])\n"
     ]
    }
   ],
   "source": [
    "# element-wise multiplication\n",
    "print(t1.mul(t2))"
   ]
  },
  {
   "cell_type": "code",
   "execution_count": 26,
   "metadata": {},
   "outputs": [
    {
     "name": "stdout",
     "output_type": "stream",
     "text": [
      "tensor(3.)\n",
      "tensor(1.5811)\n",
      "tensor(2.5000)\n",
      "tensor(15.)\n"
     ]
    }
   ],
   "source": [
    "# aggregate functions\n",
    "print(t1.mean())\n",
    "print(t1.std())\n",
    "print(t1.var())\n",
    "print(t1.sum())"
   ]
  },
  {
   "cell_type": "code",
   "execution_count": 32,
   "metadata": {},
   "outputs": [
    {
     "data": {
      "text/plain": [
       "tensor([[ 1.,  2.],\n",
       "        [ 3., -4.]])"
      ]
     },
     "execution_count": 32,
     "metadata": {},
     "output_type": "execute_result"
    }
   ],
   "source": [
    "t4 = torch.FloatTensor([[1, 2], [3, -4]])\n",
    "t4"
   ]
  },
  {
   "cell_type": "code",
   "execution_count": 33,
   "metadata": {},
   "outputs": [
    {
     "name": "stdout",
     "output_type": "stream",
     "text": [
      "tensor([ 4., -2.])\n",
      "tensor([ 3., -1.])\n",
      "tensor([ 3., -1.])\n"
     ]
    }
   ],
   "source": [
    "# dim = axis\n",
    "\n",
    "# dim=0 => col\n",
    "# dim=1 => row\n",
    "print(t4.sum(dim=0))\n",
    "print(t4.sum(dim=1))\n",
    "print(t4.sum(dim=-1))"
   ]
  },
  {
   "cell_type": "code",
   "execution_count": 38,
   "metadata": {},
   "outputs": [
    {
     "name": "stdout",
     "output_type": "stream",
     "text": [
      "(tensor([3., 2.]), tensor([1, 0]))\n",
      "(tensor([2., 3.]), tensor([1, 0]))\n",
      "tensor([1, 0])\n",
      "tensor([1, 0])\n"
     ]
    }
   ],
   "source": [
    "# max => value + index\n",
    "print(t4.max(dim=0))\n",
    "print(t4.max(dim=1))\n",
    "\n",
    "# argmax => only index\n",
    "print(t4.argmax(dim=0))\n",
    "print(t4.argmax(dim=1))"
   ]
  },
  {
   "cell_type": "code",
   "execution_count": null,
   "metadata": {},
   "outputs": [],
   "source": [
    "print('===============================================')"
   ]
  },
  {
   "cell_type": "code",
   "execution_count": 46,
   "metadata": {},
   "outputs": [
    {
     "name": "stdout",
     "output_type": "stream",
     "text": [
      "torch.Size([4])\n",
      "1\n",
      "torch.Size([1, 4])\n",
      "2\n",
      "tensor([[ 1.],\n",
      "        [ 2.],\n",
      "        [ 3.],\n",
      "        [-4.]])\n",
      "2\n"
     ]
    }
   ],
   "source": [
    "# view = reshape / -1 means N\n",
    "print(t4.view(-1).shape)\n",
    "print(t4.view(-1).dim())\n",
    "\n",
    "# (1, 4)\n",
    "print(t4.view(-1, 4).shape)\n",
    "print(t4.view(-1, 4).dim())\n",
    "\n",
    "# (4, 1)\n",
    "print(t4.view(4, -1))\n",
    "print(t4.view(4, -1).dim())"
   ]
  },
  {
   "cell_type": "code",
   "execution_count": 49,
   "metadata": {},
   "outputs": [
    {
     "name": "stdout",
     "output_type": "stream",
     "text": [
      "torch.Size([4, 1])\n",
      "torch.Size([4])\n"
     ]
    }
   ],
   "source": [
    "# squeeze => delete 1-dim\n",
    "print(t4.view(4, -1).shape)\n",
    "print(t4.view(4, -1).squeeze().shape)"
   ]
  },
  {
   "cell_type": "code",
   "execution_count": 55,
   "metadata": {},
   "outputs": [
    {
     "name": "stdout",
     "output_type": "stream",
     "text": [
      "torch.Size([4, 1])\n"
     ]
    }
   ],
   "source": [
    "t5 = t4.view(4, -1).squeeze()\n",
    "\n",
    "# recreate 1-dim\n",
    "print(t5.unsqueeze(1).shape)"
   ]
  },
  {
   "cell_type": "code",
   "execution_count": 57,
   "metadata": {},
   "outputs": [
    {
     "data": {
      "text/plain": [
       "tensor([1, 2, 3, 4, 5])"
      ]
     },
     "execution_count": 57,
     "metadata": {},
     "output_type": "execute_result"
    }
   ],
   "source": [
    "# casting\n",
    "lt = torch.LongTensor([1, 2, 3, 4, 5])\n",
    "lt"
   ]
  },
  {
   "cell_type": "code",
   "execution_count": 58,
   "metadata": {},
   "outputs": [
    {
     "data": {
      "text/plain": [
       "tensor([1, 2, 3, 4, 5], dtype=torch.uint8)"
      ]
     },
     "execution_count": 58,
     "metadata": {},
     "output_type": "execute_result"
    }
   ],
   "source": [
    "bt = torch.ByteTensor([1, 2, 3, 4, 5])\n",
    "bt"
   ]
  },
  {
   "cell_type": "code",
   "execution_count": 62,
   "metadata": {},
   "outputs": [
    {
     "name": "stdout",
     "output_type": "stream",
     "text": [
      "tensor([1., 2., 3., 4., 5., 2., 3., 4., 5., 6.])\n"
     ]
    }
   ],
   "source": [
    "# concat\n",
    "print(torch.cat([t1, t2], dim=0))"
   ]
  },
  {
   "cell_type": "code",
   "execution_count": 64,
   "metadata": {},
   "outputs": [
    {
     "name": "stdout",
     "output_type": "stream",
     "text": [
      "tensor([[1., 2., 3., 4., 5.],\n",
      "        [2., 3., 4., 5., 6.]])\n",
      "tensor([[1., 2.],\n",
      "        [2., 3.],\n",
      "        [3., 4.],\n",
      "        [4., 5.],\n",
      "        [5., 6.]])\n"
     ]
    }
   ],
   "source": [
    "# stacking => automatically change dimension\n",
    "print(torch.stack([t1, t2], dim=0))\n",
    "print(torch.stack([t1, t2], dim=1))"
   ]
  },
  {
   "cell_type": "code",
   "execution_count": 66,
   "metadata": {},
   "outputs": [
    {
     "name": "stdout",
     "output_type": "stream",
     "text": [
      "tensor([[1., 1., 1.],\n",
      "        [1., 1., 1.]])\n",
      "tensor([[0., 0., 0.],\n",
      "        [0., 0., 0.]])\n"
     ]
    }
   ],
   "source": [
    "# ones / zeros => change all elements into 0 or 1\n",
    "x = torch.FloatTensor([[1, 2, 3], [1, 2, 3]])\n",
    "print(torch.ones_like(x))\n",
    "print(torch.zeros_like(x))"
   ]
  },
  {
   "cell_type": "code",
   "execution_count": 68,
   "metadata": {},
   "outputs": [
    {
     "name": "stdout",
     "output_type": "stream",
     "text": [
      "tensor([ 2.,  6., 12., 20., 30.])\n",
      "tensor([ 2.,  6., 12., 20., 30.])\n"
     ]
    }
   ],
   "source": [
    "# inplace by underscore (_)\n",
    "print(t1.mul_(t2))\n",
    "print(t1)"
   ]
  }
 ],
 "metadata": {
  "kernelspec": {
   "display_name": "Python 3",
   "language": "python",
   "name": "python3"
  },
  "language_info": {
   "codemirror_mode": {
    "name": "ipython",
    "version": 3
   },
   "file_extension": ".py",
   "mimetype": "text/x-python",
   "name": "python",
   "nbconvert_exporter": "python",
   "pygments_lexer": "ipython3",
   "version": "3.6.7"
  }
 },
 "nbformat": 4,
 "nbformat_minor": 2
}
