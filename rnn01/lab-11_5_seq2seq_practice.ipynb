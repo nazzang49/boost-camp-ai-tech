{
 "cells": [
  {
   "cell_type": "markdown",
   "metadata": {},
   "source": [
    "# Seq2Seq"
   ]
  },
  {
   "cell_type": "code",
   "execution_count": 32,
   "metadata": {
    "ExecuteTime": {
     "end_time": "2021-07-30T09:32:27.523569Z",
     "start_time": "2021-07-30T09:32:27.498226Z"
    }
   },
   "outputs": [
    {
     "data": {
      "text/plain": [
       "'\\n    Seq2Seq Practice (Language Translation) by PyTorch\\n'"
      ]
     },
     "execution_count": 32,
     "metadata": {},
     "output_type": "execute_result"
    }
   ],
   "source": [
    "'''\n",
    "    Seq2Seq Practice (Language Translation) by PyTorch\n",
    "'''"
   ]
  },
  {
   "cell_type": "code",
   "execution_count": 33,
   "metadata": {
    "ExecuteTime": {
     "end_time": "2021-07-30T09:32:27.553432Z",
     "start_time": "2021-07-30T09:32:27.530428Z"
    }
   },
   "outputs": [],
   "source": [
    "import random\n",
    "import torch\n",
    "import torch.nn as nn\n",
    "import torch.optim as optim"
   ]
  },
  {
   "cell_type": "code",
   "execution_count": 34,
   "metadata": {
    "ExecuteTime": {
     "end_time": "2021-07-30T09:32:27.989227Z",
     "start_time": "2021-07-30T09:32:27.560430Z"
    }
   },
   "outputs": [
    {
     "data": {
      "text/plain": [
       "<torch._C.Generator at 0x1d30cfe3888>"
      ]
     },
     "execution_count": 34,
     "metadata": {},
     "output_type": "execute_result"
    }
   ],
   "source": [
    "torch.manual_seed(0)"
   ]
  },
  {
   "cell_type": "code",
   "execution_count": 35,
   "metadata": {
    "ExecuteTime": {
     "end_time": "2021-07-30T09:32:28.019367Z",
     "start_time": "2021-07-30T09:32:27.995228Z"
    }
   },
   "outputs": [
    {
     "data": {
      "text/plain": [
       "device(type='cuda')"
      ]
     },
     "execution_count": 35,
     "metadata": {},
     "output_type": "execute_result"
    }
   ],
   "source": [
    "device = torch.device(\"cuda\" if torch.cuda.is_available() else \"cpu\")\n",
    "device"
   ]
  },
  {
   "cell_type": "code",
   "execution_count": 36,
   "metadata": {
    "ExecuteTime": {
     "end_time": "2021-07-30T09:32:28.034227Z",
     "start_time": "2021-07-30T09:32:28.026225Z"
    }
   },
   "outputs": [],
   "source": [
    "# raw => eng / kor with 'tab' delimeter\n",
    "# eng => 17 unique words\n",
    "# kor => 13 unique words\n",
    "raw = [\"I feel hungry.\t나는 배가 고프다.\",\n",
    "       \"Pytorch is very easy.\t파이토치는 매우 쉽다.\",\n",
    "       \"Pytorch is a framework for deep learning.\t파이토치는 딥러닝을 위한 프레임워크이다.\",\n",
    "       \"Pytorch is very clear to use.\t파이토치는 사용하기 매우 직관적이다.\"]"
   ]
  },
  {
   "cell_type": "code",
   "execution_count": 37,
   "metadata": {
    "ExecuteTime": {
     "end_time": "2021-07-30T09:32:28.049226Z",
     "start_time": "2021-07-30T09:32:28.042226Z"
    }
   },
   "outputs": [],
   "source": [
    "# custom parameters made by user\n",
    "SOS_token = 0 # start of sentence\n",
    "EOS_token = 1 # end of sentence"
   ]
  },
  {
   "cell_type": "code",
   "execution_count": 38,
   "metadata": {
    "ExecuteTime": {
     "end_time": "2021-07-30T09:32:28.079325Z",
     "start_time": "2021-07-30T09:32:28.055228Z"
    }
   },
   "outputs": [],
   "source": [
    "# class for vocabulary related information of data\n",
    "class Vocab:\n",
    "    def __init__(self):\n",
    "        self.vocab2index = {\"<SOS>\": SOS_token, \"<EOS>\": EOS_token}\n",
    "        self.index2vocab = {SOS_token: \"<SOS>\", EOS_token: \"<EOS>\"}\n",
    "        self.vocab_count = {}\n",
    "        self.n_vocab = len(self.vocab2index)\n",
    "\n",
    "    def add_vocab(self, sentence):\n",
    "        for word in sentence.split(\" \"):\n",
    "            if word not in self.vocab2index:\n",
    "                self.vocab2index[word] = self.n_vocab\n",
    "                self.vocab_count[word] = 1\n",
    "                self.index2vocab[self.n_vocab] = word\n",
    "                self.n_vocab += 1\n",
    "            else:\n",
    "                self.vocab_count[word] += 1"
   ]
  },
  {
   "cell_type": "code",
   "execution_count": 39,
   "metadata": {
    "ExecuteTime": {
     "end_time": "2021-07-30T09:32:28.109224Z",
     "start_time": "2021-07-30T09:32:28.088226Z"
    }
   },
   "outputs": [],
   "source": [
    "# filter out the long sentence from source and target data\n",
    "def filter_pair(pair, source_max_length, target_max_length):\n",
    "    return len(pair[0].split(\" \")) < source_max_length and len(pair[1].split(\" \")) < target_max_length"
   ]
  },
  {
   "cell_type": "code",
   "execution_count": 40,
   "metadata": {
    "ExecuteTime": {
     "end_time": "2021-07-30T09:32:28.139225Z",
     "start_time": "2021-07-30T09:32:28.116229Z"
    }
   },
   "outputs": [],
   "source": [
    "# read and preprocess the corpus data (corpus = 말뭉치 => 사용되고 있는 단어 갯수 파악)\n",
    "def preprocess(corpus, source_max_length, target_max_length):\n",
    "    print(\"===Reading Corpus===\")\n",
    "    pairs = []\n",
    "    for line in corpus:\n",
    "        # 1-pair => eng / kor\n",
    "        pairs.append([s for s in line.strip().lower().split(\"\\t\")])\n",
    "    print(\"Read {} sentence pairs\".format(len(pairs)))\n",
    "\n",
    "    # source => input / target => output\n",
    "    # pick pairs that satisfy max length conditions\n",
    "    pairs = [pair for pair in pairs if filter_pair(pair, source_max_length, target_max_length)]\n",
    "    print(\"Trimmed to {} sentence pairs\".format(len(pairs)))\n",
    "\n",
    "    source_vocab = Vocab()\n",
    "    target_vocab = Vocab()\n",
    "\n",
    "    # how many words in filtered sentences\n",
    "    print(\"===Counting Words===\")\n",
    "    for pair in pairs:\n",
    "        source_vocab.add_vocab(pair[0])\n",
    "        target_vocab.add_vocab(pair[1])\n",
    "    print(\"source vocab size =\", source_vocab.n_vocab)\n",
    "    print(\"target vocab size =\", target_vocab.n_vocab)\n",
    "\n",
    "    return pairs, source_vocab, target_vocab"
   ]
  },
  {
   "cell_type": "code",
   "execution_count": 41,
   "metadata": {
    "ExecuteTime": {
     "end_time": "2021-07-30T09:32:28.154392Z",
     "start_time": "2021-07-30T09:32:28.143477Z"
    }
   },
   "outputs": [],
   "source": [
    "'''\n",
    "    Embedding Args:\n",
    "        input_size: one hot encoding of a specific word in source corpus\n",
    "        hidden_size: shrinked matrix still getting info\n",
    "'''\n",
    "\n",
    "# encoder with source sentences\n",
    "class Encoder(nn.Module):\n",
    "    def __init__(self, input_size, hidden_size):\n",
    "        super(Encoder, self).__init__()\n",
    "        self.hidden_size = hidden_size\n",
    "        \n",
    "        # (embedding matrix) X (one hot encoding) => shrinked matrix with hidden size\n",
    "        self.embedding = nn.Embedding(input_size, hidden_size)\n",
    "        self.gru = nn.GRU(hidden_size, hidden_size)\n",
    "\n",
    "    def forward(self, x, hidden):\n",
    "        x = self.embedding(x).view(1, 1, -1)\n",
    "        x, hidden = self.gru(x, hidden)\n",
    "        return x, hidden"
   ]
  },
  {
   "cell_type": "code",
   "execution_count": 42,
   "metadata": {
    "ExecuteTime": {
     "end_time": "2021-07-30T09:32:28.184703Z",
     "start_time": "2021-07-30T09:32:28.160368Z"
    }
   },
   "outputs": [],
   "source": [
    "# decoder with target sentences\n",
    "class Decoder(nn.Module):\n",
    "    def __init__(self, hidden_size, output_size):\n",
    "        super(Decoder, self).__init__()\n",
    "        self.hidden_size = hidden_size\n",
    "        self.embedding = nn.Embedding(output_size, hidden_size)\n",
    "        self.gru = nn.GRU(hidden_size, hidden_size)\n",
    "        # =====> same as encoder process\n",
    "        \n",
    "        # finding word from shrinked matrix ex) 16-dim => 200-dim\n",
    "        self.out = nn.Linear(hidden_size, output_size)\n",
    "        self.softmax = nn.LogSoftmax(dim=1)\n",
    "\n",
    "    def forward(self, x, hidden):\n",
    "        x = self.embedding(x).view(1, 1, -1)\n",
    "        x, hidden = self.gru(x, hidden)\n",
    "        x = self.softmax(self.out(x[0]))\n",
    "        return x, hidden"
   ]
  },
  {
   "cell_type": "code",
   "execution_count": 43,
   "metadata": {
    "ExecuteTime": {
     "end_time": "2021-07-30T09:32:28.199749Z",
     "start_time": "2021-07-30T09:32:28.191750Z"
    }
   },
   "outputs": [],
   "source": [
    "# sentence => one hot encoding vec\n",
    "def tensorize(vocab, sentence):\n",
    "    indexes = [vocab.vocab2index[word] for word in sentence.split(\" \")]\n",
    "    # <EOS> means end of this sentence custom-rule by user\n",
    "    indexes.append(vocab.vocab2index[\"<EOS>\"])\n",
    "    return torch.Tensor(indexes).long().to(device).view(-1, 1)"
   ]
  },
  {
   "cell_type": "code",
   "execution_count": 44,
   "metadata": {
    "ExecuteTime": {
     "end_time": "2021-07-30T09:32:28.230748Z",
     "start_time": "2021-07-30T09:32:28.206750Z"
    }
   },
   "outputs": [],
   "source": [
    "# train function\n",
    "def train(pairs, source_vocab, target_vocab, encoder, decoder, n_iter, print_every=1000, learning_rate=0.01):\n",
    "    loss_total = 0\n",
    "\n",
    "    # source sentence in\n",
    "    encoder_optimizer = optim.SGD(encoder.parameters(), lr=learning_rate)\n",
    "    # target sentence out\n",
    "    decoder_optimizer = optim.SGD(decoder.parameters(), lr=learning_rate)\n",
    "\n",
    "    # batch pick randomly\n",
    "    training_batch = [random.choice(pairs) for _ in range(n_iter)]\n",
    "    training_source = [tensorize(source_vocab, pair[0]) for pair in training_batch]\n",
    "    training_target = [tensorize(target_vocab, pair[1]) for pair in training_batch]\n",
    "\n",
    "    # Negative Log Likelihood => diff of words between source and target\n",
    "    criterion = nn.NLLLoss()\n",
    "\n",
    "    # loop as batch_size (=n_iter)\n",
    "    for i in range(1, n_iter + 1):\n",
    "        source_tensor = training_source[i - 1]\n",
    "        target_tensor = training_target[i - 1]\n",
    "\n",
    "        # hidden state initialization => 0-vec\n",
    "        encoder_hidden = torch.zeros([1, 1, encoder.hidden_size]).to(device)\n",
    "        \n",
    "        encoder_optimizer.zero_grad()\n",
    "        decoder_optimizer.zero_grad()\n",
    "        source_length = source_tensor.size(0)\n",
    "        target_length = target_tensor.size(0)\n",
    "\n",
    "        loss = 0\n",
    "\n",
    "        for enc_input in range(source_length):\n",
    "            _, encoder_hidden = encoder(source_tensor[enc_input], encoder_hidden)\n",
    "\n",
    "        decoder_input = torch.Tensor([[SOS_token]]).long().to(device)\n",
    "        decoder_hidden = encoder_hidden # connect encoder output to decoder input\n",
    "\n",
    "        for di in range(target_length):\n",
    "            decoder_output, decoder_hidden = decoder(decoder_input, decoder_hidden)\n",
    "            loss += criterion(decoder_output, target_tensor[di])\n",
    "            decoder_input = target_tensor[di]  # teacher forcing\n",
    "\n",
    "        loss.backward()\n",
    "\n",
    "        encoder_optimizer.step()\n",
    "        decoder_optimizer.step()\n",
    "\n",
    "        loss_iter = loss.item() / target_length\n",
    "        loss_total += loss_iter\n",
    "\n",
    "        if i % print_every == 0:\n",
    "            loss_avg = loss_total / print_every\n",
    "            loss_total = 0\n",
    "            print(\"[{} - {}%] loss = {:05.4f}\".format(i, i / n_iter * 100, loss_avg))"
   ]
  },
  {
   "cell_type": "code",
   "execution_count": 45,
   "metadata": {
    "ExecuteTime": {
     "end_time": "2021-07-30T09:32:28.245747Z",
     "start_time": "2021-07-30T09:32:28.237750Z"
    }
   },
   "outputs": [],
   "source": [
    "# declare max length for sentence\n",
    "SOURCE_MAX_LENGTH = 10\n",
    "TARGET_MAX_LENGTH = 12"
   ]
  },
  {
   "cell_type": "code",
   "execution_count": 51,
   "metadata": {
    "ExecuteTime": {
     "end_time": "2021-07-30T09:49:11.904462Z",
     "start_time": "2021-07-30T09:49:11.882719Z"
    },
    "scrolled": true
   },
   "outputs": [
    {
     "name": "stdout",
     "output_type": "stream",
     "text": [
      "===Reading Corpus===\n",
      "Read 4 sentence pairs\n",
      "Trimmed to 4 sentence pairs\n",
      "===Counting Words===\n",
      "source vocab size = 17\n",
      "target vocab size = 13\n",
      "['pytorch is very clear to use.', '파이토치는 사용하기 매우 직관적이다.']\n"
     ]
    }
   ],
   "source": [
    "# preprocess the corpus\n",
    "load_pairs, load_source_vocab, load_target_vocab = preprocess(raw, SOURCE_MAX_LENGTH, TARGET_MAX_LENGTH)\n",
    "print(random.choice(load_pairs))"
   ]
  },
  {
   "cell_type": "code",
   "execution_count": 47,
   "metadata": {
    "ExecuteTime": {
     "end_time": "2021-07-30T09:32:28.306748Z",
     "start_time": "2021-07-30T09:32:28.266750Z"
    }
   },
   "outputs": [],
   "source": [
    "# declare the encoder and the decoder\n",
    "enc_hidden_size = 16\n",
    "dec_hidden_size = enc_hidden_size\n",
    "enc = Encoder(load_source_vocab.n_vocab, enc_hidden_size).to(device)\n",
    "dec = Decoder(dec_hidden_size, load_target_vocab.n_vocab).to(device)"
   ]
  },
  {
   "cell_type": "code",
   "execution_count": 48,
   "metadata": {
    "ExecuteTime": {
     "end_time": "2021-07-30T09:34:25.300793Z",
     "start_time": "2021-07-30T09:32:28.311884Z"
    }
   },
   "outputs": [
    {
     "name": "stdout",
     "output_type": "stream",
     "text": [
      "[1000 - 20.0%] loss = 0.7364\n",
      "[2000 - 40.0%] loss = 0.1081\n",
      "[3000 - 60.0%] loss = 0.0343\n",
      "[4000 - 80.0%] loss = 0.0186\n",
      "[5000 - 100.0%] loss = 0.0125\n"
     ]
    }
   ],
   "source": [
    "# train seq2seq model\n",
    "train(load_pairs, load_source_vocab, load_target_vocab, enc, dec, 5000, print_every=1000)"
   ]
  }
 ],
 "metadata": {
  "kernelspec": {
   "display_name": "gpuenv",
   "language": "python",
   "name": "gpuenv"
  },
  "language_info": {
   "codemirror_mode": {
    "name": "ipython",
    "version": 3
   },
   "file_extension": ".py",
   "mimetype": "text/x-python",
   "name": "python",
   "nbconvert_exporter": "python",
   "pygments_lexer": "ipython3",
   "version": "3.6.13"
  },
  "toc": {
   "base_numbering": 1,
   "nav_menu": {},
   "number_sections": true,
   "sideBar": true,
   "skip_h1_title": false,
   "title_cell": "Table of Contents",
   "title_sidebar": "Contents",
   "toc_cell": false,
   "toc_position": {},
   "toc_section_display": true,
   "toc_window_display": false
  },
  "varInspector": {
   "cols": {
    "lenName": 16,
    "lenType": 16,
    "lenVar": 40
   },
   "kernels_config": {
    "python": {
     "delete_cmd_postfix": "",
     "delete_cmd_prefix": "del ",
     "library": "var_list.py",
     "varRefreshCmd": "print(var_dic_list())"
    },
    "r": {
     "delete_cmd_postfix": ") ",
     "delete_cmd_prefix": "rm(",
     "library": "var_list.r",
     "varRefreshCmd": "cat(var_dic_list()) "
    }
   },
   "types_to_exclude": [
    "module",
    "function",
    "builtin_function_or_method",
    "instance",
    "_Feature"
   ],
   "window_display": false
  }
 },
 "nbformat": 4,
 "nbformat_minor": 2
}
