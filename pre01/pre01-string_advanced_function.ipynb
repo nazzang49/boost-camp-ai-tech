{
 "cells": [
  {
   "cell_type": "code",
   "execution_count": 5,
   "metadata": {},
   "outputs": [
    {
     "data": {
      "text/plain": [
       "'abc'"
      ]
     },
     "execution_count": 5,
     "metadata": {},
     "output_type": "execute_result"
    }
   ],
   "source": [
    "# string\n",
    "a = 'abcde'\n",
    "a[:3]"
   ]
  },
  {
   "cell_type": "code",
   "execution_count": 6,
   "metadata": {},
   "outputs": [
    {
     "data": {
      "text/plain": [
       "False"
      ]
     },
     "execution_count": 6,
     "metadata": {},
     "output_type": "execute_result"
    }
   ],
   "source": [
    "a.isdigit()"
   ]
  },
  {
   "cell_type": "code",
   "execution_count": 7,
   "metadata": {},
   "outputs": [
    {
     "data": {
      "text/plain": [
       "'ABCDE'"
      ]
     },
     "execution_count": 7,
     "metadata": {},
     "output_type": "execute_result"
    }
   ],
   "source": [
    "a.upper()"
   ]
  },
  {
   "cell_type": "code",
   "execution_count": 8,
   "metadata": {},
   "outputs": [
    {
     "data": {
      "text/plain": [
       "'abcde'"
      ]
     },
     "execution_count": 8,
     "metadata": {},
     "output_type": "execute_result"
    }
   ],
   "source": [
    "a.lower()"
   ]
  },
  {
   "cell_type": "code",
   "execution_count": 9,
   "metadata": {},
   "outputs": [
    {
     "data": {
      "text/plain": [
       "['ab', 'de']"
      ]
     },
     "execution_count": 9,
     "metadata": {},
     "output_type": "execute_result"
    }
   ],
   "source": [
    "a.split('c')"
   ]
  },
  {
   "cell_type": "code",
   "execution_count": 10,
   "metadata": {},
   "outputs": [
    {
     "data": {
      "text/plain": [
       "True"
      ]
     },
     "execution_count": 10,
     "metadata": {},
     "output_type": "execute_result"
    }
   ],
   "source": [
    "a.startswith('a')"
   ]
  },
  {
   "cell_type": "code",
   "execution_count": 47,
   "metadata": {},
   "outputs": [
    {
     "data": {
      "text/plain": [
       "1"
      ]
     },
     "execution_count": 47,
     "metadata": {},
     "output_type": "execute_result"
    }
   ],
   "source": [
    "a.count('e')"
   ]
  },
  {
   "cell_type": "code",
   "execution_count": 16,
   "metadata": {},
   "outputs": [
    {
     "data": {
      "text/plain": [
       "4"
      ]
     },
     "execution_count": 16,
     "metadata": {},
     "output_type": "execute_result"
    }
   ],
   "source": [
    "# 해당 문자열이 시작되는 인덱스\n",
    "a.find('e')"
   ]
  },
  {
   "cell_type": "code",
   "execution_count": 19,
   "metadata": {},
   "outputs": [],
   "source": [
    "# 개행처리\n",
    "str = 'My name is \\n JYP'"
   ]
  },
  {
   "cell_type": "code",
   "execution_count": 20,
   "metadata": {},
   "outputs": [
    {
     "name": "stdout",
     "output_type": "stream",
     "text": [
      "My name is \n",
      " JYP\n"
     ]
    }
   ],
   "source": [
    "print(str)"
   ]
  },
  {
   "cell_type": "code",
   "execution_count": 23,
   "metadata": {},
   "outputs": [],
   "source": [
    "# r => raw string (개행처리 무시)\n",
    "str = r'My name is \\n JYP'"
   ]
  },
  {
   "cell_type": "code",
   "execution_count": 24,
   "metadata": {},
   "outputs": [
    {
     "name": "stdout",
     "output_type": "stream",
     "text": [
      "My name is \\n JYP\n"
     ]
    }
   ],
   "source": [
    "print(str)"
   ]
  },
  {
   "cell_type": "code",
   "execution_count": 25,
   "metadata": {},
   "outputs": [],
   "source": [
    "# 싱글 or 더블 쿼트 3개 => 명시적으로 개행처리 하지 않아도 표현 가능\n",
    "str = '''My\n",
    "name\n",
    "is\n",
    "JYP'''"
   ]
  },
  {
   "cell_type": "code",
   "execution_count": 26,
   "metadata": {},
   "outputs": [
    {
     "name": "stdout",
     "output_type": "stream",
     "text": [
      "My\n",
      "name\n",
      "is\n",
      "JYP\n"
     ]
    }
   ],
   "source": [
    "print(str)"
   ]
  },
  {
   "cell_type": "code",
   "execution_count": 33,
   "metadata": {},
   "outputs": [],
   "source": [
    "import wget"
   ]
  },
  {
   "cell_type": "code",
   "execution_count": 34,
   "metadata": {},
   "outputs": [
    {
     "name": "stdout",
     "output_type": "stream",
     "text": [
      "\r",
      "  0% [                                                                                  ]   0 / 638\r",
      "100% [..................................................................................] 638 / 638"
     ]
    }
   ],
   "source": [
    "url = \"https://raw.githubusercontent.com/TeamLab/introduction_to_python_TEAMLAB_MOOC/master/code/6/yesterday.txt\"\n",
    "wget.download(url)"
   ]
  },
  {
   "cell_type": "code",
   "execution_count": 43,
   "metadata": {},
   "outputs": [],
   "source": [
    "file = open('yesterday.txt', 'r')"
   ]
  },
  {
   "cell_type": "code",
   "execution_count": 44,
   "metadata": {},
   "outputs": [],
   "source": [
    "lyricks = file.readlines()\n",
    "file.close()"
   ]
  },
  {
   "cell_type": "code",
   "execution_count": 45,
   "metadata": {
    "scrolled": false
   },
   "outputs": [
    {
     "data": {
      "text/plain": [
       "['Yesterday, all my troubles seemed so far away\\n',\n",
       " \"Now it looks as though they're here to stay\\n\",\n",
       " 'oh, I believe in yesterday\\n',\n",
       " '\\n',\n",
       " \"Suddenly, I'm not half the man I used to be\\n\",\n",
       " \"There's a shadow hanging over me\\n\",\n",
       " 'Oh, yesterday came suddenly.\\n',\n",
       " '\\n',\n",
       " 'Why she had to go?\\n',\n",
       " \"I don't know, she wouldn't say\\n\",\n",
       " 'I said something wrong\\n',\n",
       " 'Now I long for yesterday.\\n',\n",
       " '\\n',\n",
       " 'Yesterday love was such an easy game to play\\n',\n",
       " 'Now I need a place to hide away\\n',\n",
       " 'Oh, I believe in yesterday.\\n',\n",
       " '\\n',\n",
       " 'Why she had to go?\\n',\n",
       " \"I don't know, she wouldn't say\\n\",\n",
       " 'I said something wrong\\n',\n",
       " 'Now I long for yesterday.\\n',\n",
       " '\\n',\n",
       " 'Yesterday love was such an easy game to play\\n',\n",
       " 'Now I need a place to hide away\\n',\n",
       " 'Oh, I believe in yesterday...\\n']"
      ]
     },
     "execution_count": 45,
     "metadata": {},
     "output_type": "execute_result"
    }
   ],
   "source": [
    "lyricks"
   ]
  },
  {
   "cell_type": "code",
   "execution_count": 57,
   "metadata": {},
   "outputs": [
    {
     "name": "stdout",
     "output_type": "stream",
     "text": [
      "Yesterday, all my troubles seemed so far away\n",
      "Now it looks as though they're here to stay\n",
      "oh, I believe in yesterday\n",
      "\n",
      "Suddenly, I'm not half the man I used to be\n",
      "There's a shadow hanging over me\n",
      "Oh, yesterday came suddenly.\n",
      "\n",
      "Why she had to go?\n",
      "I don't know, she wouldn't say\n",
      "I said something wrong\n",
      "Now I long for yesterday.\n",
      "\n",
      "Yesterday love was such an easy game to play\n",
      "Now I need a place to hide away\n",
      "Oh, I believe in yesterday.\n",
      "\n",
      "Why she had to go?\n",
      "I don't know, she wouldn't say\n",
      "I said something wrong\n",
      "Now I long for yesterday.\n",
      "\n",
      "Yesterday love was such an easy game to play\n",
      "Now I need a place to hide away\n",
      "Oh, I believe in yesterday...\n"
     ]
    },
    {
     "data": {
      "text/plain": [
       "9"
      ]
     },
     "execution_count": 57,
     "metadata": {},
     "output_type": "execute_result"
    }
   ],
   "source": [
    "# yesterday 등장 횟수\n",
    "final_lyricks = ''\n",
    "for line in lyricks:\n",
    "    # 마지막 줄 => 반복 종료\n",
    "    print(line.strip())\n",
    "    if not line:\n",
    "        break\n",
    "    final_lyricks = final_lyricks + line.strip()\n",
    "\n",
    "cnt = final_lyricks.lower().count('yesterday')\n",
    "cnt"
   ]
  },
  {
   "cell_type": "code",
   "execution_count": 66,
   "metadata": {},
   "outputs": [
    {
     "name": "stdout",
     "output_type": "stream",
     "text": [
      "[1]\n"
     ]
    },
    {
     "data": {
      "text/plain": [
       "[4, 5, 2, 3]"
      ]
     },
     "execution_count": 66,
     "metadata": {},
     "output_type": "execute_result"
    }
   ],
   "source": [
    "# 객체 참조에 의한 호출\n",
    "def test(b):\n",
    "    # a 배열에도 추가\n",
    "    b.append(2)\n",
    "    b.append(3)\n",
    "    \n",
    "    # b 배열 참조 주소 변경\n",
    "    b = [1]\n",
    "    print(b)\n",
    "\n",
    "a = [4, 5]\n",
    "test(a)\n",
    "a"
   ]
  },
  {
   "cell_type": "code",
   "execution_count": 69,
   "metadata": {},
   "outputs": [
    {
     "name": "stdout",
     "output_type": "stream",
     "text": [
      "abcde\n",
      "cdefg\n"
     ]
    },
    {
     "data": {
      "text/plain": [
       "'cdefg'"
      ]
     },
     "execution_count": 69,
     "metadata": {},
     "output_type": "execute_result"
    }
   ],
   "source": [
    "# 전역변수\n",
    "b = 'abcde'\n",
    "def global_check(a):\n",
    "    global b\n",
    "    # 전역변수 변경\n",
    "    b = 'cdefg'\n",
    "    print(a)\n",
    "    print(b)\n",
    "\n",
    "global_check('abcde')\n",
    "b"
   ]
  },
  {
   "cell_type": "code",
   "execution_count": 71,
   "metadata": {},
   "outputs": [
    {
     "name": "stdout",
     "output_type": "stream",
     "text": [
      "test\n"
     ]
    }
   ],
   "source": [
    "# 함수 타입 명시 힌트 => 파라미터 타입 / 리턴 타입 지정 가능\n",
    "def test_a(a: str) -> str:\n",
    "    return f'{a}'\n",
    "print(test_a('test'))"
   ]
  },
  {
   "cell_type": "code",
   "execution_count": 76,
   "metadata": {},
   "outputs": [],
   "source": [
    "# docstring\n",
    "def test_b(a, b):\n",
    "    \"\"\"\n",
    "    1) 전반적인 함수 설명\n",
    "    Calculating sum of two parameters.\n",
    "    \n",
    "        2) 파라미터 설명\n",
    "        :param a (int): one of two numbers\n",
    "        :param b (int): one of two numbers\n",
    "        :return (int): sum of two numbers\n",
    "    \"\"\"\n",
    "    return a + b"
   ]
  },
  {
   "cell_type": "code",
   "execution_count": 74,
   "metadata": {
    "scrolled": true
   },
   "outputs": [
    {
     "name": "stdout",
     "output_type": "stream",
     "text": [
      "Collecting flake8\n",
      "  Downloading flake8-3.9.2-py2.py3-none-any.whl (73 kB)\n",
      "Requirement already satisfied: importlib-metadata in c:\\anaconda3\\lib\\site-packages (from flake8) (0.23)\n",
      "Collecting pycodestyle<2.8.0,>=2.7.0\n",
      "  Downloading pycodestyle-2.7.0-py2.py3-none-any.whl (41 kB)\n",
      "Collecting pyflakes<2.4.0,>=2.3.0\n"
     ]
    },
    {
     "name": "stderr",
     "output_type": "stream",
     "text": [
      "WARNING: Ignoring invalid distribution -umpy (c:\\anaconda3\\lib\\site-packages)\n",
      "WARNING: Ignoring invalid distribution -atplotlib (c:\\anaconda3\\lib\\site-packages)\n",
      "WARNING: Ignoring invalid distribution -umpy (c:\\anaconda3\\lib\\site-packages)\n",
      "WARNING: Ignoring invalid distribution -atplotlib (c:\\anaconda3\\lib\\site-packages)\n",
      "WARNING: Ignoring invalid distribution -umpy (c:\\anaconda3\\lib\\site-packages)\n",
      "WARNING: Ignoring invalid distribution -atplotlib (c:\\anaconda3\\lib\\site-packages)\n",
      "    WARNING: Ignoring invalid distribution -umpy (c:\\anaconda3\\lib\\site-packages)\n",
      "    WARNING: Ignoring invalid distribution -atplotlib (c:\\anaconda3\\lib\\site-packages)\n",
      "    WARNING: Ignoring invalid distribution -umpy (c:\\anaconda3\\lib\\site-packages)\n",
      "    WARNING: Ignoring invalid distribution -atplotlib (c:\\anaconda3\\lib\\site-packages)\n",
      "WARNING: Ignoring invalid distribution -umpy (c:\\anaconda3\\lib\\site-packages)\n",
      "WARNING: Ignoring invalid distribution -atplotlib (c:\\anaconda3\\lib\\site-packages)\n",
      "WARNING: Ignoring invalid distribution -umpy (c:\\anaconda3\\lib\\site-packages)\n",
      "WARNING: Ignoring invalid distribution -atplotlib (c:\\anaconda3\\lib\\site-packages)\n",
      "WARNING: Ignoring invalid distribution -umpy (c:\\anaconda3\\lib\\site-packages)\n",
      "WARNING: Ignoring invalid distribution -atplotlib (c:\\anaconda3\\lib\\site-packages)\n",
      "ERROR: pip's dependency resolver does not currently take into account all the packages that are installed. This behaviour is the source of the following dependency conflicts.\n",
      "spyder 3.3.6 requires pyqt5<5.13; python_version >= \"3\", which is not installed.\n",
      "spyder 3.3.6 requires pyqtwebengine<5.13; python_version >= \"3\", which is not installed.\n",
      "WARNING: Ignoring invalid distribution -umpy (c:\\anaconda3\\lib\\site-packages)\n",
      "WARNING: Ignoring invalid distribution -atplotlib (c:\\anaconda3\\lib\\site-packages)\n",
      "WARNING: Ignoring invalid distribution -umpy (c:\\anaconda3\\lib\\site-packages)\n",
      "WARNING: Ignoring invalid distribution -atplotlib (c:\\anaconda3\\lib\\site-packages)\n"
     ]
    },
    {
     "name": "stdout",
     "output_type": "stream",
     "text": [
      "  Downloading pyflakes-2.3.1-py2.py3-none-any.whl (68 kB)\n",
      "Requirement already satisfied: mccabe<0.7.0,>=0.6.0 in c:\\anaconda3\\lib\\site-packages (from flake8) (0.6.1)\n",
      "Requirement already satisfied: zipp>=0.5 in c:\\anaconda3\\lib\\site-packages (from importlib-metadata->flake8) (0.6.0)\n",
      "Requirement already satisfied: more-itertools in c:\\anaconda3\\lib\\site-packages (from zipp>=0.5->importlib-metadata->flake8) (7.2.0)\n",
      "Installing collected packages: pyflakes, pycodestyle, flake8\n",
      "  Attempting uninstall: pyflakes\n",
      "    Found existing installation: pyflakes 2.1.1\n",
      "    Uninstalling pyflakes-2.1.1:\n",
      "      Successfully uninstalled pyflakes-2.1.1\n",
      "  Attempting uninstall: pycodestyle\n",
      "    Found existing installation: pycodestyle 2.5.0\n",
      "    Uninstalling pycodestyle-2.5.0:\n",
      "      Successfully uninstalled pycodestyle-2.5.0\n",
      "Successfully installed flake8-3.9.2 pycodestyle-2.7.0 pyflakes-2.3.1\n"
     ]
    }
   ],
   "source": [
    "!pip install flake8"
   ]
  },
  {
   "cell_type": "code",
   "execution_count": 75,
   "metadata": {
    "scrolled": true
   },
   "outputs": [
    {
     "name": "stdout",
     "output_type": "stream",
     "text": [
      "Collecting black\n",
      "  Downloading black-21.6b0-py3-none-any.whl (140 kB)\n",
      "Collecting toml>=0.10.1\n",
      "  Downloading toml-0.10.2-py2.py3-none-any.whl (16 kB)\n",
      "Collecting typed-ast>=1.4.2\n",
      "  Downloading typed_ast-1.4.3-cp37-cp37m-win_amd64.whl (155 kB)\n",
      "Requirement already satisfied: typing-extensions>=3.7.4 in c:\\anaconda3\\lib\\site-packages (from black) (3.7.4.3)\n",
      "Collecting pathspec<1,>=0.8.1\n",
      "  Downloading pathspec-0.8.1-py2.py3-none-any.whl (28 kB)\n",
      "Collecting mypy-extensions>=0.4.3\n",
      "  Downloading mypy_extensions-0.4.3-py2.py3-none-any.whl (4.5 kB)\n",
      "Requirement already satisfied: appdirs in c:\\anaconda3\\lib\\site-packages (from black) (1.4.4)\n",
      "Collecting regex>=2020.1.8\n",
      "  Downloading regex-2021.7.6-cp37-cp37m-win_amd64.whl (270 kB)\n",
      "Collecting click>=7.1.2\n",
      "  Downloading click-8.0.1-py3-none-any.whl (97 kB)\n",
      "Requirement already satisfied: colorama in c:\\anaconda3\\lib\\site-packages (from click>=7.1.2->black) (0.4.1)\n",
      "Requirement already satisfied: importlib-metadata in c:\\anaconda3\\lib\\site-packages (from click>=7.1.2->black) (0.23)\n",
      "Requirement already satisfied: zipp>=0.5 in c:\\anaconda3\\lib\\site-packages (from importlib-metadata->click>=7.1.2->black) (0.6.0)\n",
      "Requirement already satisfied: more-itertools in c:\\anaconda3\\lib\\site-packages (from zipp>=0.5->importlib-metadata->click>=7.1.2->black) (7.2.0)\n",
      "Installing collected packages: typed-ast, toml, regex, pathspec, mypy-extensions, click, black\n",
      "  Attempting uninstall: click\n",
      "    Found existing installation: Click 7.0\n",
      "    Uninstalling Click-7.0:\n",
      "      Successfully uninstalled Click-7.0\n",
      "Successfully installed black-21.6b0 click-8.0.1 mypy-extensions-0.4.3 pathspec-0.8.1 regex-2021.7.6 toml-0.10.2 typed-ast-1.4.3\n"
     ]
    },
    {
     "name": "stderr",
     "output_type": "stream",
     "text": [
      "WARNING: Ignoring invalid distribution -umpy (c:\\anaconda3\\lib\\site-packages)\n",
      "WARNING: Ignoring invalid distribution -atplotlib (c:\\anaconda3\\lib\\site-packages)\n",
      "WARNING: Ignoring invalid distribution -umpy (c:\\anaconda3\\lib\\site-packages)\n",
      "WARNING: Ignoring invalid distribution -atplotlib (c:\\anaconda3\\lib\\site-packages)\n",
      "WARNING: Ignoring invalid distribution -umpy (c:\\anaconda3\\lib\\site-packages)\n",
      "WARNING: Ignoring invalid distribution -atplotlib (c:\\anaconda3\\lib\\site-packages)\n",
      "    WARNING: Ignoring invalid distribution -umpy (c:\\anaconda3\\lib\\site-packages)\n",
      "    WARNING: Ignoring invalid distribution -atplotlib (c:\\anaconda3\\lib\\site-packages)\n",
      "WARNING: Ignoring invalid distribution -umpy (c:\\anaconda3\\lib\\site-packages)\n",
      "WARNING: Ignoring invalid distribution -atplotlib (c:\\anaconda3\\lib\\site-packages)\n",
      "WARNING: Ignoring invalid distribution -umpy (c:\\anaconda3\\lib\\site-packages)\n",
      "WARNING: Ignoring invalid distribution -atplotlib (c:\\anaconda3\\lib\\site-packages)\n",
      "WARNING: Ignoring invalid distribution -umpy (c:\\anaconda3\\lib\\site-packages)\n",
      "WARNING: Ignoring invalid distribution -atplotlib (c:\\anaconda3\\lib\\site-packages)\n",
      "WARNING: Ignoring invalid distribution -umpy (c:\\anaconda3\\lib\\site-packages)\n",
      "WARNING: Ignoring invalid distribution -atplotlib (c:\\anaconda3\\lib\\site-packages)\n",
      "WARNING: Ignoring invalid distribution -umpy (c:\\anaconda3\\lib\\site-packages)\n",
      "WARNING: Ignoring invalid distribution -atplotlib (c:\\anaconda3\\lib\\site-packages)\n",
      "WARNING: Ignoring invalid distribution -umpy (c:\\anaconda3\\lib\\site-packages)\n",
      "WARNING: Ignoring invalid distribution -atplotlib (c:\\anaconda3\\lib\\site-packages)\n",
      "WARNING: Ignoring invalid distribution -umpy (c:\\anaconda3\\lib\\site-packages)\n",
      "WARNING: Ignoring invalid distribution -atplotlib (c:\\anaconda3\\lib\\site-packages)\n",
      "ERROR: pip's dependency resolver does not currently take into account all the packages that are installed. This behaviour is the source of the following dependency conflicts.\n",
      "astroid 2.3.1 requires six==1.12, but you have six 1.15.0 which is incompatible.\n",
      "astroid 2.3.1 requires wrapt==1.11.*, but you have wrapt 1.12.1 which is incompatible.\n",
      "WARNING: Ignoring invalid distribution -umpy (c:\\anaconda3\\lib\\site-packages)\n",
      "WARNING: Ignoring invalid distribution -atplotlib (c:\\anaconda3\\lib\\site-packages)\n",
      "WARNING: Ignoring invalid distribution -umpy (c:\\anaconda3\\lib\\site-packages)\n",
      "WARNING: Ignoring invalid distribution -atplotlib (c:\\anaconda3\\lib\\site-packages)\n"
     ]
    }
   ],
   "source": [
    "!pip install black"
   ]
  }
 ],
 "metadata": {
  "kernelspec": {
   "display_name": "gpuenv",
   "language": "python",
   "name": "gpuenv"
  },
  "language_info": {
   "codemirror_mode": {
    "name": "ipython",
    "version": 3
   },
   "file_extension": ".py",
   "mimetype": "text/x-python",
   "name": "python",
   "nbconvert_exporter": "python",
   "pygments_lexer": "ipython3",
   "version": "3.6.13"
  },
  "toc": {
   "base_numbering": 1,
   "nav_menu": {},
   "number_sections": true,
   "sideBar": true,
   "skip_h1_title": false,
   "title_cell": "Table of Contents",
   "title_sidebar": "Contents",
   "toc_cell": false,
   "toc_position": {},
   "toc_section_display": true,
   "toc_window_display": false
  }
 },
 "nbformat": 4,
 "nbformat_minor": 2
}
