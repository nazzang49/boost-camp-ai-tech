{
  "nbformat": 4,
  "nbformat_minor": 0,
  "metadata": {
    "kernelspec": {
      "display_name": "gpuenv",
      "language": "python",
      "name": "gpuenv"
    },
    "language_info": {
      "codemirror_mode": {
        "name": "ipython",
        "version": 3
      },
      "file_extension": ".py",
      "mimetype": "text/x-python",
      "name": "python",
      "nbconvert_exporter": "python",
      "pygments_lexer": "ipython3",
      "version": "3.6.13"
    },
    "toc": {
      "base_numbering": 1,
      "nav_menu": {},
      "number_sections": true,
      "sideBar": true,
      "skip_h1_title": false,
      "title_cell": "Table of Contents",
      "title_sidebar": "Contents",
      "toc_cell": false,
      "toc_position": {},
      "toc_section_display": true,
      "toc_window_display": false
    },
    "colab": {
      "name": "condition and loop.ipynb",
      "provenance": [],
      "include_colab_link": true
    }
  },
  "cells": [
    {
      "cell_type": "markdown",
      "metadata": {
        "id": "view-in-github",
        "colab_type": "text"
      },
      "source": [
        "<a href=\"https://colab.research.google.com/github/nazzang49/boost-camp-ai-tech/blob/main/python/condition%20and%20loop.ipynb\" target=\"_parent\"><img src=\"https://colab.research.google.com/assets/colab-badge.svg\" alt=\"Open In Colab\"/></a>"
      ]
    },
    {
      "cell_type": "code",
      "metadata": {
        "id": "Z98oX3Mu5EEV"
      },
      "source": [
        "# == 값 비교\n",
        "# is 메모리 비교\n",
        "# -5 ~ 256 => 정적 메모리 영역 (값 비교로 간주)\n",
        "\n",
        "def test(x):\n",
        "    if x is 1:\n",
        "        print(\"This is One\")\n",
        "    elif x == 2:\n",
        "        print(\"This is Two\")\n",
        "    else:\n",
        "        print(\"This is Nothing\")"
      ],
      "execution_count": null,
      "outputs": []
    },
    {
      "cell_type": "code",
      "metadata": {
        "id": "ygAIT6wi5EEZ",
        "outputId": "a6896405-187e-45c7-e25b-391335b82d25"
      },
      "source": [
        "test(1)"
      ],
      "execution_count": null,
      "outputs": [
        {
          "output_type": "stream",
          "text": [
            "This is One\n"
          ],
          "name": "stdout"
        }
      ]
    },
    {
      "cell_type": "code",
      "metadata": {
        "id": "xCjL2VIW5EEb",
        "outputId": "2d87c501-55ca-4f7d-fdc5-6bb30a3f9a3c"
      },
      "source": [
        "# 0 => False / 1 => True\n",
        "if 1:\n",
        "    print('hello')\n",
        "else:\n",
        "    print('world')"
      ],
      "execution_count": null,
      "outputs": [
        {
          "output_type": "stream",
          "text": [
            "hello\n"
          ],
          "name": "stdout"
        }
      ]
    },
    {
      "cell_type": "code",
      "metadata": {
        "id": "L8-I6HSe5EEb",
        "outputId": "52fe68f9-2071-452f-92bc-01a093a3dc2b"
      },
      "source": [
        "# 논리 키워드\n",
        "# and / or / not\n",
        "a = 4\n",
        "b = 8\n",
        "if a == 4 and b == 8:\n",
        "    print(\"Right\")\n",
        "\n",
        "if not a == 5:\n",
        "    print(\"Right\")"
      ],
      "execution_count": null,
      "outputs": [
        {
          "output_type": "stream",
          "text": [
            "Right\n",
            "Right\n"
          ],
          "name": "stdout"
        }
      ]
    },
    {
      "cell_type": "code",
      "metadata": {
        "id": "XaE3Uv2Y5EEc",
        "outputId": "4c98a5e6-b83b-4a1b-e040-59b82b90019a"
      },
      "source": [
        "# all => all True -> True\n",
        "# any => one True -> True\n",
        "boolean_list = [True, False, False, True]\n",
        "all(boolean_list)\n",
        "any(boolean_list)"
      ],
      "execution_count": null,
      "outputs": [
        {
          "output_type": "execute_result",
          "data": {
            "text/plain": [
              "True"
            ]
          },
          "metadata": {
            "tags": []
          },
          "execution_count": 20
        }
      ]
    },
    {
      "cell_type": "code",
      "metadata": {
        "id": "0xfWVlFB5EEc",
        "outputId": "124c2c9a-ec66-4a9c-8b25-df92d364eae8"
      },
      "source": [
        "# 조건문 한줄로 작성\n",
        "value = 12\n",
        "flag = True if value % 2 == 0 else False\n",
        "flag"
      ],
      "execution_count": null,
      "outputs": [
        {
          "output_type": "execute_result",
          "data": {
            "text/plain": [
              "True"
            ]
          },
          "metadata": {
            "tags": []
          },
          "execution_count": 21
        }
      ]
    },
    {
      "cell_type": "code",
      "metadata": {
        "id": "PAk8Twfi5EEd",
        "outputId": "20f910ba-7522-428e-a1d1-e4445d1033f3"
      },
      "source": [
        "# 반복문\n",
        "for i in range(5):\n",
        "    print('hello')"
      ],
      "execution_count": null,
      "outputs": [
        {
          "output_type": "stream",
          "text": [
            "hello\n",
            "hello\n",
            "hello\n",
            "hello\n",
            "hello\n"
          ],
          "name": "stdout"
        }
      ]
    },
    {
      "cell_type": "code",
      "metadata": {
        "scrolled": true,
        "id": "9gn5Ejon5EEe",
        "outputId": "0852f20e-3c80-4eb4-a933-e75a62a6afe0"
      },
      "source": [
        "# 반복문 with 인덱스\n",
        "list = [5, 4, 3, 2, 1]\n",
        "for i, v in enumerate(list):\n",
        "    # format 2가지 방식\n",
        "    print(\"{0}: {1}\".format(i, v))\n",
        "    print(f\"{i}: {v}\")"
      ],
      "execution_count": null,
      "outputs": [
        {
          "output_type": "stream",
          "text": [
            "0: 5\n",
            "0: 5\n",
            "1: 4\n",
            "1: 4\n",
            "2: 3\n",
            "2: 3\n",
            "3: 2\n",
            "3: 2\n",
            "4: 1\n",
            "4: 1\n"
          ],
          "name": "stdout"
        }
      ]
    }
  ]
}