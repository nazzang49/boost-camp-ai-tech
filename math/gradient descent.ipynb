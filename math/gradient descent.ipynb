{
 "cells": [
  {
   "cell_type": "code",
   "execution_count": 8,
   "metadata": {},
   "outputs": [
    {
     "data": {
      "text/latex": [
       "$\\displaystyle \\operatorname{Poly}{\\left( 2 x + 3, x, domain=\\mathbb{Z} \\right)}$"
      ],
      "text/plain": [
       "Poly(2*x + 3, x, domain='ZZ')"
      ]
     },
     "execution_count": 8,
     "metadata": {},
     "output_type": "execute_result"
    }
   ],
   "source": [
    "import sympy as sym\n",
    "from sympy.abc import x\n",
    "\n",
    "# 미분 계산\n",
    "    # diff => 변화량 의미\n",
    "sym.diff(sym.poly(x ** 2 + 3 * x + 3), x)"
   ]
  },
  {
   "cell_type": "code",
   "execution_count": 23,
   "metadata": {},
   "outputs": [
    {
     "name": "stdout",
     "output_type": "stream",
     "text": [
      "[1.00000367 1.99999949 2.99999516]\n"
     ]
    }
   ],
   "source": [
    "# 경사하강법 테스트\n",
    "\n",
    "import numpy as np\n",
    "# X => input-V\n",
    "X = np.array([[1, 1], [1, 2], [2, 2], [2, 3]])\n",
    "\n",
    "# 실제 함수식\n",
    "y = np.dot(X, np.array([1, 2])) + 3\n",
    "\n",
    "# 베타 (기울기) 초기값 임의 설정\n",
    "beta_gd = [10.1, 15.1, -6.5]\n",
    "\n",
    "# 각 입력 행벡터에 원소 1추가 => (4 x 3) 행렬 만들기 / 테스트 목적으로 임의 변경\n",
    "X_ = np.array([np.append(x, [1]) for x in X])\n",
    "\n",
    "# @ => 행렬곱\n",
    "for t in range(5000):\n",
    "    # 잔차 = 실제값 - 예측값\n",
    "    error = y - X_ @ beta_gd\n",
    "    grad = -np.transpose(X_) @ error\n",
    "    \n",
    "    # 최적 기울기 = 기존 최적 기울기 - 새로운 기울기 * 학습률\n",
    "    beta_gd = beta_gd - grad * 0.01\n",
    "\n",
    "# 가설식이 극소값을 가질때의 beta_gd (최적 기울기)\n",
    "print(beta_gd)"
   ]
  }
 ],
 "metadata": {
  "kernelspec": {
   "display_name": "gpuenv",
   "language": "python",
   "name": "gpuenv"
  },
  "language_info": {
   "codemirror_mode": {
    "name": "ipython",
    "version": 3
   },
   "file_extension": ".py",
   "mimetype": "text/x-python",
   "name": "python",
   "nbconvert_exporter": "python",
   "pygments_lexer": "ipython3",
   "version": "3.6.13"
  },
  "toc": {
   "base_numbering": 1,
   "nav_menu": {},
   "number_sections": true,
   "sideBar": true,
   "skip_h1_title": false,
   "title_cell": "Table of Contents",
   "title_sidebar": "Contents",
   "toc_cell": false,
   "toc_position": {},
   "toc_section_display": true,
   "toc_window_display": false
  }
 },
 "nbformat": 4,
 "nbformat_minor": 2
}
