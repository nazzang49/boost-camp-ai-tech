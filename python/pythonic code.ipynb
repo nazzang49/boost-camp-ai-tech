{
  "nbformat": 4,
  "nbformat_minor": 0,
  "metadata": {
    "kernelspec": {
      "display_name": "gpuenv",
      "language": "python",
      "name": "gpuenv"
    },
    "language_info": {
      "codemirror_mode": {
        "name": "ipython",
        "version": 3
      },
      "file_extension": ".py",
      "mimetype": "text/x-python",
      "name": "python",
      "nbconvert_exporter": "python",
      "pygments_lexer": "ipython3",
      "version": "3.6.13"
    },
    "toc": {
      "base_numbering": 1,
      "nav_menu": {},
      "number_sections": true,
      "sideBar": true,
      "skip_h1_title": false,
      "title_cell": "Table of Contents",
      "title_sidebar": "Contents",
      "toc_cell": false,
      "toc_position": {},
      "toc_section_display": true,
      "toc_window_display": false
    },
    "colab": {
      "name": "pythonic code.ipynb",
      "provenance": [],
      "include_colab_link": true
    }
  },
  "cells": [
    {
      "cell_type": "markdown",
      "metadata": {
        "id": "view-in-github",
        "colab_type": "text"
      },
      "source": [
        "<a href=\"https://colab.research.google.com/github/nazzang49/boost-camp-ai-tech/blob/main/python/pythonic%20code.ipynb\" target=\"_parent\"><img src=\"https://colab.research.google.com/assets/colab-badge.svg\" alt=\"Open In Colab\"/></a>"
      ]
    },
    {
      "cell_type": "markdown",
      "metadata": {
        "id": "d4MbuslxPcG1"
      },
      "source": [
        "# Pythonic Code\n",
        "- 가독성 향상\n",
        "- 코드 간결성 향상\n",
        "- 다른 개발자들의 코드에 대한 이해도 향상"
      ]
    },
    {
      "cell_type": "code",
      "metadata": {
        "id": "am4Bu8NZPcG4",
        "outputId": "d614b7d9-23a5-4a14-d5ae-8a19c210e658"
      },
      "source": [
        "str_list = ['test', 'test1', 'test2', 'test3']\n",
        "# for 문 쓰지 않아도 됨\n",
        "str_join = ''.join(str_list)\n",
        "str_join"
      ],
      "execution_count": null,
      "outputs": [
        {
          "output_type": "execute_result",
          "data": {
            "text/plain": [
              "'testtest1test2test3'"
            ]
          },
          "metadata": {
            "tags": []
          },
          "execution_count": 1
        }
      ]
    },
    {
      "cell_type": "code",
      "metadata": {
        "id": "FhrAPN-3PcG7",
        "outputId": "2df1ce7f-3c51-44d6-aa79-6a2c832ebe1e"
      },
      "source": [
        "str = 'test,test1,test2,test3'\n",
        "b_list = str.split(',')\n",
        "b_list"
      ],
      "execution_count": null,
      "outputs": [
        {
          "output_type": "execute_result",
          "data": {
            "text/plain": [
              "['test', 'test1', 'test2', 'test3']"
            ]
          },
          "metadata": {
            "tags": []
          },
          "execution_count": 2
        }
      ]
    },
    {
      "cell_type": "code",
      "metadata": {
        "id": "oXXh5OZ8PcG8",
        "outputId": "8d560f55-79c4-4186-cb45-5fc7b4b87fb3"
      },
      "source": [
        "# for 문을 길게 늘여쓰는 것보다 한줄로 줄일 수 있으면 좋음\n",
        "result = [i for i in range(0, 10)]\n",
        "result"
      ],
      "execution_count": null,
      "outputs": [
        {
          "output_type": "execute_result",
          "data": {
            "text/plain": [
              "[0, 1, 2, 3, 4, 5, 6, 7, 8, 9]"
            ]
          },
          "metadata": {
            "tags": []
          },
          "execution_count": 5
        }
      ]
    },
    {
      "cell_type": "code",
      "metadata": {
        "id": "xLrbRHIrPcG8",
        "outputId": "dccff77f-87dc-4633-d403-1c02f5ec306c"
      },
      "source": [
        "# 짝수만 저장\n",
        "result = [i for i in range(0, 10) if i % 2 == 0]\n",
        "result"
      ],
      "execution_count": null,
      "outputs": [
        {
          "output_type": "execute_result",
          "data": {
            "text/plain": [
              "[0, 2, 4, 6, 8]"
            ]
          },
          "metadata": {
            "tags": []
          },
          "execution_count": 7
        }
      ]
    },
    {
      "cell_type": "code",
      "metadata": {
        "scrolled": true,
        "id": "UQyJ7AIYPcG9",
        "outputId": "81b6bb06-1ffc-4ff7-c3bd-009d684e046d"
      },
      "source": [
        "word1 = 'hello'\n",
        "word2 = 'world'\n",
        "# 중첩 for 문\n",
        "result = [i + j for i in word1 for j in word2]\n",
        "result"
      ],
      "execution_count": null,
      "outputs": [
        {
          "output_type": "execute_result",
          "data": {
            "text/plain": [
              "['hw',\n",
              " 'ho',\n",
              " 'hr',\n",
              " 'hl',\n",
              " 'hd',\n",
              " 'ew',\n",
              " 'eo',\n",
              " 'er',\n",
              " 'el',\n",
              " 'ed',\n",
              " 'lw',\n",
              " 'lo',\n",
              " 'lr',\n",
              " 'll',\n",
              " 'ld',\n",
              " 'lw',\n",
              " 'lo',\n",
              " 'lr',\n",
              " 'll',\n",
              " 'ld',\n",
              " 'ow',\n",
              " 'oo',\n",
              " 'or',\n",
              " 'ol',\n",
              " 'od']"
            ]
          },
          "metadata": {
            "tags": []
          },
          "execution_count": 8
        }
      ]
    },
    {
      "cell_type": "code",
      "metadata": {
        "scrolled": true,
        "id": "FzKXpE8lPcG-",
        "outputId": "bde67ae0-18b6-4a89-e176-84e6424d7891"
      },
      "source": [
        "import pprint\n",
        "result = [i + j if not(i == j) else 'test' for i in word1 for j in word2]\n",
        "pprint.pprint(result)"
      ],
      "execution_count": null,
      "outputs": [
        {
          "output_type": "stream",
          "text": [
            "['hw',\n",
            " 'ho',\n",
            " 'hr',\n",
            " 'hl',\n",
            " 'hd',\n",
            " 'ew',\n",
            " 'eo',\n",
            " 'er',\n",
            " 'el',\n",
            " 'ed',\n",
            " 'lw',\n",
            " 'lo',\n",
            " 'lr',\n",
            " 'test',\n",
            " 'ld',\n",
            " 'lw',\n",
            " 'lo',\n",
            " 'lr',\n",
            " 'test',\n",
            " 'ld',\n",
            " 'ow',\n",
            " 'test',\n",
            " 'or',\n",
            " 'ol',\n",
            " 'od']\n"
          ],
          "name": "stdout"
        }
      ]
    },
    {
      "cell_type": "code",
      "metadata": {
        "id": "JRSMja-ZPcG_"
      },
      "source": [
        "words = 'Aa Bb Cc'\n",
        "words_split = words.split()"
      ],
      "execution_count": null,
      "outputs": []
    },
    {
      "cell_type": "code",
      "metadata": {
        "id": "n_7N4xPePcHA",
        "outputId": "46e14b2e-6b21-4119-d789-181cb0e01dfe"
      },
      "source": [
        "# for 문 활용한 새로운 리스트 간편 생성\n",
        "result = [\n",
        "    [w.upper(), w.lower(), w] for w in words_split\n",
        "]\n",
        "# 출력 정갈하게 하고 싶을 때\n",
        "pprint.pprint(result)"
      ],
      "execution_count": null,
      "outputs": [
        {
          "output_type": "stream",
          "text": [
            "[['AA', 'aa', 'Aa'], ['BB', 'bb', 'Bb'], ['CC', 'cc', 'Cc']]\n"
          ],
          "name": "stdout"
        }
      ]
    },
    {
      "cell_type": "code",
      "metadata": {
        "id": "c74-MLGBPcHC",
        "outputId": "30071f52-9f5b-4090-a083-2701e3ab7f7b"
      },
      "source": [
        "# for 문간의 우선순위 => 다음과 같은 경우 word2 for 문이 우선순위가 높음 / 2차원 배열\n",
        "result = [[i + j for i in word1] for j in word2]\n",
        "result"
      ],
      "execution_count": null,
      "outputs": [
        {
          "output_type": "execute_result",
          "data": {
            "text/plain": [
              "[['hw', 'ew', 'lw', 'lw', 'ow'],\n",
              " ['ho', 'eo', 'lo', 'lo', 'oo'],\n",
              " ['hr', 'er', 'lr', 'lr', 'or'],\n",
              " ['hl', 'el', 'll', 'll', 'ol'],\n",
              " ['hd', 'ed', 'ld', 'ld', 'od']]"
            ]
          },
          "metadata": {
            "tags": []
          },
          "execution_count": 23
        }
      ]
    },
    {
      "cell_type": "code",
      "metadata": {
        "id": "WOYFqBh-PcHD",
        "outputId": "980f2ea4-f15d-456b-e591-bbe31dff1baa"
      },
      "source": [
        "# Enumerate => 반복\n",
        "d = ['test1', 'test2', 'test3']\n",
        "\n",
        "# i => index\n",
        "# v => value\n",
        "result = {i : v for i, v in enumerate(d)}\n",
        "result"
      ],
      "execution_count": null,
      "outputs": [
        {
          "output_type": "execute_result",
          "data": {
            "text/plain": [
              "{0: 'test1', 1: 'test2', 2: 'test3'}"
            ]
          },
          "metadata": {
            "tags": []
          },
          "execution_count": 29
        }
      ]
    },
    {
      "cell_type": "code",
      "metadata": {
        "id": "j7jtxCzLPcHD",
        "outputId": "d5ed3afa-5d36-499f-e101-914996e74ee2"
      },
      "source": [
        "# Zip => 두개의 리스트 or 튜플값 병렬 추출\n",
        "alist = [1, 2, 3]\n",
        "blist = [4, 5, 6]\n",
        "[[a, b] for a, b in zip(alist, blist)]"
      ],
      "execution_count": null,
      "outputs": [
        {
          "output_type": "execute_result",
          "data": {
            "text/plain": [
              "[[1, 4], [2, 5], [3, 6]]"
            ]
          },
          "metadata": {
            "tags": []
          },
          "execution_count": 32
        }
      ]
    },
    {
      "cell_type": "code",
      "metadata": {
        "id": "xOLiD3TaPcHE"
      },
      "source": [
        "# Lambda => 함수 이름 없이 사용 가능한 일종의 익명함수\n",
        "result = [lambda x : 2 * x for x in alist]"
      ],
      "execution_count": null,
      "outputs": []
    },
    {
      "cell_type": "code",
      "metadata": {
        "id": "OfOSj5TnPcHF",
        "outputId": "607f3564-7f4e-4aed-fc97-ae3bd9cfc0df"
      },
      "source": [
        "# Map => 최근에는 많이 쓰지 않음\n",
        "ex = [1, 2, 3, 4, 5]\n",
        "f = lambda x : x ** 2\n",
        "result = list(map(f, ex))\n",
        "result"
      ],
      "execution_count": null,
      "outputs": [
        {
          "output_type": "execute_result",
          "data": {
            "text/plain": [
              "[1, 4, 9, 16, 25]"
            ]
          },
          "metadata": {
            "tags": []
          },
          "execution_count": 46
        }
      ]
    },
    {
      "cell_type": "code",
      "metadata": {
        "id": "uG4unf5oPcHF",
        "outputId": "bc3bd4bd-0aae-4a2e-a1a0-699fca0bb4bd"
      },
      "source": [
        "# 리스트 생성 시 최대한 간결하게 쓰는 것이 가독성 좋음\n",
        "[value ** 2 if value % 2 == 0 else value / 2 for value in alist]"
      ],
      "execution_count": null,
      "outputs": [
        {
          "output_type": "execute_result",
          "data": {
            "text/plain": [
              "[0.5, 4, 1.5]"
            ]
          },
          "metadata": {
            "tags": []
          },
          "execution_count": 49
        }
      ]
    },
    {
      "cell_type": "code",
      "metadata": {
        "id": "YEavrj9lPcHF",
        "outputId": "408b780c-2efe-4789-d2de-295c776d1045"
      },
      "source": [
        "# Generator => :yield 를 통해 iterable 객체를 한번에 하나의 원소만 리턴\n",
        "# 메모리 주소를 저장하고 있는 상태 => 메모리 긴축 효과 있음 (실제 호출 시점에 메모리 할당 됨)\n",
        "# 데이터 양이 많다면 Generator 쓰면 좋음\n",
        "\n",
        "# 일반적인 함수\n",
        "def a(value):\n",
        "    result = []\n",
        "    for i in range(value):\n",
        "        result.append(i)\n",
        "    return result\n",
        "print(a(10))\n",
        "\n",
        "# 함수 with :yield\n",
        "def b(value):\n",
        "    for i in range(value):\n",
        "        yield i\n",
        "print(b(10))"
      ],
      "execution_count": null,
      "outputs": [
        {
          "output_type": "stream",
          "text": [
            "[0, 1, 2, 3, 4, 5, 6, 7, 8, 9]\n",
            "<generator object b at 0x00000299935781A8>\n"
          ],
          "name": "stdout"
        }
      ]
    },
    {
      "cell_type": "code",
      "metadata": {
        "scrolled": true,
        "id": "2WkKb9XxPcHG",
        "outputId": "2a2b096c-62bb-4163-8547-63090aec8355"
      },
      "source": [
        "pprint.pprint([value for value in b(100)])"
      ],
      "execution_count": null,
      "outputs": [
        {
          "output_type": "stream",
          "text": [
            "[0,\n",
            " 1,\n",
            " 2,\n",
            " 3,\n",
            " 4,\n",
            " 5,\n",
            " 6,\n",
            " 7,\n",
            " 8,\n",
            " 9,\n",
            " 10,\n",
            " 11,\n",
            " 12,\n",
            " 13,\n",
            " 14,\n",
            " 15,\n",
            " 16,\n",
            " 17,\n",
            " 18,\n",
            " 19,\n",
            " 20,\n",
            " 21,\n",
            " 22,\n",
            " 23,\n",
            " 24,\n",
            " 25,\n",
            " 26,\n",
            " 27,\n",
            " 28,\n",
            " 29,\n",
            " 30,\n",
            " 31,\n",
            " 32,\n",
            " 33,\n",
            " 34,\n",
            " 35,\n",
            " 36,\n",
            " 37,\n",
            " 38,\n",
            " 39,\n",
            " 40,\n",
            " 41,\n",
            " 42,\n",
            " 43,\n",
            " 44,\n",
            " 45,\n",
            " 46,\n",
            " 47,\n",
            " 48,\n",
            " 49,\n",
            " 50,\n",
            " 51,\n",
            " 52,\n",
            " 53,\n",
            " 54,\n",
            " 55,\n",
            " 56,\n",
            " 57,\n",
            " 58,\n",
            " 59,\n",
            " 60,\n",
            " 61,\n",
            " 62,\n",
            " 63,\n",
            " 64,\n",
            " 65,\n",
            " 66,\n",
            " 67,\n",
            " 68,\n",
            " 69,\n",
            " 70,\n",
            " 71,\n",
            " 72,\n",
            " 73,\n",
            " 74,\n",
            " 75,\n",
            " 76,\n",
            " 77,\n",
            " 78,\n",
            " 79,\n",
            " 80,\n",
            " 81,\n",
            " 82,\n",
            " 83,\n",
            " 84,\n",
            " 85,\n",
            " 86,\n",
            " 87,\n",
            " 88,\n",
            " 89,\n",
            " 90,\n",
            " 91,\n",
            " 92,\n",
            " 93,\n",
            " 94,\n",
            " 95,\n",
            " 96,\n",
            " 97,\n",
            " 98,\n",
            " 99]\n"
          ],
          "name": "stdout"
        }
      ]
    },
    {
      "cell_type": "code",
      "metadata": {
        "id": "hAsHxaSFPcHG",
        "outputId": "e364b1b3-4c45-4b3a-bd17-c45f49fae268"
      },
      "source": [
        "# 할당된 메모리 용량 확인\n",
        "from sys import getsizeof\n",
        "print(getsizeof(a(10)))\n",
        "print(getsizeof(b(10)))\n",
        "# 원소 구성은 동일하지만, 실제 각 원소를 호출하기 전에는 메모리 할당량 차이가 크다"
      ],
      "execution_count": null,
      "outputs": [
        {
          "output_type": "stream",
          "text": [
            "192\n",
            "88\n"
          ],
          "name": "stdout"
        }
      ]
    },
    {
      "cell_type": "code",
      "metadata": {
        "id": "UlNsg3SdPcHH",
        "outputId": "6764cb8d-53ac-4c57-bb04-1a62cec4619a"
      },
      "source": [
        "# Keyword Args\n",
        "def print_something(name, age, addr):\n",
        "    print(f'{name}: {age}, {addr}')\n",
        "print_something('jyp', 30, 'seoul')\n",
        "\n",
        "# 키워드에 맞춰서 인자 입력 가능\n",
        "print_something(age = 20, name = 'jgp', addr = 'busan')"
      ],
      "execution_count": null,
      "outputs": [
        {
          "output_type": "stream",
          "text": [
            "jyp: 30, seoul\n",
            "jgp: 20, busan\n"
          ],
          "name": "stdout"
        }
      ]
    },
    {
      "cell_type": "code",
      "metadata": {
        "id": "CeA-NcUaPcHH",
        "outputId": "df109967-e589-4775-d91d-d52af05ec3e1"
      },
      "source": [
        "# 가변인자 => 인자 갯수 미리 정해놓지 않고 함수 생성\n",
        "def test(*args):\n",
        "    x, y, z = args\n",
        "    return x + y + z\n",
        "print(test(1, 2, 3))\n",
        "\n",
        "# 키워드 args => 키워드를 사용한 인자 입력 시 Dict 형태로 받아 줌 / 그 외 값만 입력된 경우 기본 가변인자로 인식\n",
        "def test_a(**kwargs):\n",
        "    print(kwargs)\n",
        "test_a(name = 'jyp', age = 30)\n",
        "\n",
        "print('=======================')\n",
        "\n",
        "# 혼용\n",
        "def test_final(a, b = 'test', *args, **kwargs):\n",
        "    print(a)\n",
        "    print(b)\n",
        "    print(args)\n",
        "    print(kwargs)\n",
        "test_final(100, 'test_jyp', 1, 2, 3, 4, 5, name=\"jgp\")"
      ],
      "execution_count": null,
      "outputs": [
        {
          "output_type": "stream",
          "text": [
            "6\n",
            "{'name': 'jyp', 'age': 30}\n",
            "=======================\n",
            "100\n",
            "test_jyp\n",
            "(1, 2, 3, 4, 5)\n",
            "{}\n"
          ],
          "name": "stdout"
        }
      ]
    },
    {
      "cell_type": "code",
      "metadata": {
        "id": "OumWDPp3PcHH",
        "outputId": "755be945-46bd-4c03-bc87-24022852ae8b"
      },
      "source": [
        "# asterisk (*) 기호 => 인자에 사용 시 언패킹 역할\n",
        "a = [1, 2, 3, 4]\n",
        "print(*a) # 4개의 인자로 인식"
      ],
      "execution_count": null,
      "outputs": [
        {
          "output_type": "stream",
          "text": [
            "1 2 3 4\n"
          ],
          "name": "stdout"
        }
      ]
    },
    {
      "cell_type": "code",
      "metadata": {
        "id": "B0w_7NqHPcHH",
        "outputId": "57df459a-ef61-448d-a6b1-1e99af859fad"
      },
      "source": [
        "a = ([1, 2], [2, 3], [3, 4])\n",
        "# for value in zip(*a):\n",
        "for value in zip(a):\n",
        "    print(value)\n",
        "# 언패킹 안해주면 tuple 로서 1개의 값으로 인식"
      ],
      "execution_count": null,
      "outputs": [
        {
          "output_type": "stream",
          "text": [
            "([1, 2],)\n",
            "([2, 3],)\n",
            "([3, 4],)\n"
          ],
          "name": "stdout"
        }
      ]
    }
  ]
}