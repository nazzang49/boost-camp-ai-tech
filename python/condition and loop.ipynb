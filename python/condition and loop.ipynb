{
 "cells": [
  {
   "cell_type": "code",
   "execution_count": 12,
   "metadata": {},
   "outputs": [],
   "source": [
    "# == 값 비교\n",
    "# is 메모리 비교\n",
    "# -5 ~ 256 => 정적 메모리 영역 (값 비교로 간주)\n",
    "\n",
    "def test(x):\n",
    "    if x is 1:\n",
    "        print(\"This is One\")\n",
    "    elif x == 2:\n",
    "        print(\"This is Two\")\n",
    "    else:\n",
    "        print(\"This is Nothing\")"
   ]
  },
  {
   "cell_type": "code",
   "execution_count": 13,
   "metadata": {},
   "outputs": [
    {
     "name": "stdout",
     "output_type": "stream",
     "text": [
      "This is One\n"
     ]
    }
   ],
   "source": [
    "test(1)"
   ]
  },
  {
   "cell_type": "code",
   "execution_count": 14,
   "metadata": {},
   "outputs": [
    {
     "name": "stdout",
     "output_type": "stream",
     "text": [
      "hello\n"
     ]
    }
   ],
   "source": [
    "# 0 => False / 1 => True\n",
    "if 1:\n",
    "    print('hello')\n",
    "else:\n",
    "    print('world')"
   ]
  },
  {
   "cell_type": "code",
   "execution_count": 18,
   "metadata": {},
   "outputs": [
    {
     "name": "stdout",
     "output_type": "stream",
     "text": [
      "Right\n",
      "Right\n"
     ]
    }
   ],
   "source": [
    "# 논리 키워드\n",
    "# and / or / not\n",
    "a = 4\n",
    "b = 8\n",
    "if a == 4 and b == 8:\n",
    "    print(\"Right\")\n",
    "\n",
    "if not a == 5:\n",
    "    print(\"Right\")"
   ]
  },
  {
   "cell_type": "code",
   "execution_count": 20,
   "metadata": {},
   "outputs": [
    {
     "data": {
      "text/plain": [
       "True"
      ]
     },
     "execution_count": 20,
     "metadata": {},
     "output_type": "execute_result"
    }
   ],
   "source": [
    "# all => all True -> True\n",
    "# any => one True -> True\n",
    "boolean_list = [True, False, False, True]\n",
    "all(boolean_list)\n",
    "any(boolean_list)"
   ]
  },
  {
   "cell_type": "code",
   "execution_count": 21,
   "metadata": {},
   "outputs": [
    {
     "data": {
      "text/plain": [
       "True"
      ]
     },
     "execution_count": 21,
     "metadata": {},
     "output_type": "execute_result"
    }
   ],
   "source": [
    "# 조건문 한줄로 작성\n",
    "value = 12\n",
    "flag = True if value % 2 == 0 else False\n",
    "flag"
   ]
  },
  {
   "cell_type": "code",
   "execution_count": 23,
   "metadata": {},
   "outputs": [
    {
     "name": "stdout",
     "output_type": "stream",
     "text": [
      "hello\n",
      "hello\n",
      "hello\n",
      "hello\n",
      "hello\n"
     ]
    }
   ],
   "source": [
    "# 반복문\n",
    "for i in range(5):\n",
    "    print('hello')"
   ]
  },
  {
   "cell_type": "code",
   "execution_count": 28,
   "metadata": {
    "scrolled": true
   },
   "outputs": [
    {
     "name": "stdout",
     "output_type": "stream",
     "text": [
      "0: 5\n",
      "0: 5\n",
      "1: 4\n",
      "1: 4\n",
      "2: 3\n",
      "2: 3\n",
      "3: 2\n",
      "3: 2\n",
      "4: 1\n",
      "4: 1\n"
     ]
    }
   ],
   "source": [
    "# 반복문 with 인덱스\n",
    "list = [5, 4, 3, 2, 1]\n",
    "for i, v in enumerate(list):\n",
    "    # format 2가지 방식\n",
    "    print(\"{0}: {1}\".format(i, v))\n",
    "    print(f\"{i}: {v}\")"
   ]
  }
 ],
 "metadata": {
  "kernelspec": {
   "display_name": "gpuenv",
   "language": "python",
   "name": "gpuenv"
  },
  "language_info": {
   "codemirror_mode": {
    "name": "ipython",
    "version": 3
   },
   "file_extension": ".py",
   "mimetype": "text/x-python",
   "name": "python",
   "nbconvert_exporter": "python",
   "pygments_lexer": "ipython3",
   "version": "3.6.13"
  },
  "toc": {
   "base_numbering": 1,
   "nav_menu": {},
   "number_sections": true,
   "sideBar": true,
   "skip_h1_title": false,
   "title_cell": "Table of Contents",
   "title_sidebar": "Contents",
   "toc_cell": false,
   "toc_position": {},
   "toc_section_display": true,
   "toc_window_display": false
  }
 },
 "nbformat": 4,
 "nbformat_minor": 2
}
