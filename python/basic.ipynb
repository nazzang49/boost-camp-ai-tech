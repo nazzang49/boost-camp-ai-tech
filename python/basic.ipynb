{
  "nbformat": 4,
  "nbformat_minor": 0,
  "metadata": {
    "kernelspec": {
      "display_name": "gpuenv",
      "language": "python",
      "name": "gpuenv"
    },
    "language_info": {
      "codemirror_mode": {
        "name": "ipython",
        "version": 3
      },
      "file_extension": ".py",
      "mimetype": "text/x-python",
      "name": "python",
      "nbconvert_exporter": "python",
      "pygments_lexer": "ipython3",
      "version": "3.6.13"
    },
    "toc": {
      "base_numbering": 1,
      "nav_menu": {},
      "number_sections": true,
      "sideBar": true,
      "skip_h1_title": false,
      "title_cell": "Table of Contents",
      "title_sidebar": "Contents",
      "toc_cell": false,
      "toc_position": {},
      "toc_section_display": true,
      "toc_window_display": false
    },
    "colab": {
      "name": "basic.ipynb",
      "provenance": [],
      "include_colab_link": true
    }
  },
  "cells": [
    {
      "cell_type": "markdown",
      "metadata": {
        "id": "view-in-github",
        "colab_type": "text"
      },
      "source": [
        "<a href=\"https://colab.research.google.com/github/nazzang49/boost-camp-ai-tech/blob/main/python/basic.ipynb\" target=\"_parent\"><img src=\"https://colab.research.google.com/assets/colab-badge.svg\" alt=\"Open In Colab\"/></a>"
      ]
    },
    {
      "cell_type": "code",
      "metadata": {
        "id": "cag6oba1lMYN",
        "outputId": "7d09a21e-13a4-4901-aa25-d20fbb883673"
      },
      "source": [
        "colors = [\"red\", \"green\", \"yellow\", \"blue\", \"black\", \"white\"]\n",
        "print(colors)"
      ],
      "execution_count": null,
      "outputs": [
        {
          "output_type": "stream",
          "text": [
            "['red', 'green', 'yellow', 'blue', 'black', 'white']\n"
          ],
          "name": "stdout"
        }
      ]
    },
    {
      "cell_type": "code",
      "metadata": {
        "id": "ISACUsxClMYQ",
        "outputId": "a3325103-ff15-4f6a-f233-e5e9cb8c6c07"
      },
      "source": [
        "colors[:]"
      ],
      "execution_count": null,
      "outputs": [
        {
          "output_type": "execute_result",
          "data": {
            "text/plain": [
              "['red', 'green', 'yellow', 'blue', 'black', 'white']"
            ]
          },
          "metadata": {
            "tags": []
          },
          "execution_count": 14
        }
      ]
    },
    {
      "cell_type": "code",
      "metadata": {
        "id": "PjT8xBYklMYR",
        "outputId": "845c13d7-39f0-45f6-8b1c-81c2ee600028"
      },
      "source": [
        "colors[:len(colors) - 1]"
      ],
      "execution_count": null,
      "outputs": [
        {
          "output_type": "execute_result",
          "data": {
            "text/plain": [
              "['red', 'green', 'yellow', 'blue', 'black']"
            ]
          },
          "metadata": {
            "tags": []
          },
          "execution_count": 15
        }
      ]
    },
    {
      "cell_type": "code",
      "metadata": {
        "id": "12vcjONqlMYR",
        "outputId": "26becb02-3e49-43af-ad67-70101ab838fe"
      },
      "source": [
        "colors[2:4]"
      ],
      "execution_count": null,
      "outputs": [
        {
          "output_type": "execute_result",
          "data": {
            "text/plain": [
              "['yellow', 'blue']"
            ]
          },
          "metadata": {
            "tags": []
          },
          "execution_count": 16
        }
      ]
    },
    {
      "cell_type": "code",
      "metadata": {
        "id": "Y-KQxvJYlMYS",
        "outputId": "acdfef91-f903-437d-8450-61351a9375e1"
      },
      "source": [
        "colors[:-1]"
      ],
      "execution_count": null,
      "outputs": [
        {
          "output_type": "execute_result",
          "data": {
            "text/plain": [
              "['red', 'green', 'yellow', 'blue', 'black']"
            ]
          },
          "metadata": {
            "tags": []
          },
          "execution_count": 17
        }
      ]
    },
    {
      "cell_type": "code",
      "metadata": {
        "id": "J2mYYf7LlMYS",
        "outputId": "e2097bec-1fd1-40f5-8a1a-34e3f8e6cc8e"
      },
      "source": [
        "# 뒤쪽부터 시작\n",
        "colors[-1:]"
      ],
      "execution_count": null,
      "outputs": [
        {
          "output_type": "execute_result",
          "data": {
            "text/plain": [
              "['white']"
            ]
          },
          "metadata": {
            "tags": []
          },
          "execution_count": 18
        }
      ]
    },
    {
      "cell_type": "code",
      "metadata": {
        "id": "tlg-t_WVlMYT",
        "outputId": "6bee0b27-16b0-4d34-819a-22b7cb1c4987"
      },
      "source": [
        "# 4칸 이동\n",
        "colors[::4]"
      ],
      "execution_count": null,
      "outputs": [
        {
          "output_type": "execute_result",
          "data": {
            "text/plain": [
              "['red', 'black']"
            ]
          },
          "metadata": {
            "tags": []
          },
          "execution_count": 21
        }
      ]
    },
    {
      "cell_type": "code",
      "metadata": {
        "id": "Hx9PftcIlMYT"
      },
      "source": [
        "etc = ['1', '2', '3']"
      ],
      "execution_count": null,
      "outputs": []
    },
    {
      "cell_type": "code",
      "metadata": {
        "id": "vsaoa_xylMYU",
        "outputId": "e0c70fb9-6ff3-4ea4-f330-989eb583e059"
      },
      "source": [
        "print(colors + etc)"
      ],
      "execution_count": null,
      "outputs": [
        {
          "output_type": "stream",
          "text": [
            "['red', 'green', 'yellow', 'blue', 'black', 'white', '1', '2', '3']\n"
          ],
          "name": "stdout"
        }
      ]
    },
    {
      "cell_type": "code",
      "metadata": {
        "id": "hwBZFKSElMYU",
        "outputId": "86ba47f6-9a6e-4232-c278-f8cfd31db3e1"
      },
      "source": [
        "'1' in etc"
      ],
      "execution_count": null,
      "outputs": [
        {
          "output_type": "execute_result",
          "data": {
            "text/plain": [
              "True"
            ]
          },
          "metadata": {
            "tags": []
          },
          "execution_count": 26
        }
      ]
    },
    {
      "cell_type": "code",
      "metadata": {
        "id": "zWusDKM3lMYV",
        "outputId": "ba154396-75f4-4e3d-f2a3-b86edefd0904"
      },
      "source": [
        "'4' in etc"
      ],
      "execution_count": null,
      "outputs": [
        {
          "output_type": "execute_result",
          "data": {
            "text/plain": [
              "False"
            ]
          },
          "metadata": {
            "tags": []
          },
          "execution_count": 28
        }
      ]
    },
    {
      "cell_type": "code",
      "metadata": {
        "id": "SXocqOErlMYV"
      },
      "source": [
        "# value 기준 삭제\n",
        "colors.remove('black')"
      ],
      "execution_count": null,
      "outputs": []
    },
    {
      "cell_type": "code",
      "metadata": {
        "id": "JeMG88YPlMYW",
        "outputId": "2b362e42-5868-4b26-dfa6-12a915060bd5"
      },
      "source": [
        "colors"
      ],
      "execution_count": null,
      "outputs": [
        {
          "output_type": "execute_result",
          "data": {
            "text/plain": [
              "['red', 'green', 'yellow', 'blue', 'white']"
            ]
          },
          "metadata": {
            "tags": []
          },
          "execution_count": 31
        }
      ]
    },
    {
      "cell_type": "code",
      "metadata": {
        "id": "ddfukHxIlMYW"
      },
      "source": [
        "# index 기준 삭제\n",
        "del colors[0]"
      ],
      "execution_count": null,
      "outputs": []
    },
    {
      "cell_type": "code",
      "metadata": {
        "id": "qOGvi54DlMYW",
        "outputId": "4b31dc3b-626b-4bb7-a945-fd6186792768"
      },
      "source": [
        "colors"
      ],
      "execution_count": null,
      "outputs": [
        {
          "output_type": "execute_result",
          "data": {
            "text/plain": [
              "['green', 'yellow', 'blue', 'white']"
            ]
          },
          "metadata": {
            "tags": []
          },
          "execution_count": 33
        }
      ]
    },
    {
      "cell_type": "code",
      "metadata": {
        "id": "XLzNdFsNlMYW"
      },
      "source": [
        "# 자료형 달라도 함께 선언 가능\n",
        "a = ['black', 1, 4.5]"
      ],
      "execution_count": null,
      "outputs": []
    },
    {
      "cell_type": "code",
      "metadata": {
        "id": "no0qYt3clMYX",
        "outputId": "fce20cb7-46f8-4222-baa3-a0912ecf0d05"
      },
      "source": [
        "a"
      ],
      "execution_count": null,
      "outputs": [
        {
          "output_type": "execute_result",
          "data": {
            "text/plain": [
              "['black', 1, 4.5]"
            ]
          },
          "metadata": {
            "tags": []
          },
          "execution_count": 37
        }
      ]
    },
    {
      "cell_type": "code",
      "metadata": {
        "id": "jm5CrFvrlMYX"
      },
      "source": [
        "# 메모리 주소 복사\n",
        "c = colors"
      ],
      "execution_count": null,
      "outputs": []
    },
    {
      "cell_type": "code",
      "metadata": {
        "id": "BdDb1Z1XlMYX",
        "outputId": "4e2fc2c0-ff17-44c5-8185-1ed41eba23dd"
      },
      "source": [
        "c"
      ],
      "execution_count": null,
      "outputs": [
        {
          "output_type": "execute_result",
          "data": {
            "text/plain": [
              "['yellow', 'blue', 'white']"
            ]
          },
          "metadata": {
            "tags": []
          },
          "execution_count": 40
        }
      ]
    },
    {
      "cell_type": "code",
      "metadata": {
        "id": "LjWGUSvWlMYY"
      },
      "source": [
        "colors[0] = 'green'"
      ],
      "execution_count": null,
      "outputs": []
    },
    {
      "cell_type": "code",
      "metadata": {
        "id": "P-OMjB7slMYY",
        "outputId": "79efb69b-99c9-423f-ce72-013ebc256bd1"
      },
      "source": [
        "c"
      ],
      "execution_count": null,
      "outputs": [
        {
          "output_type": "execute_result",
          "data": {
            "text/plain": [
              "['green', 'blue', 'white']"
            ]
          },
          "metadata": {
            "tags": []
          },
          "execution_count": 42
        }
      ]
    },
    {
      "cell_type": "code",
      "metadata": {
        "id": "uBKW2i72lMYY"
      },
      "source": [
        "# 값만 복사\n",
        "d = colors.copy()"
      ],
      "execution_count": null,
      "outputs": []
    },
    {
      "cell_type": "code",
      "metadata": {
        "id": "gWzedudMlMYY"
      },
      "source": [
        "d"
      ],
      "execution_count": null,
      "outputs": []
    },
    {
      "cell_type": "code",
      "metadata": {
        "id": "-ZBc7_uqlMYY"
      },
      "source": [
        "colors[0] = 'purple'"
      ],
      "execution_count": null,
      "outputs": []
    },
    {
      "cell_type": "code",
      "metadata": {
        "id": "yalULglZlMYZ"
      },
      "source": [
        "# 정렬\n",
        "d.sort()"
      ],
      "execution_count": null,
      "outputs": []
    },
    {
      "cell_type": "code",
      "metadata": {
        "id": "SEvdjDudlMYZ",
        "outputId": "b28d04ea-5fec-4ef4-9425-1a2d81e72ac7"
      },
      "source": [
        "d"
      ],
      "execution_count": null,
      "outputs": [
        {
          "output_type": "execute_result",
          "data": {
            "text/plain": [
              "['blue', 'purple', 'white']"
            ]
          },
          "metadata": {
            "tags": []
          },
          "execution_count": 54
        }
      ]
    },
    {
      "cell_type": "code",
      "metadata": {
        "id": "WzDK0_hOlMYZ"
      },
      "source": [
        "# 언패킹\n",
        "a, b, c = [1, 2, 3]"
      ],
      "execution_count": null,
      "outputs": []
    },
    {
      "cell_type": "code",
      "metadata": {
        "id": "KjX0UvIAlMYZ"
      },
      "source": [
        "math_score = [1, 2, 3]\n",
        "korean_score = [4, 5, 6]\n",
        "english_score = [7, 8, 9]"
      ],
      "execution_count": null,
      "outputs": []
    },
    {
      "cell_type": "code",
      "metadata": {
        "id": "zK2e1_jAlMYZ"
      },
      "source": [
        "# 2차원 배열 생성\n",
        "all_score = [math_score, korean_score, english_score]"
      ],
      "execution_count": null,
      "outputs": []
    },
    {
      "cell_type": "code",
      "metadata": {
        "id": "42xrrMuulMYZ",
        "outputId": "26c9fbeb-4e24-4fc4-c688-3002c1eb7af5"
      },
      "source": [
        "all_score"
      ],
      "execution_count": null,
      "outputs": [
        {
          "output_type": "execute_result",
          "data": {
            "text/plain": [
              "[[1, 2, 3], [4, 5, 6], [7, 8, 9]]"
            ]
          },
          "metadata": {
            "tags": []
          },
          "execution_count": 67
        }
      ]
    },
    {
      "cell_type": "code",
      "metadata": {
        "id": "v0O6IIaHlMYa"
      },
      "source": [
        "backup_score = all_score.copy()"
      ],
      "execution_count": null,
      "outputs": []
    },
    {
      "cell_type": "code",
      "metadata": {
        "id": "77egBpBrlMYa",
        "outputId": "21b65773-36b1-45d1-a48c-5119f4666c34"
      },
      "source": [
        "backup_score"
      ],
      "execution_count": null,
      "outputs": [
        {
          "output_type": "execute_result",
          "data": {
            "text/plain": [
              "[[1, 2, 3], [4, 5, 6], [7, 8, 9]]"
            ]
          },
          "metadata": {
            "tags": []
          },
          "execution_count": 70
        }
      ]
    },
    {
      "cell_type": "code",
      "metadata": {
        "id": "iOrdjVKVlMYa",
        "outputId": "8bc2c6c9-8216-4f9d-e5d1-2ab61a0a849e"
      },
      "source": [
        "all_score[0][2] = 100\n",
        "all_score"
      ],
      "execution_count": null,
      "outputs": [
        {
          "output_type": "execute_result",
          "data": {
            "text/plain": [
              "[[1, 2, 100], [4, 5, 6], [7, 8, 9]]"
            ]
          },
          "metadata": {
            "tags": []
          },
          "execution_count": 72
        }
      ]
    },
    {
      "cell_type": "code",
      "metadata": {
        "id": "WYDkyyh2lMYa",
        "outputId": "5d420652-2675-47cc-aaf6-139098157852"
      },
      "source": [
        "backup_score"
      ],
      "execution_count": null,
      "outputs": [
        {
          "output_type": "execute_result",
          "data": {
            "text/plain": [
              "[[1, 2, 100], [4, 5, 6], [7, 8, 9]]"
            ]
          },
          "metadata": {
            "tags": []
          },
          "execution_count": 73
        }
      ]
    },
    {
      "cell_type": "code",
      "metadata": {
        "id": "1wwyvEf3lMYa"
      },
      "source": [
        "import copy"
      ],
      "execution_count": null,
      "outputs": []
    },
    {
      "cell_type": "code",
      "metadata": {
        "id": "e5q0WftjlMYa",
        "outputId": "47f62493-43b8-48c5-d5da-f3efb5e5e80f"
      },
      "source": [
        "# 2차원 배열 복사 => deepcopy\n",
        "final_score = copy.deepcopy(all_score)\n",
        "final_score"
      ],
      "execution_count": null,
      "outputs": [
        {
          "output_type": "execute_result",
          "data": {
            "text/plain": [
              "[[1, 2, 100], [4, 5, 6], [7, 8, 9]]"
            ]
          },
          "metadata": {
            "tags": []
          },
          "execution_count": 75
        }
      ]
    },
    {
      "cell_type": "code",
      "metadata": {
        "id": "z5muwpdtlMYb",
        "outputId": "8cf28698-bdc7-49fe-9f26-f1b71b494151"
      },
      "source": [
        "all_score[0][2] = 400\n",
        "final_score"
      ],
      "execution_count": null,
      "outputs": [
        {
          "output_type": "execute_result",
          "data": {
            "text/plain": [
              "[[1, 2, 100], [4, 5, 6], [7, 8, 9]]"
            ]
          },
          "metadata": {
            "tags": []
          },
          "execution_count": 81
        }
      ]
    }
  ]
}