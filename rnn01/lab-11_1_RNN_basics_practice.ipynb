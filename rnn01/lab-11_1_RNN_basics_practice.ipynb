{
 "cells": [
  {
   "cell_type": "markdown",
   "metadata": {},
   "source": [
    "# RNN Basic"
   ]
  },
  {
   "cell_type": "code",
   "execution_count": 4,
   "metadata": {},
   "outputs": [
    {
     "data": {
      "text/plain": [
       "'\\n    RNN:\\n        rnn = torch.nn.RNN(input_size, output_size)\\n        outputs, _status = rnn(input_data)\\n'"
      ]
     },
     "execution_count": 4,
     "metadata": {},
     "output_type": "execute_result"
    }
   ],
   "source": [
    "'''\n",
    "    RNN:\n",
    "        rnn = torch.nn.RNN(input_size, output_size)\n",
    "        outputs, _status = rnn(input_data)\n",
    "'''"
   ]
  },
  {
   "cell_type": "code",
   "execution_count": 6,
   "metadata": {},
   "outputs": [],
   "source": [
    "import torch\n",
    "import numpy as np"
   ]
  },
  {
   "cell_type": "code",
   "execution_count": 8,
   "metadata": {},
   "outputs": [],
   "source": [
    "# example\n",
    "input_size = 4\n",
    "hidden_size = 2\n",
    "\n",
    "# 1-hot encoding\n",
    "h = [1, 0, 0, 0]\n",
    "e = [0, 1, 0, 0]\n",
    "l = [0, 0, 1, 0]\n",
    "o = [0, 0, 0, 1]\n",
    "\n",
    "# batch_size = 3 / sequence_length = 5\n",
    "input_data_np = np.array([[h, e, l, l, o],\n",
    "                         [e, o, l, l, l],\n",
    "                         [l, l, e, e, l]], dtype=np.float32)\n",
    "\n",
    "# numpy array to tensor\n",
    "input_data = torch.Tensor(input_data_np)\n",
    "\n",
    "# RNN\n",
    "rnn = torch.nn.RNN(input_size, hidden_size)\n",
    "\n",
    "# result => output and hidden status\n",
    "outputs, _status = rnn(input_data)"
   ]
  },
  {
   "cell_type": "code",
   "execution_count": 12,
   "metadata": {},
   "outputs": [
    {
     "name": "stdout",
     "output_type": "stream",
     "text": [
      "tensor([[[ 0.7396,  0.0490],\n",
      "         [ 0.3522, -0.5439],\n",
      "         [ 0.7655, -0.6279],\n",
      "         [ 0.7655, -0.6279],\n",
      "         [ 0.7841, -0.8291]],\n",
      "\n",
      "        [[ 0.1119, -0.6474],\n",
      "         [ 0.8224, -0.8915],\n",
      "         [ 0.7699, -0.8023],\n",
      "         [ 0.7699, -0.8023],\n",
      "         [ 0.7990, -0.8239]],\n",
      "\n",
      "        [[ 0.8444, -0.7423],\n",
      "         [ 0.8037, -0.8325],\n",
      "         [ 0.4202, -0.7736],\n",
      "         [ 0.4202, -0.7736],\n",
      "         [ 0.7965, -0.8245]]], grad_fn=<StackBackward>)\n",
      "tensor([[[ 0.8444, -0.7423],\n",
      "         [ 0.8037, -0.8325],\n",
      "         [ 0.4202, -0.7736],\n",
      "         [ 0.4202, -0.7736],\n",
      "         [ 0.7965, -0.8245]]], grad_fn=<StackBackward>)\n"
     ]
    }
   ],
   "source": [
    "print(outputs)\n",
    "print(_status)"
   ]
  }
 ],
 "metadata": {
  "kernelspec": {
   "display_name": "Python 3",
   "language": "python",
   "name": "python3"
  },
  "language_info": {
   "codemirror_mode": {
    "name": "ipython",
    "version": 3
   },
   "file_extension": ".py",
   "mimetype": "text/x-python",
   "name": "python",
   "nbconvert_exporter": "python",
   "pygments_lexer": "ipython3",
   "version": "3.6.7"
  }
 },
 "nbformat": 4,
 "nbformat_minor": 2
}
